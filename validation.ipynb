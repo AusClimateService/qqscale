{
 "cells": [
  {
   "cell_type": "markdown",
   "id": "87eda6bf",
   "metadata": {},
   "source": [
    "# Quantile-quantile (QQ) scaled climate projections"
   ]
  },
  {
   "cell_type": "code",
   "execution_count": null,
   "id": "824492d7",
   "metadata": {},
   "outputs": [],
   "source": [
    "import glob\n",
    "import calendar\n",
    "import sys\n",
    "import gc\n",
    "\n",
    "import xarray as xr\n",
    "from xclim import sdba\n",
    "import matplotlib.pyplot as plt\n",
    "import numpy as np\n",
    "import cartopy.crs as ccrs\n",
    "import xesmf as xe\n",
    "import dask.diagnostics\n",
    "import cmdline_provenance as cmdprov\n",
    "import dask\n",
    "import cmocean\n",
    "\n",
    "from calc_adjustment import read_data"
   ]
  },
  {
   "cell_type": "code",
   "execution_count": null,
   "id": "acd2d344",
   "metadata": {},
   "outputs": [],
   "source": [
    "dask.diagnostics.ProgressBar().register()"
   ]
  },
  {
   "cell_type": "code",
   "execution_count": null,
   "id": "1b5bfb53",
   "metadata": {
    "tags": [
     "parameters"
    ]
   },
   "outputs": [],
   "source": [
    "# Parameters\n",
    "example_lat = -42.9\n",
    "example_lon = 147.3\n",
    "example_month = 6"
   ]
  },
  {
   "cell_type": "code",
   "execution_count": null,
   "id": "adc2ba71",
   "metadata": {},
   "outputs": [],
   "source": [
    "# Required parameters\n",
    "assert 'hist_var' in locals(), \"Must provide an historical variable name (option -p hist_var {name})\"\n",
    "assert 'ref_var' in locals(), \"Must provide a reference variable name (option -p ref_var {name})\"\n",
    "assert 'target_var' in locals(), \"Must provide a target variable name (option -p target_var {name})\"\n",
    "assert 'hist_units' in locals(), \"Must provide historical units (option -p hist_units {units})\"\n",
    "assert 'ref_units' in locals(), \"Must provide reference units (option -p ref_units {units})\"\n",
    "assert 'target_units' in locals(), \"Must provide target units (option -p target_units {units})\"\n",
    "assert 'adjustment_file' in locals(), \"Must provide an adjustment factors file (option -p adjustment_file {file path})\"\n",
    "assert 'hist_files' in locals(), \"\"\"Must provide historical data files (option -p hist_files {\"file paths\"})\"\"\"\n",
    "assert 'ref_files' in locals(), \"\"\"Must provide reference data files (option -p ref_files {\"file paths\"})\"\"\"\n",
    "assert 'target_files' in locals(), \"\"\"Must provide target data files (option -p target_files {\"file paths\"})\"\"\"\n",
    "assert 'qq_file' in locals(), \"Must provide an qq-scaled data file (option -p qq_file {file path})\"\n",
    "assert 'hist_time_bounds' in locals(), \"\"\"Must provide time bounds for historical data (option -p hist_time_bounds {\"YYYY-MM-DD YYYY-MM-DD\"})\"\"\"\n",
    "assert 'ref_time_bounds' in locals(), \"\"\"Must provide time bounds for reference data (option -p ref_time_bounds {\"YYYY-MM-DD YYYY-MM-DD\"})\"\"\"\n",
    "assert 'obs_time_bounds' in locals(), \"\"\"Must provide time bounds for target data (option -p target_time_bounds {\"YYYY-MM-DD YYYY-MM-DD\"})\"\"\""
   ]
  },
  {
   "cell_type": "code",
   "execution_count": null,
   "id": "704dcf44",
   "metadata": {},
   "outputs": [],
   "source": [
    "hist_files = hist_files.split()\n",
    "ref_files = ref_files.split()\n",
    "target_files = target_files.split()\n",
    "\n",
    "hist_time_bounds = hist_time_bounds.split()\n",
    "ref_time_bounds = ref_time_bounds.split()\n",
    "target_time_bounds = target_time_bounds.split()\n",
    "\n",
    "if hist_var in ['tasmax']:\n",
    "    regular_cmap = 'hot_r'\n",
    "    diverging_cmap = 'RdBu_r'\n",
    "elif hist_var in ['tasmin']:\n",
    "    regular_cmap = cmocean.cm.ice\n",
    "    diverging_cmap = 'RdBu_r'\n",
    "elif hist_var in ['pr']:\n",
    "    regular_cmap = cmocean.cm.rain\n",
    "    diverging_cmap = 'BrBG'\n",
    "else:\n",
    "    raise ValueError(f'No cmap defined for {cmip_var}')"
   ]
  },
  {
   "cell_type": "markdown",
   "id": "f1e34fbc",
   "metadata": {},
   "source": [
    "## Read data"
   ]
  },
  {
   "cell_type": "code",
   "execution_count": null,
   "id": "1ef68a7e",
   "metadata": {},
   "outputs": [],
   "source": [
    "ds_target = read_data(\n",
    "    target_files,\n",
    "    target_var,\n",
    "    time_bounds=target_time_bounds,\n",
    "    input_units=target_units,\n",
    "    output_units=qq_units\n",
    ")"
   ]
  },
  {
   "cell_type": "code",
   "execution_count": null,
   "id": "5f74f486",
   "metadata": {},
   "outputs": [],
   "source": [
    "ds_target[target_var]"
   ]
  },
  {
   "cell_type": "code",
   "execution_count": null,
   "id": "12689618",
   "metadata": {},
   "outputs": [],
   "source": [
    "ds_hist = read_data(\n",
    "    hist_files,\n",
    "    cmip_var,\n",
    "    time_bounds=hist_time_bounds,\n",
    "    input_units=hist_units,\n",
    "    output_units=qq_units)\n",
    "ds_hist[hist_var]"
   ]
  },
  {
   "cell_type": "code",
   "execution_count": null,
   "id": "b41f0d1b",
   "metadata": {},
   "outputs": [],
   "source": [
    "ds_ref = read_data(\n",
    "    ref_files,\n",
    "    ref_var,\n",
    "    time_bounds=ref_time_bounds,\n",
    "    input_units=ref_units,\n",
    "    output_units=qq_units)\n",
    "ds_ref[ref_var]"
   ]
  },
  {
   "cell_type": "code",
   "execution_count": null,
   "id": "b0ad9850",
   "metadata": {},
   "outputs": [],
   "source": [
    "ds_adjust = xr.open_dataset(adjustment_file)\n",
    "qm = sdba.QuantileDeltaMapping.from_dataset(ds_adjust)"
   ]
  },
  {
   "cell_type": "code",
   "execution_count": null,
   "id": "0325bdbc",
   "metadata": {},
   "outputs": [],
   "source": [
    "ds_qq = xr.open_dataset(qq_file)"
   ]
  },
  {
   "cell_type": "code",
   "execution_count": null,
   "id": "0328fbc0",
   "metadata": {},
   "outputs": [],
   "source": [
    "lat_min_target = ds_qq['lat'].values.min()\n",
    "lat_max_target = ds_qq['lat'].values.max()\n",
    "lon_min_target = ds_qq['lon'].values.min()\n",
    "lon_max_target = ds_qq['lon'].values.max()"
   ]
  },
  {
   "cell_type": "code",
   "execution_count": null,
   "id": "fe7aea93",
   "metadata": {},
   "outputs": [],
   "source": [
    "print(lat_min_obs, lat_max_obs, lon_min_obs, lon_max_obs)"
   ]
  },
  {
   "cell_type": "markdown",
   "id": "45ee682b",
   "metadata": {},
   "source": [
    "## Quantile mapping"
   ]
  },
  {
   "cell_type": "code",
   "execution_count": null,
   "id": "bd9592d3",
   "metadata": {},
   "outputs": [],
   "source": [
    "def quantile_month_plot(da, cmap=None, diverging=False, point=None):\n",
    "    \"\"\"Create two dimensional month/quantile plot\"\"\"\n",
    "\n",
    "    fig, ax = plt.subplots(figsize=[16, 6])\n",
    "    if 'lat' in da.dims:\n",
    "        point_selection = {'lat': example_lat, 'lon': example_lon}\n",
    "    else:\n",
    "        point_selection = {}\n",
    "    quantiles = da.sel(point_selection, method='nearest')\n",
    "    if diverging:\n",
    "        abs_max = np.max(np.abs(quantiles.values))\n",
    "        vmax = abs_max\n",
    "        vmin = -1 * abs_max\n",
    "    else:\n",
    "        vmin = vmax = None\n",
    "    quantiles.transpose('month', 'quantiles').plot(cmap=cmap, vmax=vmax, vmin=vmin)\n",
    "    yticks = np.arange(1,13)\n",
    "    ytick_labels = [calendar.month_abbr[i] for i in yticks]\n",
    "    plt.yticks(yticks, ytick_labels)\n",
    "    ax.invert_yaxis()\n",
    "    plt.show()"
   ]
  },
  {
   "cell_type": "code",
   "execution_count": null,
   "id": "61445b57",
   "metadata": {},
   "outputs": [],
   "source": [
    "def quantile_spatial_plot(\n",
    "    da, month, lat_bounds=None, lon_bounds=None, cmap=None, diverging=False,\n",
    "):\n",
    "    \"\"\"Spatial plot of the 10th, 50th and 90th percentile\"\"\"\n",
    "    \n",
    "    da_selection = da.sel({'quantiles': [.1, .5, .9], 'month': month}, method='nearest')\n",
    "    if lat_bounds:\n",
    "        lat_min_obs, lat_max_obs = lat_bounds\n",
    "        da_selection = da_selection.sel(lat=slice(lat_min_obs, lat_max_obs))\n",
    "    if lon_bounds:\n",
    "        lon_min_obs, lon_max_obs = lon_bounds\n",
    "        da_selection = da_selection.sel(lon=slice(lon_min_obs, lon_max_obs))\n",
    "    if diverging:\n",
    "        abs_max = np.max(np.abs(da_selection.values))\n",
    "        vmax = abs_max\n",
    "        vmin = -1 * abs_max\n",
    "    else:\n",
    "        vmin = vmax = None\n",
    "    p = da_selection.plot(\n",
    "        col='quantiles',\n",
    "        transform=ccrs.PlateCarree(),\n",
    "        cmap=cmap,\n",
    "        figsize=[20, 5.5],\n",
    "        subplot_kws={'projection': ccrs.PlateCarree(),},\n",
    "        vmax=vmax,\n",
    "        vmin=vmin,\n",
    "    )\n",
    "    for ax in p.axes.flat:\n",
    "        ax.coastlines()\n",
    "        ax.plot(example_lon, example_lat, 'go', zorder=5, transform=ccrs.PlateCarree())\n",
    "    plt.suptitle(calendar.month_name[month])\n",
    "    plt.show()"
   ]
  },
  {
   "cell_type": "code",
   "execution_count": null,
   "id": "eec4f42e",
   "metadata": {},
   "outputs": [],
   "source": [
    "if 'lat' in qm.ds.dims:\n",
    "    quantile_spatial_plot(\n",
    "        qm.ds['hist_q'],\n",
    "        example_month,\n",
    "        lat_bounds=[lat_min_obs, lat_max_obs],\n",
    "        lon_bounds=[lon_min_obs, lon_max_obs],\n",
    "        cmap=regular_cmap,\n",
    "    )"
   ]
  },
  {
   "cell_type": "code",
   "execution_count": null,
   "id": "4339e721",
   "metadata": {},
   "outputs": [],
   "source": [
    "quantile_month_plot(qm.ds['hist_q'], cmap=regular_cmap)"
   ]
  },
  {
   "cell_type": "code",
   "execution_count": null,
   "id": "893e79f5",
   "metadata": {},
   "outputs": [],
   "source": [
    "qm.ds['af']"
   ]
  },
  {
   "cell_type": "code",
   "execution_count": null,
   "id": "fcaa123f",
   "metadata": {},
   "outputs": [],
   "source": [
    "if 'lat' in qm.ds.dims:\n",
    "    quantile_spatial_plot(\n",
    "        qm.ds['af'],\n",
    "        example_month,\n",
    "        lat_bounds=[lat_min_obs, lat_max_obs],\n",
    "        lon_bounds=[lon_min_obs, lon_max_obs],\n",
    "        cmap=diverging_cmap,\n",
    "        diverging=True,\n",
    "    )"
   ]
  },
  {
   "cell_type": "code",
   "execution_count": null,
   "id": "a9c67746",
   "metadata": {},
   "outputs": [],
   "source": [
    "quantile_month_plot(qm.ds['af'], cmap=diverging_cmap, diverging=True)"
   ]
  },
  {
   "cell_type": "markdown",
   "id": "ae9170b8",
   "metadata": {},
   "source": [
    "## QQ-scaled data"
   ]
  },
  {
   "cell_type": "code",
   "execution_count": null,
   "id": "37c68c98",
   "metadata": {},
   "outputs": [],
   "source": [
    "#model_sel = {'lat': slice(lat_min_obs, lat_max_obs), 'lon': slice(lon_min_obs, lon_max_obs)}"
   ]
  },
  {
   "cell_type": "code",
   "execution_count": null,
   "id": "f241a759",
   "metadata": {},
   "outputs": [],
   "source": [
    "hist_clim = ds_hist[hist_var].mean('time', keep_attrs=True)\n",
    "ref_clim = ds_ref[ref_var].mean('time', keep_attrs=True)\n",
    "target_clim = ds_target[target_var].mean('time', keep_attrs=True)\n",
    "qq_clim = ds_qq[target_var].mean('time', keep_attrs=True)"
   ]
  },
  {
   "cell_type": "code",
   "execution_count": null,
   "id": "60a591a3",
   "metadata": {},
   "outputs": [],
   "source": [
    "if len(hist_clim['lat']) != len(qq_clim['lat']):\n",
    "    regridder = xe.Regridder(hist_clim, qq_clim, \"bilinear\")\n",
    "    hist_clim = regridder(hist_clim)\n",
    "\n",
    "if len(ref_clim['lat']) != len(qq_clim['lat']):\n",
    "    regridder = xe.Regridder(ref_clim, qq_clim, \"bilinear\")\n",
    "    ref_clim = regridder(ref_clim)"
   ]
  },
  {
   "cell_type": "code",
   "execution_count": null,
   "id": "9de09728",
   "metadata": {},
   "outputs": [],
   "source": [
    "hist_ref_mean_diff = ref_clim - hist_clim\n",
    "hist_ref_mean_diff = hist_ref_mean_diff.compute()"
   ]
  },
  {
   "cell_type": "code",
   "execution_count": null,
   "id": "40dc7af6",
   "metadata": {},
   "outputs": [],
   "source": [
    "qq_mean_change = qq_clim - target_clim\n",
    "qq_mean_change = qq_mean_change.compute()"
   ]
  },
  {
   "cell_type": "code",
   "execution_count": null,
   "id": "9cc3b343",
   "metadata": {},
   "outputs": [],
   "source": [
    "difference = qq_mean_change - hist_ref_mean_diff"
   ]
  },
  {
   "cell_type": "code",
   "execution_count": null,
   "id": "5e5ede18",
   "metadata": {},
   "outputs": [],
   "source": [
    "bias_abs_max = np.max(np.abs(model_mean_change.sel(model_sel).values))\n",
    "qq_abs_max = np.max(np.abs(qq_mean_change.values))\n",
    "abs_max = np.max([bias_abs_max, qq_abs_max])\n",
    "vmax = abs_max\n",
    "vmin = -1 * abs_max\n",
    "\n",
    "fig = plt.figure(figsize=[24, 6])\n",
    "\n",
    "ax1 = fig.add_subplot(131, projection=ccrs.PlateCarree())\n",
    "hist_ref_mean_diff.sel(model_sel).plot(\n",
    "    ax=ax1,\n",
    "    transform=ccrs.PlateCarree(),\n",
    "    cmap=diverging_cmap,\n",
    "    vmax=vmax,\n",
    "    vmin=vmin\n",
    ")\n",
    "ax1.set_title('ref - hist')\n",
    "\n",
    "ax2 = fig.add_subplot(132, projection=ccrs.PlateCarree())\n",
    "qq_mean_change.plot(\n",
    "    ax=ax2,\n",
    "    transform=ccrs.PlateCarree(),\n",
    "    cmap=diverging_cmap,\n",
    "    vmax=vmax,\n",
    "    vmin=vmin\n",
    ")\n",
    "ax2.set_title('QQ-scaled - original')\n",
    "\n",
    "ax3 = fig.add_subplot(133, projection=ccrs.PlateCarree())\n",
    "difference.plot(\n",
    "    ax=ax3,\n",
    "    transform=ccrs.PlateCarree(),\n",
    "    cmap=diverging_cmap,\n",
    "    levels=13,\n",
    ")\n",
    "ax3.set_title('Difference')\n",
    "\n",
    "for ax in [ax1, ax2, ax3]:\n",
    "    ax.coastlines()\n",
    "    ax.plot(example_lon, example_lat, 'go', zorder=5, transform=ccrs.PlateCarree())\n",
    "xmin, xmax = ax3.get_xlim()\n",
    "ymin, ymax = ax3.get_ylim()\n",
    "ax1.set_extent([xmin, xmax, ymin, ymax], crs=ccrs.PlateCarree())\n",
    "ax2.set_extent([xmin, xmax, ymin, ymax], crs=ccrs.PlateCarree())\n",
    "\n",
    "plt.show()"
   ]
  },
  {
   "cell_type": "code",
   "execution_count": null,
   "id": "b14f241a",
   "metadata": {},
   "outputs": [],
   "source": [
    "fig, ax = plt.subplots(figsize=[14, 7])\n",
    "if 'lat' in ds_qq.dims:\n",
    "    point_selection = {'lat': example_lat, 'lon': example_lon}\n",
    "else:\n",
    "    point_selection = {}\n",
    "ds_hist[hist_var].sel(point_selection, method='nearest').groupby(\"time.dayofyear\").mean().plot(label=\"historical\", color='tab:orange', linestyle=':')\n",
    "ds_ref[ref_var].sel(point_selection, method='nearest').groupby(\"time.dayofyear\").mean().plot(label=\"reference\", color='tab:orange')\n",
    "ds_target[target_var].sel(point_selection, method='nearest').groupby(\"time.dayofyear\").mean().plot(label=\"original\", color='tab:red', linestyle=':')\n",
    "ds_qq[target_var].sel(point_selection, method='nearest').groupby(\"time.dayofyear\").mean().plot(label=\"QQ-scaled\", color='tab:red')\n",
    "plt.legend()\n",
    "plt.title('Daily climatology')\n",
    "plt.show()"
   ]
  },
  {
   "cell_type": "code",
   "execution_count": null,
   "id": "3dce320b",
   "metadata": {},
   "outputs": [],
   "source": [
    "fig = plt.figure(figsize=[10, 6])\n",
    "if 'lat' in ds_qq.dims:\n",
    "    point_selection = {'lat': example_lat, 'lon': example_lon}\n",
    "else:\n",
    "    point_selection = {}\n",
    "ds_target[target_var].sel(point_selection, method='nearest').plot.hist(bins=50, density=True, label='observations', alpha=0.7)\n",
    "ds_qq[target_var].sel(point_selection, method='nearest').plot.hist(bins=50, density=True, label='QQ-scaled data', facecolor='green', alpha=0.7)\n",
    "plt.ylabel('probability')\n",
    "plt.legend()\n",
    "plt.show()"
   ]
  },
  {
   "cell_type": "code",
   "execution_count": null,
   "id": "24f4d338",
   "metadata": {},
   "outputs": [],
   "source": []
  }
 ],
 "metadata": {
  "celltoolbar": "Tags",
  "kernelspec": {
   "display_name": "Python 3 (ipykernel)",
   "language": "python",
   "name": "python3"
  },
  "language_info": {
   "codemirror_mode": {
    "name": "ipython",
    "version": 3
   },
   "file_extension": ".py",
   "mimetype": "text/x-python",
   "name": "python",
   "nbconvert_exporter": "python",
   "pygments_lexer": "ipython3",
   "version": "3.10.4"
  }
 },
 "nbformat": 4,
 "nbformat_minor": 5
}
