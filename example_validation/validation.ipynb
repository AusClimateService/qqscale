{
 "cells": [
  {
   "cell_type": "markdown",
   "id": "87eda6bf",
   "metadata": {},
   "source": [
    "# Quantile-quantile (QQ) scaled climate projections"
   ]
  },
  {
   "cell_type": "code",
   "execution_count": null,
   "id": "824492d7",
   "metadata": {},
   "outputs": [],
   "source": [
    "import glob\n",
    "import calendar\n",
    "import sys\n",
    "import gc\n",
    "\n",
    "import xarray as xr\n",
    "from xclim import sdba\n",
    "import matplotlib.pyplot as plt\n",
    "import numpy as np\n",
    "import cartopy.crs as ccrs\n",
    "import xesmf as xe\n",
    "import dask.diagnostics\n",
    "import cmdline_provenance as cmdprov\n",
    "import dask\n",
    "import cmocean\n",
    "import seaborn as sns\n",
    "import pandas as pd\n",
    "\n",
    "sys.path.append('/g/data/wp00/shared_code/qqscale')\n",
    "import utils"
   ]
  },
  {
   "cell_type": "code",
   "execution_count": null,
   "id": "acd2d344",
   "metadata": {},
   "outputs": [],
   "source": [
    "dask.diagnostics.ProgressBar().register()"
   ]
  },
  {
   "cell_type": "code",
   "execution_count": null,
   "id": "1b5bfb53",
   "metadata": {
    "tags": [
     "parameters"
    ]
   },
   "outputs": [],
   "source": [
    "# Parameters\n",
    "example_lat = -42.9\n",
    "example_lon = 147.3\n",
    "example_month = 6"
   ]
  },
  {
   "cell_type": "code",
   "execution_count": null,
   "id": "adc2ba71",
   "metadata": {},
   "outputs": [],
   "source": [
    "# Required parameters\n",
    "assert 'hist_var' in locals(), \"Must provide an historical variable name (option -p hist_var {name})\"\n",
    "assert 'ref_var' in locals(), \"Must provide a reference variable name (option -p ref_var {name})\"\n",
    "assert 'target_var' in locals(), \"Must provide a target variable name (option -p target_var {name})\"\n",
    "assert 'hist_units' in locals(), \"Must provide historical units (option -p hist_units {units})\"\n",
    "assert 'ref_units' in locals(), \"Must provide reference units (option -p ref_units {units})\"\n",
    "assert 'target_units' in locals(), \"Must provide target units (option -p target_units {units})\"\n",
    "assert 'output_units' in locals(), \"Must provide output units (option -p output_units {units})\"\n",
    "assert 'adjustment_file' in locals(), \"Must provide an adjustment factors file (option -p adjustment_file {file path})\"\n",
    "assert 'hist_files' in locals(), \"\"\"Must provide historical data files (option -p hist_files {\"file paths\"})\"\"\"\n",
    "assert 'ref_files' in locals(), \"\"\"Must provide reference data files (option -p ref_files {\"file paths\"})\"\"\"\n",
    "assert 'target_files' in locals(), \"\"\"Must provide target data files (option -p target_files {\"file paths\"})\"\"\"\n",
    "assert 'qq_file' in locals(), \"Must provide an qq-scaled data file (option -p qq_file {file path})\"\n",
    "assert 'hist_time_bounds' in locals(), \"\"\"Must provide time bounds for historical data (option -p hist_time_bounds {\"YYYY-MM-DD YYYY-MM-DD\"})\"\"\"\n",
    "assert 'ref_time_bounds' in locals(), \"\"\"Must provide time bounds for reference data (option -p ref_time_bounds {\"YYYY-MM-DD YYYY-MM-DD\"})\"\"\"\n",
    "assert 'target_time_bounds' in locals(), \"\"\"Must provide time bounds for target data (option -p target_time_bounds {\"YYYY-MM-DD YYYY-MM-DD\"})\"\"\""
   ]
  },
  {
   "cell_type": "code",
   "execution_count": null,
   "id": "491505bb",
   "metadata": {},
   "outputs": [],
   "source": [
    "hist_files = hist_files.split()\n",
    "ref_files = ref_files.split()\n",
    "target_files = target_files.split()\n",
    "\n",
    "hist_time_bounds = hist_time_bounds.split()\n",
    "ref_time_bounds = ref_time_bounds.split()\n",
    "target_time_bounds = target_time_bounds.split()"
   ]
  },
  {
   "cell_type": "code",
   "execution_count": null,
   "id": "704dcf44",
   "metadata": {},
   "outputs": [],
   "source": [
    "plot_config = {}\n",
    "if hist_var == 'tasmin':\n",
    "    plot_config['regular_cmap'] = cmocean.cm.thermal\n",
    "    plot_config['diverging_cmap'] = 'RdBu_r'\n",
    "    plot_config['general_levels'] = None\n",
    "    plot_config['af_levels'] = None\n",
    "    plot_config['difference_levels'] = None\n",
    "elif hist_var == 'tasmax':\n",
    "    plot_config['regular_cmap'] = cmocean.cm.thermal\n",
    "    plot_config['diverging_cmap'] = 'RdBu_r'\n",
    "    plot_config['general_levels'] = [5, 7.5, 10, 12.5, 15, 17.5, 20, 22.5, 25, 27.5, 30, 32.5, 35]\n",
    "    plot_config['af_levels'] = None\n",
    "    plot_config['difference_levels'] = [0.6, 0.8, 1.0, 1.2, 1.4, 1.6, 1.8, 2.0, 2.2]\n",
    "elif hist_var == 'pr':\n",
    "    plot_config['regular_cmap'] = cmocean.cm.rain\n",
    "    plot_config['diverging_cmap'] = 'BrBG'\n",
    "    plot_config['general_levels'] = [0, 0.01, 10, 20, 30, 40, 50, 60, 70, 80, 90]\n",
    "    plot_config['af_levels'] = [0.125, 0.25, 0.5, 0.67, 0.8, 1, 1.25, 1.5, 2, 4, 8]\n",
    "    plot_config['difference_levels'] = [-0.55, -0.45, -0.35, -0.25, -0.15, -0.05, 0.05, 0.15, 0.25, 0.35, 0.45, 0.55]\n",
    "else:\n",
    "    raise ValueError(f'No plotting configuration defined for {hist_var}')"
   ]
  },
  {
   "cell_type": "markdown",
   "id": "f1e34fbc",
   "metadata": {},
   "source": [
    "## Read data"
   ]
  },
  {
   "cell_type": "code",
   "execution_count": null,
   "id": "12689618",
   "metadata": {},
   "outputs": [],
   "source": [
    "ds_hist = utils.read_data(\n",
    "    hist_files,\n",
    "    hist_var,\n",
    "    time_bounds=hist_time_bounds,\n",
    "    input_units=hist_units,\n",
    "    output_units=output_units,\n",
    ")\n",
    "ds_hist[hist_var]"
   ]
  },
  {
   "cell_type": "code",
   "execution_count": null,
   "id": "b41f0d1b",
   "metadata": {},
   "outputs": [],
   "source": [
    "ds_ref = utils.read_data(\n",
    "    ref_files,\n",
    "    ref_var,\n",
    "    time_bounds=ref_time_bounds,\n",
    "    input_units=ref_units,\n",
    "    output_units=output_units,\n",
    ")\n",
    "ds_ref[ref_var]"
   ]
  },
  {
   "cell_type": "code",
   "execution_count": null,
   "id": "b0ad9850",
   "metadata": {},
   "outputs": [],
   "source": [
    "ds_adjust = xr.open_dataset(adjustment_file)"
   ]
  },
  {
   "cell_type": "code",
   "execution_count": null,
   "id": "1ef68a7e",
   "metadata": {},
   "outputs": [],
   "source": [
    "ds_target = utils.read_data(\n",
    "    target_files,\n",
    "    target_var,\n",
    "    time_bounds=target_time_bounds,\n",
    "    input_units=target_units,\n",
    "    output_units=output_units\n",
    ")"
   ]
  },
  {
   "cell_type": "code",
   "execution_count": null,
   "id": "5f74f486",
   "metadata": {},
   "outputs": [],
   "source": [
    "ds_target[target_var]"
   ]
  },
  {
   "cell_type": "code",
   "execution_count": null,
   "id": "ec7ef222-2fe9-4179-8081-c07f21c16d56",
   "metadata": {},
   "outputs": [],
   "source": [
    "target_q = utils.get_ref_q(ds_target[target_var], ds_adjust['quantiles'].data)"
   ]
  },
  {
   "cell_type": "code",
   "execution_count": null,
   "id": "421b13d1-1e99-46dd-9fc3-ed2a2d45b727",
   "metadata": {},
   "outputs": [],
   "source": [
    "target_q = target_q.compute()"
   ]
  },
  {
   "cell_type": "code",
   "execution_count": null,
   "id": "0325bdbc",
   "metadata": {},
   "outputs": [],
   "source": [
    "ds_qq = xr.open_dataset(qq_file)"
   ]
  },
  {
   "cell_type": "code",
   "execution_count": null,
   "id": "0328fbc0",
   "metadata": {},
   "outputs": [],
   "source": [
    "lat_min_qq = ds_qq['lat'].values.min()\n",
    "lat_max_qq = ds_qq['lat'].values.max()\n",
    "lon_min_qq = ds_qq['lon'].values.min()\n",
    "lon_max_qq = ds_qq['lon'].values.max()"
   ]
  },
  {
   "cell_type": "code",
   "execution_count": null,
   "id": "fe7aea93",
   "metadata": {},
   "outputs": [],
   "source": [
    "print(lat_min_qq, lat_max_qq, lon_min_qq, lon_max_qq)"
   ]
  },
  {
   "cell_type": "markdown",
   "id": "45ee682b",
   "metadata": {},
   "source": [
    "## Quantile mapping"
   ]
  },
  {
   "cell_type": "code",
   "execution_count": null,
   "id": "bd9592d3",
   "metadata": {},
   "outputs": [],
   "source": [
    "def quantile_month_plot(da, ax, cmap_type, levels=None, extend='both', point=None, title=None):\n",
    "    \"\"\"Create two dimensional month/quantile plot\"\"\"\n",
    "    \n",
    "    assert cmap_type in ['regular', 'diverging']\n",
    "    \n",
    "    if 'lat' in da.dims:\n",
    "        point_selection = {'lat': example_lat, 'lon': example_lon}\n",
    "    else:\n",
    "        point_selection = {}\n",
    "    quantiles = da.sel(point_selection, method='nearest')\n",
    "    \n",
    "    cmap = plot_config[f'{cmap_type}_cmap']\n",
    "    kwargs = {}\n",
    "    if levels:\n",
    "        kwargs['levels'] = levels\n",
    "    elif cmap_type == 'diverging':\n",
    "        abs_max = np.max(np.abs(quantiles.values))\n",
    "        vmax = abs_max\n",
    "        vmin = -1 * abs_max\n",
    "        kwargs['vmax'] = vmax\n",
    "        kwargs['vmin'] = vmin\n",
    "    \n",
    "    quantiles.transpose('month', 'quantiles').plot(ax=ax, cmap=cmap, extend=extend, **kwargs)\n",
    "    \n",
    "    yticks = np.arange(1,13)\n",
    "    ytick_labels = [calendar.month_abbr[i] for i in yticks]\n",
    "    ax.set_yticks(yticks, ytick_labels)\n",
    "    ax.invert_yaxis()\n",
    "    if title:\n",
    "        ax.set_title(title)"
   ]
  },
  {
   "cell_type": "code",
   "execution_count": null,
   "id": "61445b57",
   "metadata": {},
   "outputs": [],
   "source": [
    "def quantile_spatial_plot(\n",
    "    da, month, cmap_type, lat_bounds=None, lon_bounds=None, levels=None,\n",
    "):\n",
    "    \"\"\"Spatial plot of the 10th, 50th and 90th percentile\"\"\"\n",
    "    \n",
    "    da_selection = da.sel({'quantiles': [.1, .5, .9], 'month': month}, method='nearest')\n",
    "    if lat_bounds:\n",
    "        lat_min, lat_max = lat_bounds\n",
    "        da_selection = da_selection.sel(lat=slice(lat_min, lat_max))\n",
    "    if lon_bounds:\n",
    "        lon_min, lon_max = lon_bounds\n",
    "        da_selection = da_selection.sel(lon=slice(lon_min, lon_max))\n",
    "        \n",
    "    cmap = plot_config[f'{cmap_type}_cmap']\n",
    "    kwargs = {}\n",
    "    if levels:\n",
    "        kwargs['levels'] = levels\n",
    "    elif cmap_type == 'diverging':\n",
    "        abs_max = np.max(np.abs(da_selection.values))\n",
    "        vmax = abs_max\n",
    "        vmin = -1 * abs_max\n",
    "        kwargs['vmax'] = vmax\n",
    "        kwargs['vmin'] = vmin\n",
    "        \n",
    "    p = da_selection.plot(\n",
    "        col='quantiles',\n",
    "        transform=ccrs.PlateCarree(),\n",
    "        cmap=cmap,\n",
    "        figsize=[20, 5.5],\n",
    "        subplot_kws={'projection': ccrs.PlateCarree(),},\n",
    "        **kwargs,\n",
    "    )\n",
    "    for ax in p.axes.flat:\n",
    "        ax.coastlines()\n",
    "        ax.plot(example_lon, example_lat, 'go', zorder=5, transform=ccrs.PlateCarree())\n",
    "    plt.suptitle(calendar.month_name[month])\n",
    "    plt.show()"
   ]
  },
  {
   "cell_type": "code",
   "execution_count": null,
   "id": "eec4f42e",
   "metadata": {},
   "outputs": [],
   "source": [
    "if 'lat' in ds_adjust.dims:\n",
    "    quantile_spatial_plot(\n",
    "        ds_adjust['hist_q'],\n",
    "        example_month,\n",
    "        'regular',\n",
    "        levels=plot_config['general_levels'],\n",
    "        lat_bounds=[lat_min_qq, lat_max_qq],\n",
    "        lon_bounds=[lon_min_qq, lon_max_qq],\n",
    "    )"
   ]
  },
  {
   "cell_type": "code",
   "execution_count": null,
   "id": "4339e721",
   "metadata": {},
   "outputs": [],
   "source": [
    "fig = plt.figure(figsize=[20, 17])\n",
    "ax1 = fig.add_subplot(311)\n",
    "ax2 = fig.add_subplot(312)\n",
    "ax3 = fig.add_subplot(313)\n",
    "\n",
    "quantile_month_plot(\n",
    "    ds_adjust['ref_q'],\n",
    "    ax1,\n",
    "    'regular',\n",
    "    levels=plot_config['general_levels'],\n",
    "    title='reference',\n",
    "    extend='max',\n",
    ")\n",
    "\n",
    "quantile_month_plot(\n",
    "    ds_adjust['hist_q'],\n",
    "    ax2,\n",
    "    'regular',\n",
    "    levels=plot_config['general_levels'],\n",
    "    title='historical',\n",
    "    extend='max',\n",
    ")\n",
    "\n",
    "quantile_month_plot(\n",
    "    target_q,\n",
    "    ax3,\n",
    "    'regular',\n",
    "    levels=plot_config['general_levels'],\n",
    "    title='target (obs)',\n",
    "    extend='max',\n",
    ")\n",
    "\n",
    "plt.show()"
   ]
  },
  {
   "cell_type": "code",
   "execution_count": null,
   "id": "20cb52d3",
   "metadata": {},
   "outputs": [],
   "source": [
    "da_hist = ds_hist[hist_var].sel({'lat': example_lat, 'lon': example_lon}, method='nearest')\n",
    "da_hist = da_hist[da_hist['time'].dt.month == example_month]\n",
    "df_hist = pd.DataFrame(da_hist.values, columns=[hist_var])"
   ]
  },
  {
   "cell_type": "code",
   "execution_count": null,
   "id": "c51589bb",
   "metadata": {},
   "outputs": [],
   "source": [
    "da_ref = ds_ref[ref_var].sel({'lat': example_lat, 'lon': example_lon}, method='nearest')\n",
    "da_ref = da_ref[da_ref['time'].dt.month == example_month]\n",
    "df_ref = pd.DataFrame(da_ref.values, columns=[hist_var])"
   ]
  },
  {
   "cell_type": "code",
   "execution_count": null,
   "id": "651fc10d",
   "metadata": {},
   "outputs": [],
   "source": [
    "fig = plt.figure(figsize=[8, 5])\n",
    "ax1 = fig.add_subplot(111)\n",
    "\n",
    "sns.ecdfplot(ax=ax1, data=df_hist, x=hist_var, color='tab:blue', label='historical')\n",
    "sns.ecdfplot(ax=ax1, data=df_ref, x=hist_var, color='tab:orange', label='reference')\n",
    "ax1.legend()\n",
    "#ax1.plot([13.9, 13.9], [0, 0.5], color='0.5')\n",
    "#ax1.plot([5, 13.9], [0.5, 0.5], color='0.5')\n",
    "#ax1.plot([13.9, 15], [0.5, 0.5], color='0.5', linestyle=':')\n",
    "#ax1.plot([15, 15], [0, 0.5], color='0.5', linestyle=':')\n",
    "#ax1.set_xlim(8, 20)\n",
    "plt.show()"
   ]
  },
  {
   "cell_type": "markdown",
   "id": "d82e22b0",
   "metadata": {},
   "source": [
    "So for a X day in the observational record, the empirical quantile mapping works as follows:\n",
    "1. Find the probability that temperature is exceeded in the historical data\n",
    "2. Find the temperature corresponding to that probability in the reference data\n",
    "3. That temperature is the new qq-scaled value for that day in the observational record (the \"adjustment\" factor is the difference between X and that new temperature)"
   ]
  },
  {
   "cell_type": "code",
   "execution_count": null,
   "id": "dcfa0c82",
   "metadata": {},
   "outputs": [],
   "source": [
    "fig = plt.figure(figsize=[10, 6])\n",
    "\n",
    "bins = np.arange(0, 150, 1)\n",
    "\n",
    "if 'lat' in ds_qq.dims:\n",
    "    point_selection = {'lat': example_lat, 'lon': example_lon}\n",
    "else:\n",
    "    point_selection = {}\n",
    "\n",
    "    \n",
    "da_target = ds_target[target_var].sel(point_selection, method='nearest')\n",
    "da_target = da_target[da_target['time'].dt.month == example_month]\n",
    "da_target.plot.hist(\n",
    "    bins=bins,\n",
    "    density=True,\n",
    "    label='observations',\n",
    "    facecolor='tab:green',\n",
    "    alpha=0.5,\n",
    "    rwidth=0.9,\n",
    ")\n",
    "\n",
    "da_hist.plot.hist(\n",
    "    bins=bins,\n",
    "    density=True,\n",
    "    label='histotical data',\n",
    "    facecolor='tab:blue',\n",
    "    alpha=0.5,\n",
    "    rwidth=0.9,\n",
    ")\n",
    "plt.ylabel('probability')\n",
    "#plt.xlim(5, 25)\n",
    "plt.legend()\n",
    "plt.show()"
   ]
  },
  {
   "cell_type": "markdown",
   "id": "2647d29f",
   "metadata": {},
   "source": [
    "An issue here is that the temperature variability at this grid point in the observations is much greater than in the model. This means there are days in the observations that can't be linked to a corresponding historical probability. In this case, the adjustment factor at the first or last quantile (depending on whether it's a very cold or very hot day) is used. "
   ]
  },
  {
   "cell_type": "code",
   "execution_count": null,
   "id": "fcaa123f",
   "metadata": {},
   "outputs": [],
   "source": [
    "if 'lat' in ds_adjust.dims:\n",
    "    quantile_spatial_plot(\n",
    "        ds_adjust['af'],\n",
    "        example_month,\n",
    "        'diverging',\n",
    "        levels=plot_config['af_levels'],\n",
    "        lat_bounds=[lat_min_qq, lat_max_qq],\n",
    "        lon_bounds=[lon_min_qq, lon_max_qq],\n",
    "    )"
   ]
  },
  {
   "cell_type": "code",
   "execution_count": null,
   "id": "a9c67746",
   "metadata": {},
   "outputs": [],
   "source": [
    "fig = plt.figure(figsize=[12, 5])\n",
    "ax1 = fig.add_subplot(111)\n",
    "\n",
    "quantile_month_plot(\n",
    "    ds_adjust['af'],\n",
    "    ax1,\n",
    "    'diverging',\n",
    "    levels=plot_config['af_levels'],\n",
    "    title='adjustment factors'\n",
    ")\n",
    "\n",
    "plt.show()"
   ]
  },
  {
   "cell_type": "code",
   "execution_count": null,
   "id": "92dbce33-3951-4a06-930f-45cdf0b42035",
   "metadata": {},
   "outputs": [],
   "source": [
    "if len(ds_adjust['lat']) != len(target_q['lat']):\n",
    "    regridder = xe.Regridder(ds_adjust['af'], target_q, \"bilinear\")\n",
    "    af_regridded = regridder(ds_adjust['af'])"
   ]
  },
  {
   "cell_type": "code",
   "execution_count": null,
   "id": "9325e2ea-5afa-4c88-902c-7dbcfc9a9771",
   "metadata": {},
   "outputs": [],
   "source": [
    "if hist_var in ['pr']:\n",
    "    point_selection = {'lat': example_lat, 'lon': example_lon}\n",
    "    af_choice = af_regridded.sel(point_selection, method='nearest')\n",
    "    target_q_choice = target_q.sel(point_selection, method='nearest')\n",
    "    target_q_choice = target_q_choice.assign_coords({'quantiles': af_choice['quantiles']}) \n",
    "    product = af_choice * target_q_choice\n",
    "    diff = product - target_q_choice\n",
    "\n",
    "    fig = plt.figure(figsize=[20, 17])\n",
    "    ax1 = fig.add_subplot(311)\n",
    "    ax2 = fig.add_subplot(312)\n",
    "    ax3 = fig.add_subplot(313)\n",
    "\n",
    "    quantile_month_plot(\n",
    "        target_q_choice,\n",
    "        ax1,\n",
    "        'regular',\n",
    "        levels=plot_config['general_levels'],\n",
    "        title='target (obs)',\n",
    "        extend='max',\n",
    "    )\n",
    "\n",
    "    quantile_month_plot(\n",
    "        product,\n",
    "        ax2,\n",
    "        'regular',\n",
    "        levels=plot_config['general_levels'],\n",
    "        title='target (obs) multiplied by adjustment factors',\n",
    "        extend='max',\n",
    "    )\n",
    "\n",
    "    quantile_month_plot(\n",
    "        diff,\n",
    "        ax3,\n",
    "        'diverging',\n",
    "        levels=[-64, -32, -16, -8, -4, -2, 0, 2, 4, 8, 16, 32, 64],\n",
    "        title='difference (target minus product)',\n",
    "        extend='both',\n",
    "    )\n",
    "\n",
    "    plt.show()\n",
    "    \n",
    "    print('Target sum:', target_q_choice.values.sum())\n",
    "    print('Product sum', product.values.sum())\n",
    "    print('Difference sum:', diff.values.sum())"
   ]
  },
  {
   "cell_type": "markdown",
   "id": "ae9170b8",
   "metadata": {},
   "source": [
    "## QQ-scaled data"
   ]
  },
  {
   "cell_type": "code",
   "execution_count": null,
   "id": "37c68c98",
   "metadata": {},
   "outputs": [],
   "source": [
    "model_sel = {'lat': slice(lat_min_qq, lat_max_qq), 'lon': slice(lon_min_qq, lon_max_qq)}"
   ]
  },
  {
   "cell_type": "code",
   "execution_count": null,
   "id": "f241a759",
   "metadata": {},
   "outputs": [],
   "source": [
    "hist_clim = ds_hist[hist_var].mean('time', keep_attrs=True)\n",
    "ref_clim = ds_ref[ref_var].mean('time', keep_attrs=True)\n",
    "target_clim = ds_target[target_var].mean('time', keep_attrs=True)\n",
    "qq_clim = ds_qq[target_var].mean('time', keep_attrs=True)"
   ]
  },
  {
   "cell_type": "code",
   "execution_count": null,
   "id": "60a591a3",
   "metadata": {},
   "outputs": [],
   "source": [
    "if len(hist_clim['lat']) != len(qq_clim['lat']):\n",
    "    regridder = xe.Regridder(hist_clim, qq_clim, \"bilinear\")\n",
    "    hist_clim = regridder(hist_clim)\n",
    "\n",
    "if len(ref_clim['lat']) != len(qq_clim['lat']):\n",
    "    regridder = xe.Regridder(ref_clim, qq_clim, \"bilinear\")\n",
    "    ref_clim = regridder(ref_clim)"
   ]
  },
  {
   "cell_type": "code",
   "execution_count": null,
   "id": "9de09728",
   "metadata": {},
   "outputs": [],
   "source": [
    "hist_ref_mean_diff = ref_clim - hist_clim\n",
    "hist_ref_mean_diff = hist_ref_mean_diff.compute()"
   ]
  },
  {
   "cell_type": "code",
   "execution_count": null,
   "id": "40dc7af6",
   "metadata": {},
   "outputs": [],
   "source": [
    "qq_mean_change = qq_clim - target_clim\n",
    "qq_mean_change = qq_mean_change.compute()"
   ]
  },
  {
   "cell_type": "code",
   "execution_count": null,
   "id": "9cc3b343",
   "metadata": {},
   "outputs": [],
   "source": [
    "difference = qq_mean_change - hist_ref_mean_diff"
   ]
  },
  {
   "cell_type": "code",
   "execution_count": null,
   "id": "5e5ede18",
   "metadata": {},
   "outputs": [],
   "source": [
    "fig = plt.figure(figsize=[24, 6])\n",
    "\n",
    "ax1 = fig.add_subplot(131, projection=ccrs.PlateCarree())\n",
    "hist_ref_mean_diff.plot(\n",
    "    ax=ax1,\n",
    "    transform=ccrs.PlateCarree(),\n",
    "    cmap=plot_config['diverging_cmap'],\n",
    "    levels=plot_config['difference_levels'],\n",
    "    extend='both'\n",
    ")\n",
    "ax1.set_title('ref - hist')\n",
    "\n",
    "ax2 = fig.add_subplot(132, projection=ccrs.PlateCarree())\n",
    "qq_mean_change.plot(\n",
    "    ax=ax2,\n",
    "    transform=ccrs.PlateCarree(),\n",
    "    cmap=plot_config['diverging_cmap'],\n",
    "    levels=plot_config['difference_levels'],\n",
    "    extend='both'\n",
    ")\n",
    "ax2.set_title('QQ-scaled - original')\n",
    "\n",
    "ax3 = fig.add_subplot(133, projection=ccrs.PlateCarree())\n",
    "difference.plot(\n",
    "    ax=ax3,\n",
    "    transform=ccrs.PlateCarree(),\n",
    "    cmap=plot_config['diverging_cmap'],\n",
    "    levels=plot_config['difference_levels'],\n",
    "    extend='both'\n",
    ")\n",
    "ax3.set_title('Difference')\n",
    "\n",
    "for ax in [ax1, ax2, ax3]:\n",
    "    ax.coastlines()\n",
    "    ax.plot(example_lon, example_lat, 'go', zorder=5, transform=ccrs.PlateCarree())\n",
    "xmin, xmax = ax3.get_xlim()\n",
    "ymin, ymax = ax3.get_ylim()\n",
    "ax1.set_extent([xmin, xmax, ymin, ymax], crs=ccrs.PlateCarree())\n",
    "ax2.set_extent([xmin, xmax, ymin, ymax], crs=ccrs.PlateCarree())\n",
    "\n",
    "plt.show()"
   ]
  },
  {
   "cell_type": "code",
   "execution_count": null,
   "id": "b14f241a",
   "metadata": {},
   "outputs": [],
   "source": [
    "fig, ax = plt.subplots(figsize=[14, 7])\n",
    "if 'lat' in ds_qq.dims:\n",
    "    point_selection = {'lat': example_lat, 'lon': example_lon}\n",
    "else:\n",
    "    point_selection = {}\n",
    "ds_hist[hist_var].sel(point_selection, method='nearest').groupby(\"time.dayofyear\").mean().plot(label=\"historical\", color='tab:orange', linestyle=':')\n",
    "ds_ref[ref_var].sel(point_selection, method='nearest').groupby(\"time.dayofyear\").mean().plot(label=\"reference\", color='tab:orange')\n",
    "ds_target[target_var].sel(point_selection, method='nearest').groupby(\"time.dayofyear\").mean().plot(label=\"original\", color='tab:red', linestyle=':')\n",
    "ds_qq[target_var].sel(point_selection, method='nearest').groupby(\"time.dayofyear\").mean().plot(label=\"QQ-scaled\", color='tab:red')\n",
    "plt.legend()\n",
    "plt.title('Daily climatology')\n",
    "plt.show()"
   ]
  },
  {
   "cell_type": "code",
   "execution_count": null,
   "id": "24f4d338",
   "metadata": {},
   "outputs": [],
   "source": [
    "fig = plt.figure(figsize=[10, 6])\n",
    "\n",
    "bins = np.arange(0, 150, 1)\n",
    "\n",
    "if 'lat' in ds_qq.dims:\n",
    "    point_selection = {'lat': example_lat, 'lon': example_lon}\n",
    "else:\n",
    "    point_selection = {}\n",
    "    \n",
    "ds_target[target_var].sel(point_selection, method='nearest').plot.hist(\n",
    "    bins=bins,\n",
    "    density=True,\n",
    "    label='observations',\n",
    "    facecolor='tab:blue',\n",
    "    alpha=0.5,\n",
    "    rwidth=0.9,\n",
    ")\n",
    "ds_qq[target_var].sel(point_selection, method='nearest').plot.hist(\n",
    "    bins=bins,\n",
    "    density=True,\n",
    "    label='QQ-scaled data',\n",
    "    facecolor='tab:orange',\n",
    "    alpha=0.5,\n",
    "    rwidth=0.9,\n",
    ")\n",
    "plt.ylabel('probability')\n",
    "#plt.ylim(0, 0.005)\n",
    "#plt.xlim(5, 80)\n",
    "plt.legend()\n",
    "plt.show()"
   ]
  }
 ],
 "metadata": {
  "celltoolbar": "Tags",
  "kernelspec": {
   "display_name": "Python 3 (ipykernel)",
   "language": "python",
   "name": "python3"
  },
  "language_info": {
   "codemirror_mode": {
    "name": "ipython",
    "version": 3
   },
   "file_extension": ".py",
   "mimetype": "text/x-python",
   "name": "python",
   "nbconvert_exporter": "python",
   "pygments_lexer": "ipython3",
   "version": "3.10.4"
  }
 },
 "nbformat": 4,
 "nbformat_minor": 5
}
