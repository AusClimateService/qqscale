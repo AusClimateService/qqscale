{
 "cells": [
  {
   "cell_type": "markdown",
   "id": "87eda6bf",
   "metadata": {
    "papermill": {
     "duration": 0.016309,
     "end_time": "2023-01-13T09:46:42.027334",
     "exception": false,
     "start_time": "2023-01-13T09:46:42.011025",
     "status": "completed"
    },
    "tags": []
   },
   "source": [
    "# Quantile-quantile (QQ) scaled climate projections"
   ]
  },
  {
   "cell_type": "code",
   "execution_count": 1,
   "id": "824492d7",
   "metadata": {
    "execution": {
     "iopub.execute_input": "2023-01-13T09:46:42.048868Z",
     "iopub.status.busy": "2023-01-13T09:46:42.048202Z",
     "iopub.status.idle": "2023-01-13T09:48:28.692292Z",
     "shell.execute_reply": "2023-01-13T09:48:28.690966Z"
    },
    "papermill": {
     "duration": 106.657536,
     "end_time": "2023-01-13T09:48:28.696257",
     "exception": false,
     "start_time": "2023-01-13T09:46:42.038721",
     "status": "completed"
    },
    "tags": []
   },
   "outputs": [],
   "source": [
    "import glob\n",
    "import calendar\n",
    "import sys\n",
    "import gc\n",
    "\n",
    "import xarray as xr\n",
    "from xclim import sdba\n",
    "import matplotlib.pyplot as plt\n",
    "import numpy as np\n",
    "import cartopy.crs as ccrs\n",
    "import xesmf as xe\n",
    "import dask.diagnostics\n",
    "import cmdline_provenance as cmdprov\n",
    "import dask\n",
    "import cmocean\n",
    "import seaborn as sns\n",
    "import pandas as pd\n",
    "\n",
    "sys.path.append('/g/data/wp00/shared_code/qqscale')\n",
    "import utils"
   ]
  },
  {
   "cell_type": "code",
   "execution_count": 2,
   "id": "acd2d344",
   "metadata": {
    "execution": {
     "iopub.execute_input": "2023-01-13T09:48:28.724455Z",
     "iopub.status.busy": "2023-01-13T09:48:28.724067Z",
     "iopub.status.idle": "2023-01-13T09:48:28.730498Z",
     "shell.execute_reply": "2023-01-13T09:48:28.729334Z"
    },
    "papermill": {
     "duration": 0.020618,
     "end_time": "2023-01-13T09:48:28.732891",
     "exception": false,
     "start_time": "2023-01-13T09:48:28.712273",
     "status": "completed"
    },
    "tags": []
   },
   "outputs": [],
   "source": [
    "dask.diagnostics.ProgressBar().register()"
   ]
  },
  {
   "cell_type": "code",
   "execution_count": 3,
   "id": "1b5bfb53",
   "metadata": {
    "execution": {
     "iopub.execute_input": "2023-01-13T09:48:28.756332Z",
     "iopub.status.busy": "2023-01-13T09:48:28.755597Z",
     "iopub.status.idle": "2023-01-13T09:48:28.761790Z",
     "shell.execute_reply": "2023-01-13T09:48:28.760635Z"
    },
    "papermill": {
     "duration": 0.020669,
     "end_time": "2023-01-13T09:48:28.763897",
     "exception": false,
     "start_time": "2023-01-13T09:48:28.743228",
     "status": "completed"
    },
    "tags": [
     "parameters"
    ]
   },
   "outputs": [],
   "source": [
    "# Parameters\n",
    "example_lat = -42.9\n",
    "example_lon = 147.3\n",
    "example_month = 6"
   ]
  },
  {
   "cell_type": "code",
   "execution_count": 4,
   "id": "bf90c845",
   "metadata": {
    "execution": {
     "iopub.execute_input": "2023-01-13T09:48:28.783515Z",
     "iopub.status.busy": "2023-01-13T09:48:28.782660Z",
     "iopub.status.idle": "2023-01-13T09:48:28.792660Z",
     "shell.execute_reply": "2023-01-13T09:48:28.791470Z"
    },
    "papermill": {
     "duration": 0.021733,
     "end_time": "2023-01-13T09:48:28.794547",
     "exception": false,
     "start_time": "2023-01-13T09:48:28.772814",
     "status": "completed"
    },
    "tags": [
     "injected-parameters"
    ]
   },
   "outputs": [],
   "source": [
    "# Parameters\n",
    "adjustment_file = \"/g/data/wp00/users/dbi599/test_space/tasmin-qdc-adjustment-factors-additive-monthly_day_ACCESS-ESM1-5_historical-ssp370_r1i1p1f1_19950101-20141231_20350101-20641231.nc\"\n",
    "qq_file = \"/g/data/wp00/users/dbi599/test_space/tasmin-qdc-additive-monthly-infileq_day_AGCD-ACCESS-ESM1-5_ssp370_r1i1p1f1_20350101-20641231.nc\"\n",
    "example_lat = -42.9\n",
    "example_lon = 147.3\n",
    "example_month = 5\n",
    "hist_units = \"K\"\n",
    "ref_units = \"K\"\n",
    "target_units = \"C\"\n",
    "output_units = \"C\"\n",
    "hist_var = \"tasmin\"\n",
    "ref_var = \"tasmin\"\n",
    "target_var = \"tmin\"\n",
    "hist_files = \"/g/data/fs38/publications/CMIP6/CMIP/CSIRO/ACCESS-ESM1-5/historical/r1i1p1f1/day/tasmin/gn/latest/tasmin_day_ACCESS-ESM1-5_historical_r1i1p1f1_gn_19500101-19991231.nc /g/data/fs38/publications/CMIP6/CMIP/CSIRO/ACCESS-ESM1-5/historical/r1i1p1f1/day/tasmin/gn/latest/tasmin_day_ACCESS-ESM1-5_historical_r1i1p1f1_gn_20000101-20141231.nc\"\n",
    "ref_files = \"/g/data/fs38/publications/CMIP6/ScenarioMIP/CSIRO/ACCESS-ESM1-5/ssp370/r1i1p1f1/day/tasmin/gn/latest/tasmin_day_ACCESS-ESM1-5_ssp370_r1i1p1f1_gn_20150101-20641231.nc /g/data/fs38/publications/CMIP6/ScenarioMIP/CSIRO/ACCESS-ESM1-5/ssp370/r1i1p1f1/day/tasmin/gn/latest/tasmin_day_ACCESS-ESM1-5_ssp370_r1i1p1f1_gn_20650101-21001231.nc\"\n",
    "target_files = \"/g/data/xv83/agcd-csiro/tmin/daily/tmin_AGCD-CSIRO_r005_19100101-20220405_daily_space-chunked.zarr\"\n",
    "hist_time_bounds = \"1995-01-01 2014-12-31\"\n",
    "ref_time_bounds = \"2035-01-01 2064-12-31\"\n",
    "target_time_bounds = \"1990-01-01 2019-12-31\"\n"
   ]
  },
  {
   "cell_type": "code",
   "execution_count": 5,
   "id": "adc2ba71",
   "metadata": {
    "execution": {
     "iopub.execute_input": "2023-01-13T09:48:28.813831Z",
     "iopub.status.busy": "2023-01-13T09:48:28.812980Z",
     "iopub.status.idle": "2023-01-13T09:48:28.824815Z",
     "shell.execute_reply": "2023-01-13T09:48:28.823737Z"
    },
    "papermill": {
     "duration": 0.02403,
     "end_time": "2023-01-13T09:48:28.826819",
     "exception": false,
     "start_time": "2023-01-13T09:48:28.802789",
     "status": "completed"
    },
    "tags": []
   },
   "outputs": [],
   "source": [
    "# Required parameters\n",
    "assert 'hist_var' in locals(), \"Must provide an historical variable name (option -p hist_var {name})\"\n",
    "assert 'ref_var' in locals(), \"Must provide a reference variable name (option -p ref_var {name})\"\n",
    "assert 'target_var' in locals(), \"Must provide a target variable name (option -p target_var {name})\"\n",
    "assert 'hist_units' in locals(), \"Must provide historical units (option -p hist_units {units})\"\n",
    "assert 'ref_units' in locals(), \"Must provide reference units (option -p ref_units {units})\"\n",
    "assert 'target_units' in locals(), \"Must provide target units (option -p target_units {units})\"\n",
    "assert 'output_units' in locals(), \"Must provide output units (option -p output_units {units})\"\n",
    "assert 'adjustment_file' in locals(), \"Must provide an adjustment factors file (option -p adjustment_file {file path})\"\n",
    "assert 'hist_files' in locals(), \"\"\"Must provide historical data files (option -p hist_files {\"file paths\"})\"\"\"\n",
    "assert 'ref_files' in locals(), \"\"\"Must provide reference data files (option -p ref_files {\"file paths\"})\"\"\"\n",
    "assert 'target_files' in locals(), \"\"\"Must provide target data files (option -p target_files {\"file paths\"})\"\"\"\n",
    "assert 'qq_file' in locals(), \"Must provide an qq-scaled data file (option -p qq_file {file path})\"\n",
    "assert 'hist_time_bounds' in locals(), \"\"\"Must provide time bounds for historical data (option -p hist_time_bounds {\"YYYY-MM-DD YYYY-MM-DD\"})\"\"\"\n",
    "assert 'ref_time_bounds' in locals(), \"\"\"Must provide time bounds for reference data (option -p ref_time_bounds {\"YYYY-MM-DD YYYY-MM-DD\"})\"\"\"\n",
    "assert 'target_time_bounds' in locals(), \"\"\"Must provide time bounds for target data (option -p target_time_bounds {\"YYYY-MM-DD YYYY-MM-DD\"})\"\"\""
   ]
  },
  {
   "cell_type": "code",
   "execution_count": 6,
   "id": "491505bb",
   "metadata": {
    "execution": {
     "iopub.execute_input": "2023-01-13T09:48:28.848056Z",
     "iopub.status.busy": "2023-01-13T09:48:28.847688Z",
     "iopub.status.idle": "2023-01-13T09:48:28.854703Z",
     "shell.execute_reply": "2023-01-13T09:48:28.853512Z"
    },
    "papermill": {
     "duration": 0.020539,
     "end_time": "2023-01-13T09:48:28.857053",
     "exception": false,
     "start_time": "2023-01-13T09:48:28.836514",
     "status": "completed"
    },
    "tags": []
   },
   "outputs": [],
   "source": [
    "hist_files = hist_files.split()\n",
    "ref_files = ref_files.split()\n",
    "target_files = target_files.split()\n",
    "\n",
    "hist_time_bounds = hist_time_bounds.split()\n",
    "ref_time_bounds = ref_time_bounds.split()\n",
    "target_time_bounds = target_time_bounds.split()"
   ]
  },
  {
   "cell_type": "code",
   "execution_count": 7,
   "id": "897bfb3e",
   "metadata": {},
   "outputs": [],
   "source": [
    "point_selection = {'lat': example_lat, 'lon': example_lon}"
   ]
  },
  {
   "cell_type": "code",
   "execution_count": 8,
   "id": "704dcf44",
   "metadata": {
    "execution": {
     "iopub.execute_input": "2023-01-13T09:48:28.878122Z",
     "iopub.status.busy": "2023-01-13T09:48:28.877750Z",
     "iopub.status.idle": "2023-01-13T09:48:28.893112Z",
     "shell.execute_reply": "2023-01-13T09:48:28.892139Z"
    },
    "papermill": {
     "duration": 0.028078,
     "end_time": "2023-01-13T09:48:28.895569",
     "exception": false,
     "start_time": "2023-01-13T09:48:28.867491",
     "status": "completed"
    },
    "tags": []
   },
   "outputs": [],
   "source": [
    "plot_config = {}\n",
    "if hist_var == 'tasmin':\n",
    "    plot_config['regular_cmap'] = cmocean.cm.thermal\n",
    "    plot_config['diverging_cmap'] = 'RdBu_r'\n",
    "    plot_config['general_levels'] = [-1, 0.5, 2, 3.5, 5, 6.5, 8, 9.5, 11, 12.5, 14, 15.5, 17, 18.5, 20, 21.5]\n",
    "    plot_config['af_levels'] = None\n",
    "    plot_config['difference_levels'] = [0.6, 0.8, 1.0, 1.2, 1.4, 1.6, 1.8, 2.0]\n",
    "elif hist_var == 'tasmax':\n",
    "    plot_config['regular_cmap'] = cmocean.cm.thermal\n",
    "    plot_config['diverging_cmap'] = 'RdBu_r'\n",
    "    plot_config['general_levels'] = [5, 7.5, 10, 12.5, 15, 17.5, 20, 22.5, 25, 27.5, 30, 32.5, 35]\n",
    "    plot_config['af_levels'] = None\n",
    "    plot_config['difference_levels'] = [0.6, 0.8, 1.0, 1.2, 1.4, 1.6, 1.8, 2.0, 2.2]\n",
    "elif hist_var == 'pr':\n",
    "    plot_config['regular_cmap'] = cmocean.cm.rain\n",
    "    plot_config['diverging_cmap'] = 'BrBG'\n",
    "    plot_config['general_levels'] = [0, 0.01, 10, 20, 30, 40, 50, 60, 70, 80, 90]\n",
    "    plot_config['af_levels'] = [0.125, 0.25, 0.5, 0.67, 0.8, 1, 1.25, 1.5, 2, 4, 8]\n",
    "    plot_config['difference_levels'] = [-0.55, -0.45, -0.35, -0.25, -0.15, -0.05, 0.05, 0.15, 0.25, 0.35, 0.45, 0.55]\n",
    "else:\n",
    "    raise ValueError(f'No plotting configuration defined for {hist_var}')"
   ]
  },
  {
   "cell_type": "markdown",
   "id": "f1e34fbc",
   "metadata": {
    "papermill": {
     "duration": 0.009721,
     "end_time": "2023-01-13T09:48:28.916897",
     "exception": false,
     "start_time": "2023-01-13T09:48:28.907176",
     "status": "completed"
    },
    "tags": []
   },
   "source": [
    "## Read data"
   ]
  },
  {
   "cell_type": "code",
   "execution_count": 9,
   "id": "12689618",
   "metadata": {
    "execution": {
     "iopub.execute_input": "2023-01-13T09:48:28.933904Z",
     "iopub.status.busy": "2023-01-13T09:48:28.933455Z",
     "iopub.status.idle": "2023-01-13T09:48:30.197419Z",
     "shell.execute_reply": "2023-01-13T09:48:30.196222Z"
    },
    "papermill": {
     "duration": 1.27616,
     "end_time": "2023-01-13T09:48:30.201354",
     "exception": false,
     "start_time": "2023-01-13T09:48:28.925194",
     "status": "completed"
    },
    "tags": []
   },
   "outputs": [
    {
     "data": {
      "text/html": [
       "<div><svg style=\"position: absolute; width: 0; height: 0; overflow: hidden\">\n",
       "<defs>\n",
       "<symbol id=\"icon-database\" viewBox=\"0 0 32 32\">\n",
       "<path d=\"M16 0c-8.837 0-16 2.239-16 5v4c0 2.761 7.163 5 16 5s16-2.239 16-5v-4c0-2.761-7.163-5-16-5z\"></path>\n",
       "<path d=\"M16 17c-8.837 0-16-2.239-16-5v6c0 2.761 7.163 5 16 5s16-2.239 16-5v-6c0 2.761-7.163 5-16 5z\"></path>\n",
       "<path d=\"M16 26c-8.837 0-16-2.239-16-5v6c0 2.761 7.163 5 16 5s16-2.239 16-5v-6c0 2.761-7.163 5-16 5z\"></path>\n",
       "</symbol>\n",
       "<symbol id=\"icon-file-text2\" viewBox=\"0 0 32 32\">\n",
       "<path d=\"M28.681 7.159c-0.694-0.947-1.662-2.053-2.724-3.116s-2.169-2.030-3.116-2.724c-1.612-1.182-2.393-1.319-2.841-1.319h-15.5c-1.378 0-2.5 1.121-2.5 2.5v27c0 1.378 1.122 2.5 2.5 2.5h23c1.378 0 2.5-1.122 2.5-2.5v-19.5c0-0.448-0.137-1.23-1.319-2.841zM24.543 5.457c0.959 0.959 1.712 1.825 2.268 2.543h-4.811v-4.811c0.718 0.556 1.584 1.309 2.543 2.268zM28 29.5c0 0.271-0.229 0.5-0.5 0.5h-23c-0.271 0-0.5-0.229-0.5-0.5v-27c0-0.271 0.229-0.5 0.5-0.5 0 0 15.499-0 15.5 0v7c0 0.552 0.448 1 1 1h7v19.5z\"></path>\n",
       "<path d=\"M23 26h-14c-0.552 0-1-0.448-1-1s0.448-1 1-1h14c0.552 0 1 0.448 1 1s-0.448 1-1 1z\"></path>\n",
       "<path d=\"M23 22h-14c-0.552 0-1-0.448-1-1s0.448-1 1-1h14c0.552 0 1 0.448 1 1s-0.448 1-1 1z\"></path>\n",
       "<path d=\"M23 18h-14c-0.552 0-1-0.448-1-1s0.448-1 1-1h14c0.552 0 1 0.448 1 1s-0.448 1-1 1z\"></path>\n",
       "</symbol>\n",
       "</defs>\n",
       "</svg>\n",
       "<style>/* CSS stylesheet for displaying xarray objects in jupyterlab.\n",
       " *\n",
       " */\n",
       "\n",
       ":root {\n",
       "  --xr-font-color0: var(--jp-content-font-color0, rgba(0, 0, 0, 1));\n",
       "  --xr-font-color2: var(--jp-content-font-color2, rgba(0, 0, 0, 0.54));\n",
       "  --xr-font-color3: var(--jp-content-font-color3, rgba(0, 0, 0, 0.38));\n",
       "  --xr-border-color: var(--jp-border-color2, #e0e0e0);\n",
       "  --xr-disabled-color: var(--jp-layout-color3, #bdbdbd);\n",
       "  --xr-background-color: var(--jp-layout-color0, white);\n",
       "  --xr-background-color-row-even: var(--jp-layout-color1, white);\n",
       "  --xr-background-color-row-odd: var(--jp-layout-color2, #eeeeee);\n",
       "}\n",
       "\n",
       "html[theme=dark],\n",
       "body.vscode-dark {\n",
       "  --xr-font-color0: rgba(255, 255, 255, 1);\n",
       "  --xr-font-color2: rgba(255, 255, 255, 0.54);\n",
       "  --xr-font-color3: rgba(255, 255, 255, 0.38);\n",
       "  --xr-border-color: #1F1F1F;\n",
       "  --xr-disabled-color: #515151;\n",
       "  --xr-background-color: #111111;\n",
       "  --xr-background-color-row-even: #111111;\n",
       "  --xr-background-color-row-odd: #313131;\n",
       "}\n",
       "\n",
       ".xr-wrap {\n",
       "  display: block !important;\n",
       "  min-width: 300px;\n",
       "  max-width: 700px;\n",
       "}\n",
       "\n",
       ".xr-text-repr-fallback {\n",
       "  /* fallback to plain text repr when CSS is not injected (untrusted notebook) */\n",
       "  display: none;\n",
       "}\n",
       "\n",
       ".xr-header {\n",
       "  padding-top: 6px;\n",
       "  padding-bottom: 6px;\n",
       "  margin-bottom: 4px;\n",
       "  border-bottom: solid 1px var(--xr-border-color);\n",
       "}\n",
       "\n",
       ".xr-header > div,\n",
       ".xr-header > ul {\n",
       "  display: inline;\n",
       "  margin-top: 0;\n",
       "  margin-bottom: 0;\n",
       "}\n",
       "\n",
       ".xr-obj-type,\n",
       ".xr-array-name {\n",
       "  margin-left: 2px;\n",
       "  margin-right: 10px;\n",
       "}\n",
       "\n",
       ".xr-obj-type {\n",
       "  color: var(--xr-font-color2);\n",
       "}\n",
       "\n",
       ".xr-sections {\n",
       "  padding-left: 0 !important;\n",
       "  display: grid;\n",
       "  grid-template-columns: 150px auto auto 1fr 20px 20px;\n",
       "}\n",
       "\n",
       ".xr-section-item {\n",
       "  display: contents;\n",
       "}\n",
       "\n",
       ".xr-section-item input {\n",
       "  display: none;\n",
       "}\n",
       "\n",
       ".xr-section-item input + label {\n",
       "  color: var(--xr-disabled-color);\n",
       "}\n",
       "\n",
       ".xr-section-item input:enabled + label {\n",
       "  cursor: pointer;\n",
       "  color: var(--xr-font-color2);\n",
       "}\n",
       "\n",
       ".xr-section-item input:enabled + label:hover {\n",
       "  color: var(--xr-font-color0);\n",
       "}\n",
       "\n",
       ".xr-section-summary {\n",
       "  grid-column: 1;\n",
       "  color: var(--xr-font-color2);\n",
       "  font-weight: 500;\n",
       "}\n",
       "\n",
       ".xr-section-summary > span {\n",
       "  display: inline-block;\n",
       "  padding-left: 0.5em;\n",
       "}\n",
       "\n",
       ".xr-section-summary-in:disabled + label {\n",
       "  color: var(--xr-font-color2);\n",
       "}\n",
       "\n",
       ".xr-section-summary-in + label:before {\n",
       "  display: inline-block;\n",
       "  content: '►';\n",
       "  font-size: 11px;\n",
       "  width: 15px;\n",
       "  text-align: center;\n",
       "}\n",
       "\n",
       ".xr-section-summary-in:disabled + label:before {\n",
       "  color: var(--xr-disabled-color);\n",
       "}\n",
       "\n",
       ".xr-section-summary-in:checked + label:before {\n",
       "  content: '▼';\n",
       "}\n",
       "\n",
       ".xr-section-summary-in:checked + label > span {\n",
       "  display: none;\n",
       "}\n",
       "\n",
       ".xr-section-summary,\n",
       ".xr-section-inline-details {\n",
       "  padding-top: 4px;\n",
       "  padding-bottom: 4px;\n",
       "}\n",
       "\n",
       ".xr-section-inline-details {\n",
       "  grid-column: 2 / -1;\n",
       "}\n",
       "\n",
       ".xr-section-details {\n",
       "  display: none;\n",
       "  grid-column: 1 / -1;\n",
       "  margin-bottom: 5px;\n",
       "}\n",
       "\n",
       ".xr-section-summary-in:checked ~ .xr-section-details {\n",
       "  display: contents;\n",
       "}\n",
       "\n",
       ".xr-array-wrap {\n",
       "  grid-column: 1 / -1;\n",
       "  display: grid;\n",
       "  grid-template-columns: 20px auto;\n",
       "}\n",
       "\n",
       ".xr-array-wrap > label {\n",
       "  grid-column: 1;\n",
       "  vertical-align: top;\n",
       "}\n",
       "\n",
       ".xr-preview {\n",
       "  color: var(--xr-font-color3);\n",
       "}\n",
       "\n",
       ".xr-array-preview,\n",
       ".xr-array-data {\n",
       "  padding: 0 5px !important;\n",
       "  grid-column: 2;\n",
       "}\n",
       "\n",
       ".xr-array-data,\n",
       ".xr-array-in:checked ~ .xr-array-preview {\n",
       "  display: none;\n",
       "}\n",
       "\n",
       ".xr-array-in:checked ~ .xr-array-data,\n",
       ".xr-array-preview {\n",
       "  display: inline-block;\n",
       "}\n",
       "\n",
       ".xr-dim-list {\n",
       "  display: inline-block !important;\n",
       "  list-style: none;\n",
       "  padding: 0 !important;\n",
       "  margin: 0;\n",
       "}\n",
       "\n",
       ".xr-dim-list li {\n",
       "  display: inline-block;\n",
       "  padding: 0;\n",
       "  margin: 0;\n",
       "}\n",
       "\n",
       ".xr-dim-list:before {\n",
       "  content: '(';\n",
       "}\n",
       "\n",
       ".xr-dim-list:after {\n",
       "  content: ')';\n",
       "}\n",
       "\n",
       ".xr-dim-list li:not(:last-child):after {\n",
       "  content: ',';\n",
       "  padding-right: 5px;\n",
       "}\n",
       "\n",
       ".xr-has-index {\n",
       "  font-weight: bold;\n",
       "}\n",
       "\n",
       ".xr-var-list,\n",
       ".xr-var-item {\n",
       "  display: contents;\n",
       "}\n",
       "\n",
       ".xr-var-item > div,\n",
       ".xr-var-item label,\n",
       ".xr-var-item > .xr-var-name span {\n",
       "  background-color: var(--xr-background-color-row-even);\n",
       "  margin-bottom: 0;\n",
       "}\n",
       "\n",
       ".xr-var-item > .xr-var-name:hover span {\n",
       "  padding-right: 5px;\n",
       "}\n",
       "\n",
       ".xr-var-list > li:nth-child(odd) > div,\n",
       ".xr-var-list > li:nth-child(odd) > label,\n",
       ".xr-var-list > li:nth-child(odd) > .xr-var-name span {\n",
       "  background-color: var(--xr-background-color-row-odd);\n",
       "}\n",
       "\n",
       ".xr-var-name {\n",
       "  grid-column: 1;\n",
       "}\n",
       "\n",
       ".xr-var-dims {\n",
       "  grid-column: 2;\n",
       "}\n",
       "\n",
       ".xr-var-dtype {\n",
       "  grid-column: 3;\n",
       "  text-align: right;\n",
       "  color: var(--xr-font-color2);\n",
       "}\n",
       "\n",
       ".xr-var-preview {\n",
       "  grid-column: 4;\n",
       "}\n",
       "\n",
       ".xr-var-name,\n",
       ".xr-var-dims,\n",
       ".xr-var-dtype,\n",
       ".xr-preview,\n",
       ".xr-attrs dt {\n",
       "  white-space: nowrap;\n",
       "  overflow: hidden;\n",
       "  text-overflow: ellipsis;\n",
       "  padding-right: 10px;\n",
       "}\n",
       "\n",
       ".xr-var-name:hover,\n",
       ".xr-var-dims:hover,\n",
       ".xr-var-dtype:hover,\n",
       ".xr-attrs dt:hover {\n",
       "  overflow: visible;\n",
       "  width: auto;\n",
       "  z-index: 1;\n",
       "}\n",
       "\n",
       ".xr-var-attrs,\n",
       ".xr-var-data {\n",
       "  display: none;\n",
       "  background-color: var(--xr-background-color) !important;\n",
       "  padding-bottom: 5px !important;\n",
       "}\n",
       "\n",
       ".xr-var-attrs-in:checked ~ .xr-var-attrs,\n",
       ".xr-var-data-in:checked ~ .xr-var-data {\n",
       "  display: block;\n",
       "}\n",
       "\n",
       ".xr-var-data > table {\n",
       "  float: right;\n",
       "}\n",
       "\n",
       ".xr-var-name span,\n",
       ".xr-var-data,\n",
       ".xr-attrs {\n",
       "  padding-left: 25px !important;\n",
       "}\n",
       "\n",
       ".xr-attrs,\n",
       ".xr-var-attrs,\n",
       ".xr-var-data {\n",
       "  grid-column: 1 / -1;\n",
       "}\n",
       "\n",
       "dl.xr-attrs {\n",
       "  padding: 0;\n",
       "  margin: 0;\n",
       "  display: grid;\n",
       "  grid-template-columns: 125px auto;\n",
       "}\n",
       "\n",
       ".xr-attrs dt,\n",
       ".xr-attrs dd {\n",
       "  padding: 0;\n",
       "  margin: 0;\n",
       "  float: left;\n",
       "  padding-right: 10px;\n",
       "  width: auto;\n",
       "}\n",
       "\n",
       ".xr-attrs dt {\n",
       "  font-weight: normal;\n",
       "  grid-column: 1;\n",
       "}\n",
       "\n",
       ".xr-attrs dt:hover span {\n",
       "  display: inline-block;\n",
       "  background: var(--xr-background-color);\n",
       "  padding-right: 10px;\n",
       "}\n",
       "\n",
       ".xr-attrs dd {\n",
       "  grid-column: 2;\n",
       "  white-space: pre-wrap;\n",
       "  word-break: break-all;\n",
       "}\n",
       "\n",
       ".xr-icon-database,\n",
       ".xr-icon-file-text2 {\n",
       "  display: inline-block;\n",
       "  vertical-align: middle;\n",
       "  width: 1em;\n",
       "  height: 1.5em !important;\n",
       "  stroke-width: 0;\n",
       "  stroke: currentColor;\n",
       "  fill: currentColor;\n",
       "}\n",
       "</style><pre class='xr-text-repr-fallback'>&lt;xarray.DataArray &#x27;tasmin&#x27; (time: 7305, lat: 145, lon: 192)&gt;\n",
       "dask.array&lt;rechunk-merge, shape=(7305, 145, 192), dtype=float32, chunksize=(7305, 145, 192), chunktype=numpy.ndarray&gt;\n",
       "Coordinates:\n",
       "  * time     (time) datetime64[ns] 1995-01-01T12:00:00 ... 2014-12-31T12:00:00\n",
       "  * lat      (lat) float64 -90.0 -88.75 -87.5 -86.25 ... 86.25 87.5 88.75 90.0\n",
       "  * lon      (lon) float64 0.0 1.875 3.75 5.625 7.5 ... 352.5 354.4 356.2 358.1\n",
       "Attributes:\n",
       "    standard_name:  air_temperature\n",
       "    long_name:      Daily Minimum Near-Surface Air Temperature\n",
       "    comment:        minimum near-surface (usually, 2 meter) air temperature (...\n",
       "    units:          C\n",
       "    cell_methods:   area: mean time: minimum\n",
       "    cell_measures:  area: areacella\n",
       "    history:        2019-11-15T17:36:46Z altered by CMOR: Treated scalar dime...</pre><div class='xr-wrap' style='display:none'><div class='xr-header'><div class='xr-obj-type'>xarray.DataArray</div><div class='xr-array-name'>'tasmin'</div><ul class='xr-dim-list'><li><span class='xr-has-index'>time</span>: 7305</li><li><span class='xr-has-index'>lat</span>: 145</li><li><span class='xr-has-index'>lon</span>: 192</li></ul></div><ul class='xr-sections'><li class='xr-section-item'><div class='xr-array-wrap'><input id='section-074ea46f-7d24-48fd-988c-da995d2ab570' class='xr-array-in' type='checkbox' checked><label for='section-074ea46f-7d24-48fd-988c-da995d2ab570' title='Show/hide data repr'><svg class='icon xr-icon-database'><use xlink:href='#icon-database'></use></svg></label><div class='xr-array-preview xr-preview'><span>dask.array&lt;chunksize=(7305, 145, 192), meta=np.ndarray&gt;</span></div><div class='xr-array-data'><table>\n",
       "    <tr>\n",
       "        <td>\n",
       "            <table>\n",
       "                <thead>\n",
       "                    <tr>\n",
       "                        <td> </td>\n",
       "                        <th> Array </th>\n",
       "                        <th> Chunk </th>\n",
       "                    </tr>\n",
       "                </thead>\n",
       "                <tbody>\n",
       "                    \n",
       "                    <tr>\n",
       "                        <th> Bytes </th>\n",
       "                        <td> 775.80 MiB </td>\n",
       "                        <td> 775.80 MiB </td>\n",
       "                    </tr>\n",
       "                    \n",
       "                    <tr>\n",
       "                        <th> Shape </th>\n",
       "                        <td> (7305, 145, 192) </td>\n",
       "                        <td> (7305, 145, 192) </td>\n",
       "                    </tr>\n",
       "                    <tr>\n",
       "                        <th> Count </th>\n",
       "                        <td> 15 Tasks </td>\n",
       "                        <td> 1 Chunks </td>\n",
       "                    </tr>\n",
       "                    <tr>\n",
       "                    <th> Type </th>\n",
       "                    <td> float32 </td>\n",
       "                    <td> numpy.ndarray </td>\n",
       "                    </tr>\n",
       "                </tbody>\n",
       "            </table>\n",
       "        </td>\n",
       "        <td>\n",
       "        <svg width=\"161\" height=\"149\" style=\"stroke:rgb(0,0,0);stroke-width:1\" >\n",
       "\n",
       "  <!-- Horizontal lines -->\n",
       "  <line x1=\"10\" y1=\"0\" x2=\"80\" y2=\"70\" style=\"stroke-width:2\" />\n",
       "  <line x1=\"10\" y1=\"28\" x2=\"80\" y2=\"99\" style=\"stroke-width:2\" />\n",
       "\n",
       "  <!-- Vertical lines -->\n",
       "  <line x1=\"10\" y1=\"0\" x2=\"10\" y2=\"28\" style=\"stroke-width:2\" />\n",
       "  <line x1=\"80\" y1=\"70\" x2=\"80\" y2=\"99\" style=\"stroke-width:2\" />\n",
       "\n",
       "  <!-- Colored Rectangle -->\n",
       "  <polygon points=\"10.0,0.0 80.58823529411765,70.58823529411765 80.58823529411765,99.57636431311413 10.0,28.98812901899647\" style=\"fill:#ECB172A0;stroke-width:0\"/>\n",
       "\n",
       "  <!-- Horizontal lines -->\n",
       "  <line x1=\"10\" y1=\"0\" x2=\"40\" y2=\"0\" style=\"stroke-width:2\" />\n",
       "  <line x1=\"80\" y1=\"70\" x2=\"111\" y2=\"70\" style=\"stroke-width:2\" />\n",
       "\n",
       "  <!-- Vertical lines -->\n",
       "  <line x1=\"10\" y1=\"0\" x2=\"80\" y2=\"70\" style=\"stroke-width:2\" />\n",
       "  <line x1=\"40\" y1=\"0\" x2=\"111\" y2=\"70\" style=\"stroke-width:2\" />\n",
       "\n",
       "  <!-- Colored Rectangle -->\n",
       "  <polygon points=\"10.0,0.0 40.605055814352866,0.0 111.19329110847052,70.58823529411765 80.58823529411765,70.58823529411765\" style=\"fill:#ECB172A0;stroke-width:0\"/>\n",
       "\n",
       "  <!-- Horizontal lines -->\n",
       "  <line x1=\"80\" y1=\"70\" x2=\"111\" y2=\"70\" style=\"stroke-width:2\" />\n",
       "  <line x1=\"80\" y1=\"99\" x2=\"111\" y2=\"99\" style=\"stroke-width:2\" />\n",
       "\n",
       "  <!-- Vertical lines -->\n",
       "  <line x1=\"80\" y1=\"70\" x2=\"80\" y2=\"99\" style=\"stroke-width:2\" />\n",
       "  <line x1=\"111\" y1=\"70\" x2=\"111\" y2=\"99\" style=\"stroke-width:2\" />\n",
       "\n",
       "  <!-- Colored Rectangle -->\n",
       "  <polygon points=\"80.58823529411765,70.58823529411765 111.19329110847052,70.58823529411765 111.19329110847052,99.57636431311413 80.58823529411765,99.57636431311413\" style=\"fill:#ECB172A0;stroke-width:0\"/>\n",
       "\n",
       "  <!-- Text -->\n",
       "  <text x=\"95.890763\" y=\"119.576364\" font-size=\"1.0rem\" font-weight=\"100\" text-anchor=\"middle\" >192</text>\n",
       "  <text x=\"131.193291\" y=\"85.082300\" font-size=\"1.0rem\" font-weight=\"100\" text-anchor=\"middle\" transform=\"rotate(-90,131.193291,85.082300)\">145</text>\n",
       "  <text x=\"35.294118\" y=\"84.282247\" font-size=\"1.0rem\" font-weight=\"100\" text-anchor=\"middle\" transform=\"rotate(45,35.294118,84.282247)\">7305</text>\n",
       "</svg>\n",
       "        </td>\n",
       "    </tr>\n",
       "</table></div></div></li><li class='xr-section-item'><input id='section-fc18069a-7aa9-4e59-b5a7-cd3c12ab371c' class='xr-section-summary-in' type='checkbox'  checked><label for='section-fc18069a-7aa9-4e59-b5a7-cd3c12ab371c' class='xr-section-summary' >Coordinates: <span>(3)</span></label><div class='xr-section-inline-details'></div><div class='xr-section-details'><ul class='xr-var-list'><li class='xr-var-item'><div class='xr-var-name'><span class='xr-has-index'>time</span></div><div class='xr-var-dims'>(time)</div><div class='xr-var-dtype'>datetime64[ns]</div><div class='xr-var-preview xr-preview'>1995-01-01T12:00:00 ... 2014-12-...</div><input id='attrs-80b23678-b106-4aa4-9164-cc2f6c15a4a4' class='xr-var-attrs-in' type='checkbox' ><label for='attrs-80b23678-b106-4aa4-9164-cc2f6c15a4a4' title='Show/Hide attributes'><svg class='icon xr-icon-file-text2'><use xlink:href='#icon-file-text2'></use></svg></label><input id='data-8a32495c-da78-443c-9a10-41d5ab1e20d2' class='xr-var-data-in' type='checkbox'><label for='data-8a32495c-da78-443c-9a10-41d5ab1e20d2' title='Show/Hide data repr'><svg class='icon xr-icon-database'><use xlink:href='#icon-database'></use></svg></label><div class='xr-var-attrs'><dl class='xr-attrs'><dt><span>bounds :</span></dt><dd>time_bnds</dd><dt><span>axis :</span></dt><dd>T</dd><dt><span>long_name :</span></dt><dd>time</dd><dt><span>standard_name :</span></dt><dd>time</dd></dl></div><div class='xr-var-data'><pre>array([&#x27;1995-01-01T12:00:00.000000000&#x27;, &#x27;1995-01-02T12:00:00.000000000&#x27;,\n",
       "       &#x27;1995-01-03T12:00:00.000000000&#x27;, ..., &#x27;2014-12-29T12:00:00.000000000&#x27;,\n",
       "       &#x27;2014-12-30T12:00:00.000000000&#x27;, &#x27;2014-12-31T12:00:00.000000000&#x27;],\n",
       "      dtype=&#x27;datetime64[ns]&#x27;)</pre></div></li><li class='xr-var-item'><div class='xr-var-name'><span class='xr-has-index'>lat</span></div><div class='xr-var-dims'>(lat)</div><div class='xr-var-dtype'>float64</div><div class='xr-var-preview xr-preview'>-90.0 -88.75 -87.5 ... 88.75 90.0</div><input id='attrs-6e39dc89-61b8-4fa8-b3c8-4c1b1af218f4' class='xr-var-attrs-in' type='checkbox' ><label for='attrs-6e39dc89-61b8-4fa8-b3c8-4c1b1af218f4' title='Show/Hide attributes'><svg class='icon xr-icon-file-text2'><use xlink:href='#icon-file-text2'></use></svg></label><input id='data-6319d96d-54c7-4f32-8cae-061ed3f0c0e2' class='xr-var-data-in' type='checkbox'><label for='data-6319d96d-54c7-4f32-8cae-061ed3f0c0e2' title='Show/Hide data repr'><svg class='icon xr-icon-database'><use xlink:href='#icon-database'></use></svg></label><div class='xr-var-attrs'><dl class='xr-attrs'><dt><span>bounds :</span></dt><dd>lat_bnds</dd><dt><span>units :</span></dt><dd>degrees_north</dd><dt><span>axis :</span></dt><dd>Y</dd><dt><span>long_name :</span></dt><dd>Latitude</dd><dt><span>standard_name :</span></dt><dd>latitude</dd></dl></div><div class='xr-var-data'><pre>array([-90.  , -88.75, -87.5 , -86.25, -85.  , -83.75, -82.5 , -81.25, -80.  ,\n",
       "       -78.75, -77.5 , -76.25, -75.  , -73.75, -72.5 , -71.25, -70.  , -68.75,\n",
       "       -67.5 , -66.25, -65.  , -63.75, -62.5 , -61.25, -60.  , -58.75, -57.5 ,\n",
       "       -56.25, -55.  , -53.75, -52.5 , -51.25, -50.  , -48.75, -47.5 , -46.25,\n",
       "       -45.  , -43.75, -42.5 , -41.25, -40.  , -38.75, -37.5 , -36.25, -35.  ,\n",
       "       -33.75, -32.5 , -31.25, -30.  , -28.75, -27.5 , -26.25, -25.  , -23.75,\n",
       "       -22.5 , -21.25, -20.  , -18.75, -17.5 , -16.25, -15.  , -13.75, -12.5 ,\n",
       "       -11.25, -10.  ,  -8.75,  -7.5 ,  -6.25,  -5.  ,  -3.75,  -2.5 ,  -1.25,\n",
       "         0.  ,   1.25,   2.5 ,   3.75,   5.  ,   6.25,   7.5 ,   8.75,  10.  ,\n",
       "        11.25,  12.5 ,  13.75,  15.  ,  16.25,  17.5 ,  18.75,  20.  ,  21.25,\n",
       "        22.5 ,  23.75,  25.  ,  26.25,  27.5 ,  28.75,  30.  ,  31.25,  32.5 ,\n",
       "        33.75,  35.  ,  36.25,  37.5 ,  38.75,  40.  ,  41.25,  42.5 ,  43.75,\n",
       "        45.  ,  46.25,  47.5 ,  48.75,  50.  ,  51.25,  52.5 ,  53.75,  55.  ,\n",
       "        56.25,  57.5 ,  58.75,  60.  ,  61.25,  62.5 ,  63.75,  65.  ,  66.25,\n",
       "        67.5 ,  68.75,  70.  ,  71.25,  72.5 ,  73.75,  75.  ,  76.25,  77.5 ,\n",
       "        78.75,  80.  ,  81.25,  82.5 ,  83.75,  85.  ,  86.25,  87.5 ,  88.75,\n",
       "        90.  ])</pre></div></li><li class='xr-var-item'><div class='xr-var-name'><span class='xr-has-index'>lon</span></div><div class='xr-var-dims'>(lon)</div><div class='xr-var-dtype'>float64</div><div class='xr-var-preview xr-preview'>0.0 1.875 3.75 ... 356.2 358.1</div><input id='attrs-18a214cd-6325-46b9-833d-2ec5554439be' class='xr-var-attrs-in' type='checkbox' ><label for='attrs-18a214cd-6325-46b9-833d-2ec5554439be' title='Show/Hide attributes'><svg class='icon xr-icon-file-text2'><use xlink:href='#icon-file-text2'></use></svg></label><input id='data-cd7a0f15-eb39-4e5e-b854-fb2fd3ebd1e8' class='xr-var-data-in' type='checkbox'><label for='data-cd7a0f15-eb39-4e5e-b854-fb2fd3ebd1e8' title='Show/Hide data repr'><svg class='icon xr-icon-database'><use xlink:href='#icon-database'></use></svg></label><div class='xr-var-attrs'><dl class='xr-attrs'><dt><span>bounds :</span></dt><dd>lon_bnds</dd><dt><span>units :</span></dt><dd>degrees_east</dd><dt><span>axis :</span></dt><dd>X</dd><dt><span>long_name :</span></dt><dd>Longitude</dd><dt><span>standard_name :</span></dt><dd>longitude</dd></dl></div><div class='xr-var-data'><pre>array([  0.   ,   1.875,   3.75 ,   5.625,   7.5  ,   9.375,  11.25 ,  13.125,\n",
       "        15.   ,  16.875,  18.75 ,  20.625,  22.5  ,  24.375,  26.25 ,  28.125,\n",
       "        30.   ,  31.875,  33.75 ,  35.625,  37.5  ,  39.375,  41.25 ,  43.125,\n",
       "        45.   ,  46.875,  48.75 ,  50.625,  52.5  ,  54.375,  56.25 ,  58.125,\n",
       "        60.   ,  61.875,  63.75 ,  65.625,  67.5  ,  69.375,  71.25 ,  73.125,\n",
       "        75.   ,  76.875,  78.75 ,  80.625,  82.5  ,  84.375,  86.25 ,  88.125,\n",
       "        90.   ,  91.875,  93.75 ,  95.625,  97.5  ,  99.375, 101.25 , 103.125,\n",
       "       105.   , 106.875, 108.75 , 110.625, 112.5  , 114.375, 116.25 , 118.125,\n",
       "       120.   , 121.875, 123.75 , 125.625, 127.5  , 129.375, 131.25 , 133.125,\n",
       "       135.   , 136.875, 138.75 , 140.625, 142.5  , 144.375, 146.25 , 148.125,\n",
       "       150.   , 151.875, 153.75 , 155.625, 157.5  , 159.375, 161.25 , 163.125,\n",
       "       165.   , 166.875, 168.75 , 170.625, 172.5  , 174.375, 176.25 , 178.125,\n",
       "       180.   , 181.875, 183.75 , 185.625, 187.5  , 189.375, 191.25 , 193.125,\n",
       "       195.   , 196.875, 198.75 , 200.625, 202.5  , 204.375, 206.25 , 208.125,\n",
       "       210.   , 211.875, 213.75 , 215.625, 217.5  , 219.375, 221.25 , 223.125,\n",
       "       225.   , 226.875, 228.75 , 230.625, 232.5  , 234.375, 236.25 , 238.125,\n",
       "       240.   , 241.875, 243.75 , 245.625, 247.5  , 249.375, 251.25 , 253.125,\n",
       "       255.   , 256.875, 258.75 , 260.625, 262.5  , 264.375, 266.25 , 268.125,\n",
       "       270.   , 271.875, 273.75 , 275.625, 277.5  , 279.375, 281.25 , 283.125,\n",
       "       285.   , 286.875, 288.75 , 290.625, 292.5  , 294.375, 296.25 , 298.125,\n",
       "       300.   , 301.875, 303.75 , 305.625, 307.5  , 309.375, 311.25 , 313.125,\n",
       "       315.   , 316.875, 318.75 , 320.625, 322.5  , 324.375, 326.25 , 328.125,\n",
       "       330.   , 331.875, 333.75 , 335.625, 337.5  , 339.375, 341.25 , 343.125,\n",
       "       345.   , 346.875, 348.75 , 350.625, 352.5  , 354.375, 356.25 , 358.125])</pre></div></li></ul></div></li><li class='xr-section-item'><input id='section-ec0db1d0-a5b5-4ab6-bc41-f9dd539eb8a8' class='xr-section-summary-in' type='checkbox'  checked><label for='section-ec0db1d0-a5b5-4ab6-bc41-f9dd539eb8a8' class='xr-section-summary' >Attributes: <span>(7)</span></label><div class='xr-section-inline-details'></div><div class='xr-section-details'><dl class='xr-attrs'><dt><span>standard_name :</span></dt><dd>air_temperature</dd><dt><span>long_name :</span></dt><dd>Daily Minimum Near-Surface Air Temperature</dd><dt><span>comment :</span></dt><dd>minimum near-surface (usually, 2 meter) air temperature (add cell_method attribute &#x27;time: min&#x27;)</dd><dt><span>units :</span></dt><dd>C</dd><dt><span>cell_methods :</span></dt><dd>area: mean time: minimum</dd><dt><span>cell_measures :</span></dt><dd>area: areacella</dd><dt><span>history :</span></dt><dd>2019-11-15T17:36:46Z altered by CMOR: Treated scalar dimension: &#x27;height&#x27;. 2019-11-15T17:36:46Z altered by CMOR: replaced missing value flag (-1.07374e+09) with standard missing value (1e+20).</dd></dl></div></li></ul></div></div>"
      ],
      "text/plain": [
       "<xarray.DataArray 'tasmin' (time: 7305, lat: 145, lon: 192)>\n",
       "dask.array<rechunk-merge, shape=(7305, 145, 192), dtype=float32, chunksize=(7305, 145, 192), chunktype=numpy.ndarray>\n",
       "Coordinates:\n",
       "  * time     (time) datetime64[ns] 1995-01-01T12:00:00 ... 2014-12-31T12:00:00\n",
       "  * lat      (lat) float64 -90.0 -88.75 -87.5 -86.25 ... 86.25 87.5 88.75 90.0\n",
       "  * lon      (lon) float64 0.0 1.875 3.75 5.625 7.5 ... 352.5 354.4 356.2 358.1\n",
       "Attributes:\n",
       "    standard_name:  air_temperature\n",
       "    long_name:      Daily Minimum Near-Surface Air Temperature\n",
       "    comment:        minimum near-surface (usually, 2 meter) air temperature (...\n",
       "    units:          C\n",
       "    cell_methods:   area: mean time: minimum\n",
       "    cell_measures:  area: areacella\n",
       "    history:        2019-11-15T17:36:46Z altered by CMOR: Treated scalar dime..."
      ]
     },
     "execution_count": 9,
     "metadata": {},
     "output_type": "execute_result"
    }
   ],
   "source": [
    "ds_hist = utils.read_data(\n",
    "    hist_files,\n",
    "    hist_var,\n",
    "    time_bounds=hist_time_bounds,\n",
    "    input_units=hist_units,\n",
    "    output_units=output_units,\n",
    ")\n",
    "ds_hist[hist_var]"
   ]
  },
  {
   "cell_type": "code",
   "execution_count": 10,
   "id": "38b4cc34",
   "metadata": {},
   "outputs": [],
   "source": [
    "da_hist = ds_hist[hist_var].sel(point_selection, method='nearest')"
   ]
  },
  {
   "cell_type": "code",
   "execution_count": 11,
   "id": "b41f0d1b",
   "metadata": {
    "execution": {
     "iopub.execute_input": "2023-01-13T09:48:30.231146Z",
     "iopub.status.busy": "2023-01-13T09:48:30.230760Z",
     "iopub.status.idle": "2023-01-13T09:48:30.698962Z",
     "shell.execute_reply": "2023-01-13T09:48:30.698398Z"
    },
    "papermill": {
     "duration": 0.487267,
     "end_time": "2023-01-13T09:48:30.703161",
     "exception": false,
     "start_time": "2023-01-13T09:48:30.215894",
     "status": "completed"
    },
    "tags": []
   },
   "outputs": [
    {
     "data": {
      "text/html": [
       "<div><svg style=\"position: absolute; width: 0; height: 0; overflow: hidden\">\n",
       "<defs>\n",
       "<symbol id=\"icon-database\" viewBox=\"0 0 32 32\">\n",
       "<path d=\"M16 0c-8.837 0-16 2.239-16 5v4c0 2.761 7.163 5 16 5s16-2.239 16-5v-4c0-2.761-7.163-5-16-5z\"></path>\n",
       "<path d=\"M16 17c-8.837 0-16-2.239-16-5v6c0 2.761 7.163 5 16 5s16-2.239 16-5v-6c0 2.761-7.163 5-16 5z\"></path>\n",
       "<path d=\"M16 26c-8.837 0-16-2.239-16-5v6c0 2.761 7.163 5 16 5s16-2.239 16-5v-6c0 2.761-7.163 5-16 5z\"></path>\n",
       "</symbol>\n",
       "<symbol id=\"icon-file-text2\" viewBox=\"0 0 32 32\">\n",
       "<path d=\"M28.681 7.159c-0.694-0.947-1.662-2.053-2.724-3.116s-2.169-2.030-3.116-2.724c-1.612-1.182-2.393-1.319-2.841-1.319h-15.5c-1.378 0-2.5 1.121-2.5 2.5v27c0 1.378 1.122 2.5 2.5 2.5h23c1.378 0 2.5-1.122 2.5-2.5v-19.5c0-0.448-0.137-1.23-1.319-2.841zM24.543 5.457c0.959 0.959 1.712 1.825 2.268 2.543h-4.811v-4.811c0.718 0.556 1.584 1.309 2.543 2.268zM28 29.5c0 0.271-0.229 0.5-0.5 0.5h-23c-0.271 0-0.5-0.229-0.5-0.5v-27c0-0.271 0.229-0.5 0.5-0.5 0 0 15.499-0 15.5 0v7c0 0.552 0.448 1 1 1h7v19.5z\"></path>\n",
       "<path d=\"M23 26h-14c-0.552 0-1-0.448-1-1s0.448-1 1-1h14c0.552 0 1 0.448 1 1s-0.448 1-1 1z\"></path>\n",
       "<path d=\"M23 22h-14c-0.552 0-1-0.448-1-1s0.448-1 1-1h14c0.552 0 1 0.448 1 1s-0.448 1-1 1z\"></path>\n",
       "<path d=\"M23 18h-14c-0.552 0-1-0.448-1-1s0.448-1 1-1h14c0.552 0 1 0.448 1 1s-0.448 1-1 1z\"></path>\n",
       "</symbol>\n",
       "</defs>\n",
       "</svg>\n",
       "<style>/* CSS stylesheet for displaying xarray objects in jupyterlab.\n",
       " *\n",
       " */\n",
       "\n",
       ":root {\n",
       "  --xr-font-color0: var(--jp-content-font-color0, rgba(0, 0, 0, 1));\n",
       "  --xr-font-color2: var(--jp-content-font-color2, rgba(0, 0, 0, 0.54));\n",
       "  --xr-font-color3: var(--jp-content-font-color3, rgba(0, 0, 0, 0.38));\n",
       "  --xr-border-color: var(--jp-border-color2, #e0e0e0);\n",
       "  --xr-disabled-color: var(--jp-layout-color3, #bdbdbd);\n",
       "  --xr-background-color: var(--jp-layout-color0, white);\n",
       "  --xr-background-color-row-even: var(--jp-layout-color1, white);\n",
       "  --xr-background-color-row-odd: var(--jp-layout-color2, #eeeeee);\n",
       "}\n",
       "\n",
       "html[theme=dark],\n",
       "body.vscode-dark {\n",
       "  --xr-font-color0: rgba(255, 255, 255, 1);\n",
       "  --xr-font-color2: rgba(255, 255, 255, 0.54);\n",
       "  --xr-font-color3: rgba(255, 255, 255, 0.38);\n",
       "  --xr-border-color: #1F1F1F;\n",
       "  --xr-disabled-color: #515151;\n",
       "  --xr-background-color: #111111;\n",
       "  --xr-background-color-row-even: #111111;\n",
       "  --xr-background-color-row-odd: #313131;\n",
       "}\n",
       "\n",
       ".xr-wrap {\n",
       "  display: block !important;\n",
       "  min-width: 300px;\n",
       "  max-width: 700px;\n",
       "}\n",
       "\n",
       ".xr-text-repr-fallback {\n",
       "  /* fallback to plain text repr when CSS is not injected (untrusted notebook) */\n",
       "  display: none;\n",
       "}\n",
       "\n",
       ".xr-header {\n",
       "  padding-top: 6px;\n",
       "  padding-bottom: 6px;\n",
       "  margin-bottom: 4px;\n",
       "  border-bottom: solid 1px var(--xr-border-color);\n",
       "}\n",
       "\n",
       ".xr-header > div,\n",
       ".xr-header > ul {\n",
       "  display: inline;\n",
       "  margin-top: 0;\n",
       "  margin-bottom: 0;\n",
       "}\n",
       "\n",
       ".xr-obj-type,\n",
       ".xr-array-name {\n",
       "  margin-left: 2px;\n",
       "  margin-right: 10px;\n",
       "}\n",
       "\n",
       ".xr-obj-type {\n",
       "  color: var(--xr-font-color2);\n",
       "}\n",
       "\n",
       ".xr-sections {\n",
       "  padding-left: 0 !important;\n",
       "  display: grid;\n",
       "  grid-template-columns: 150px auto auto 1fr 20px 20px;\n",
       "}\n",
       "\n",
       ".xr-section-item {\n",
       "  display: contents;\n",
       "}\n",
       "\n",
       ".xr-section-item input {\n",
       "  display: none;\n",
       "}\n",
       "\n",
       ".xr-section-item input + label {\n",
       "  color: var(--xr-disabled-color);\n",
       "}\n",
       "\n",
       ".xr-section-item input:enabled + label {\n",
       "  cursor: pointer;\n",
       "  color: var(--xr-font-color2);\n",
       "}\n",
       "\n",
       ".xr-section-item input:enabled + label:hover {\n",
       "  color: var(--xr-font-color0);\n",
       "}\n",
       "\n",
       ".xr-section-summary {\n",
       "  grid-column: 1;\n",
       "  color: var(--xr-font-color2);\n",
       "  font-weight: 500;\n",
       "}\n",
       "\n",
       ".xr-section-summary > span {\n",
       "  display: inline-block;\n",
       "  padding-left: 0.5em;\n",
       "}\n",
       "\n",
       ".xr-section-summary-in:disabled + label {\n",
       "  color: var(--xr-font-color2);\n",
       "}\n",
       "\n",
       ".xr-section-summary-in + label:before {\n",
       "  display: inline-block;\n",
       "  content: '►';\n",
       "  font-size: 11px;\n",
       "  width: 15px;\n",
       "  text-align: center;\n",
       "}\n",
       "\n",
       ".xr-section-summary-in:disabled + label:before {\n",
       "  color: var(--xr-disabled-color);\n",
       "}\n",
       "\n",
       ".xr-section-summary-in:checked + label:before {\n",
       "  content: '▼';\n",
       "}\n",
       "\n",
       ".xr-section-summary-in:checked + label > span {\n",
       "  display: none;\n",
       "}\n",
       "\n",
       ".xr-section-summary,\n",
       ".xr-section-inline-details {\n",
       "  padding-top: 4px;\n",
       "  padding-bottom: 4px;\n",
       "}\n",
       "\n",
       ".xr-section-inline-details {\n",
       "  grid-column: 2 / -1;\n",
       "}\n",
       "\n",
       ".xr-section-details {\n",
       "  display: none;\n",
       "  grid-column: 1 / -1;\n",
       "  margin-bottom: 5px;\n",
       "}\n",
       "\n",
       ".xr-section-summary-in:checked ~ .xr-section-details {\n",
       "  display: contents;\n",
       "}\n",
       "\n",
       ".xr-array-wrap {\n",
       "  grid-column: 1 / -1;\n",
       "  display: grid;\n",
       "  grid-template-columns: 20px auto;\n",
       "}\n",
       "\n",
       ".xr-array-wrap > label {\n",
       "  grid-column: 1;\n",
       "  vertical-align: top;\n",
       "}\n",
       "\n",
       ".xr-preview {\n",
       "  color: var(--xr-font-color3);\n",
       "}\n",
       "\n",
       ".xr-array-preview,\n",
       ".xr-array-data {\n",
       "  padding: 0 5px !important;\n",
       "  grid-column: 2;\n",
       "}\n",
       "\n",
       ".xr-array-data,\n",
       ".xr-array-in:checked ~ .xr-array-preview {\n",
       "  display: none;\n",
       "}\n",
       "\n",
       ".xr-array-in:checked ~ .xr-array-data,\n",
       ".xr-array-preview {\n",
       "  display: inline-block;\n",
       "}\n",
       "\n",
       ".xr-dim-list {\n",
       "  display: inline-block !important;\n",
       "  list-style: none;\n",
       "  padding: 0 !important;\n",
       "  margin: 0;\n",
       "}\n",
       "\n",
       ".xr-dim-list li {\n",
       "  display: inline-block;\n",
       "  padding: 0;\n",
       "  margin: 0;\n",
       "}\n",
       "\n",
       ".xr-dim-list:before {\n",
       "  content: '(';\n",
       "}\n",
       "\n",
       ".xr-dim-list:after {\n",
       "  content: ')';\n",
       "}\n",
       "\n",
       ".xr-dim-list li:not(:last-child):after {\n",
       "  content: ',';\n",
       "  padding-right: 5px;\n",
       "}\n",
       "\n",
       ".xr-has-index {\n",
       "  font-weight: bold;\n",
       "}\n",
       "\n",
       ".xr-var-list,\n",
       ".xr-var-item {\n",
       "  display: contents;\n",
       "}\n",
       "\n",
       ".xr-var-item > div,\n",
       ".xr-var-item label,\n",
       ".xr-var-item > .xr-var-name span {\n",
       "  background-color: var(--xr-background-color-row-even);\n",
       "  margin-bottom: 0;\n",
       "}\n",
       "\n",
       ".xr-var-item > .xr-var-name:hover span {\n",
       "  padding-right: 5px;\n",
       "}\n",
       "\n",
       ".xr-var-list > li:nth-child(odd) > div,\n",
       ".xr-var-list > li:nth-child(odd) > label,\n",
       ".xr-var-list > li:nth-child(odd) > .xr-var-name span {\n",
       "  background-color: var(--xr-background-color-row-odd);\n",
       "}\n",
       "\n",
       ".xr-var-name {\n",
       "  grid-column: 1;\n",
       "}\n",
       "\n",
       ".xr-var-dims {\n",
       "  grid-column: 2;\n",
       "}\n",
       "\n",
       ".xr-var-dtype {\n",
       "  grid-column: 3;\n",
       "  text-align: right;\n",
       "  color: var(--xr-font-color2);\n",
       "}\n",
       "\n",
       ".xr-var-preview {\n",
       "  grid-column: 4;\n",
       "}\n",
       "\n",
       ".xr-var-name,\n",
       ".xr-var-dims,\n",
       ".xr-var-dtype,\n",
       ".xr-preview,\n",
       ".xr-attrs dt {\n",
       "  white-space: nowrap;\n",
       "  overflow: hidden;\n",
       "  text-overflow: ellipsis;\n",
       "  padding-right: 10px;\n",
       "}\n",
       "\n",
       ".xr-var-name:hover,\n",
       ".xr-var-dims:hover,\n",
       ".xr-var-dtype:hover,\n",
       ".xr-attrs dt:hover {\n",
       "  overflow: visible;\n",
       "  width: auto;\n",
       "  z-index: 1;\n",
       "}\n",
       "\n",
       ".xr-var-attrs,\n",
       ".xr-var-data {\n",
       "  display: none;\n",
       "  background-color: var(--xr-background-color) !important;\n",
       "  padding-bottom: 5px !important;\n",
       "}\n",
       "\n",
       ".xr-var-attrs-in:checked ~ .xr-var-attrs,\n",
       ".xr-var-data-in:checked ~ .xr-var-data {\n",
       "  display: block;\n",
       "}\n",
       "\n",
       ".xr-var-data > table {\n",
       "  float: right;\n",
       "}\n",
       "\n",
       ".xr-var-name span,\n",
       ".xr-var-data,\n",
       ".xr-attrs {\n",
       "  padding-left: 25px !important;\n",
       "}\n",
       "\n",
       ".xr-attrs,\n",
       ".xr-var-attrs,\n",
       ".xr-var-data {\n",
       "  grid-column: 1 / -1;\n",
       "}\n",
       "\n",
       "dl.xr-attrs {\n",
       "  padding: 0;\n",
       "  margin: 0;\n",
       "  display: grid;\n",
       "  grid-template-columns: 125px auto;\n",
       "}\n",
       "\n",
       ".xr-attrs dt,\n",
       ".xr-attrs dd {\n",
       "  padding: 0;\n",
       "  margin: 0;\n",
       "  float: left;\n",
       "  padding-right: 10px;\n",
       "  width: auto;\n",
       "}\n",
       "\n",
       ".xr-attrs dt {\n",
       "  font-weight: normal;\n",
       "  grid-column: 1;\n",
       "}\n",
       "\n",
       ".xr-attrs dt:hover span {\n",
       "  display: inline-block;\n",
       "  background: var(--xr-background-color);\n",
       "  padding-right: 10px;\n",
       "}\n",
       "\n",
       ".xr-attrs dd {\n",
       "  grid-column: 2;\n",
       "  white-space: pre-wrap;\n",
       "  word-break: break-all;\n",
       "}\n",
       "\n",
       ".xr-icon-database,\n",
       ".xr-icon-file-text2 {\n",
       "  display: inline-block;\n",
       "  vertical-align: middle;\n",
       "  width: 1em;\n",
       "  height: 1.5em !important;\n",
       "  stroke-width: 0;\n",
       "  stroke: currentColor;\n",
       "  fill: currentColor;\n",
       "}\n",
       "</style><pre class='xr-text-repr-fallback'>&lt;xarray.DataArray &#x27;tasmin&#x27; (time: 10958, lat: 145, lon: 192)&gt;\n",
       "dask.array&lt;truediv, shape=(10958, 145, 192), dtype=float32, chunksize=(10958, 145, 192), chunktype=numpy.ndarray&gt;\n",
       "Coordinates:\n",
       "  * time     (time) datetime64[ns] 2035-01-01T12:00:00 ... 2064-12-31T12:00:00\n",
       "  * lat      (lat) float64 -90.0 -88.75 -87.5 -86.25 ... 86.25 87.5 88.75 90.0\n",
       "  * lon      (lon) float64 0.0 1.875 3.75 5.625 7.5 ... 352.5 354.4 356.2 358.1\n",
       "Attributes:\n",
       "    standard_name:  air_temperature\n",
       "    long_name:      Daily Minimum Near-Surface Air Temperature\n",
       "    comment:        minimum near-surface (usually, 2 meter) air temperature (...\n",
       "    units:          C\n",
       "    cell_methods:   area: mean time: minimum\n",
       "    cell_measures:  area: areacella\n",
       "    history:        2019-11-15T10:38:41Z altered by CMOR: Treated scalar dime...</pre><div class='xr-wrap' style='display:none'><div class='xr-header'><div class='xr-obj-type'>xarray.DataArray</div><div class='xr-array-name'>'tasmin'</div><ul class='xr-dim-list'><li><span class='xr-has-index'>time</span>: 10958</li><li><span class='xr-has-index'>lat</span>: 145</li><li><span class='xr-has-index'>lon</span>: 192</li></ul></div><ul class='xr-sections'><li class='xr-section-item'><div class='xr-array-wrap'><input id='section-6282e4ad-c058-4650-aa4c-f473eb9801ad' class='xr-array-in' type='checkbox' checked><label for='section-6282e4ad-c058-4650-aa4c-f473eb9801ad' title='Show/hide data repr'><svg class='icon xr-icon-database'><use xlink:href='#icon-database'></use></svg></label><div class='xr-array-preview xr-preview'><span>dask.array&lt;chunksize=(10958, 145, 192), meta=np.ndarray&gt;</span></div><div class='xr-array-data'><table>\n",
       "    <tr>\n",
       "        <td>\n",
       "            <table>\n",
       "                <thead>\n",
       "                    <tr>\n",
       "                        <td> </td>\n",
       "                        <th> Array </th>\n",
       "                        <th> Chunk </th>\n",
       "                    </tr>\n",
       "                </thead>\n",
       "                <tbody>\n",
       "                    \n",
       "                    <tr>\n",
       "                        <th> Bytes </th>\n",
       "                        <td> 1.14 GiB </td>\n",
       "                        <td> 1.14 GiB </td>\n",
       "                    </tr>\n",
       "                    \n",
       "                    <tr>\n",
       "                        <th> Shape </th>\n",
       "                        <td> (10958, 145, 192) </td>\n",
       "                        <td> (10958, 145, 192) </td>\n",
       "                    </tr>\n",
       "                    <tr>\n",
       "                        <th> Count </th>\n",
       "                        <td> 10 Tasks </td>\n",
       "                        <td> 1 Chunks </td>\n",
       "                    </tr>\n",
       "                    <tr>\n",
       "                    <th> Type </th>\n",
       "                    <td> float32 </td>\n",
       "                    <td> numpy.ndarray </td>\n",
       "                    </tr>\n",
       "                </tbody>\n",
       "            </table>\n",
       "        </td>\n",
       "        <td>\n",
       "        <svg width=\"158\" height=\"147\" style=\"stroke:rgb(0,0,0);stroke-width:1\" >\n",
       "\n",
       "  <!-- Horizontal lines -->\n",
       "  <line x1=\"10\" y1=\"0\" x2=\"80\" y2=\"70\" style=\"stroke-width:2\" />\n",
       "  <line x1=\"10\" y1=\"26\" x2=\"80\" y2=\"97\" style=\"stroke-width:2\" />\n",
       "\n",
       "  <!-- Vertical lines -->\n",
       "  <line x1=\"10\" y1=\"0\" x2=\"10\" y2=\"26\" style=\"stroke-width:2\" />\n",
       "  <line x1=\"80\" y1=\"70\" x2=\"80\" y2=\"97\" style=\"stroke-width:2\" />\n",
       "\n",
       "  <!-- Colored Rectangle -->\n",
       "  <polygon points=\"10.0,0.0 80.58823529411765,70.58823529411765 80.58823529411765,97.39175905130675 10.0,26.803523757189097\" style=\"fill:#ECB172A0;stroke-width:0\"/>\n",
       "\n",
       "  <!-- Horizontal lines -->\n",
       "  <line x1=\"10\" y1=\"0\" x2=\"38\" y2=\"0\" style=\"stroke-width:2\" />\n",
       "  <line x1=\"80\" y1=\"70\" x2=\"108\" y2=\"70\" style=\"stroke-width:2\" />\n",
       "\n",
       "  <!-- Vertical lines -->\n",
       "  <line x1=\"10\" y1=\"0\" x2=\"80\" y2=\"70\" style=\"stroke-width:2\" />\n",
       "  <line x1=\"38\" y1=\"0\" x2=\"108\" y2=\"70\" style=\"stroke-width:2\" />\n",
       "\n",
       "  <!-- Colored Rectangle -->\n",
       "  <polygon points=\"10.0,0.0 38.29563380191432,0.0 108.88386909603197,70.58823529411765 80.58823529411765,70.58823529411765\" style=\"fill:#ECB172A0;stroke-width:0\"/>\n",
       "\n",
       "  <!-- Horizontal lines -->\n",
       "  <line x1=\"80\" y1=\"70\" x2=\"108\" y2=\"70\" style=\"stroke-width:2\" />\n",
       "  <line x1=\"80\" y1=\"97\" x2=\"108\" y2=\"97\" style=\"stroke-width:2\" />\n",
       "\n",
       "  <!-- Vertical lines -->\n",
       "  <line x1=\"80\" y1=\"70\" x2=\"80\" y2=\"97\" style=\"stroke-width:2\" />\n",
       "  <line x1=\"108\" y1=\"70\" x2=\"108\" y2=\"97\" style=\"stroke-width:2\" />\n",
       "\n",
       "  <!-- Colored Rectangle -->\n",
       "  <polygon points=\"80.58823529411765,70.58823529411765 108.88386909603197,70.58823529411765 108.88386909603197,97.39175905130675 80.58823529411765,97.39175905130675\" style=\"fill:#ECB172A0;stroke-width:0\"/>\n",
       "\n",
       "  <!-- Text -->\n",
       "  <text x=\"94.736052\" y=\"117.391759\" font-size=\"1.0rem\" font-weight=\"100\" text-anchor=\"middle\" >192</text>\n",
       "  <text x=\"128.883869\" y=\"83.989997\" font-size=\"1.0rem\" font-weight=\"100\" text-anchor=\"middle\" transform=\"rotate(-90,128.883869,83.989997)\">145</text>\n",
       "  <text x=\"35.294118\" y=\"82.097641\" font-size=\"1.0rem\" font-weight=\"100\" text-anchor=\"middle\" transform=\"rotate(45,35.294118,82.097641)\">10958</text>\n",
       "</svg>\n",
       "        </td>\n",
       "    </tr>\n",
       "</table></div></div></li><li class='xr-section-item'><input id='section-6e70207c-d12a-4441-bb59-2acaf5eed794' class='xr-section-summary-in' type='checkbox'  checked><label for='section-6e70207c-d12a-4441-bb59-2acaf5eed794' class='xr-section-summary' >Coordinates: <span>(3)</span></label><div class='xr-section-inline-details'></div><div class='xr-section-details'><ul class='xr-var-list'><li class='xr-var-item'><div class='xr-var-name'><span class='xr-has-index'>time</span></div><div class='xr-var-dims'>(time)</div><div class='xr-var-dtype'>datetime64[ns]</div><div class='xr-var-preview xr-preview'>2035-01-01T12:00:00 ... 2064-12-...</div><input id='attrs-3ac7bf3f-b2b3-4bd0-b4df-a9c752ef7f8e' class='xr-var-attrs-in' type='checkbox' ><label for='attrs-3ac7bf3f-b2b3-4bd0-b4df-a9c752ef7f8e' title='Show/Hide attributes'><svg class='icon xr-icon-file-text2'><use xlink:href='#icon-file-text2'></use></svg></label><input id='data-c00238d6-2a5f-41f5-8606-76f108cb9541' class='xr-var-data-in' type='checkbox'><label for='data-c00238d6-2a5f-41f5-8606-76f108cb9541' title='Show/Hide data repr'><svg class='icon xr-icon-database'><use xlink:href='#icon-database'></use></svg></label><div class='xr-var-attrs'><dl class='xr-attrs'><dt><span>bounds :</span></dt><dd>time_bnds</dd><dt><span>axis :</span></dt><dd>T</dd><dt><span>long_name :</span></dt><dd>time</dd><dt><span>standard_name :</span></dt><dd>time</dd></dl></div><div class='xr-var-data'><pre>array([&#x27;2035-01-01T12:00:00.000000000&#x27;, &#x27;2035-01-02T12:00:00.000000000&#x27;,\n",
       "       &#x27;2035-01-03T12:00:00.000000000&#x27;, ..., &#x27;2064-12-29T12:00:00.000000000&#x27;,\n",
       "       &#x27;2064-12-30T12:00:00.000000000&#x27;, &#x27;2064-12-31T12:00:00.000000000&#x27;],\n",
       "      dtype=&#x27;datetime64[ns]&#x27;)</pre></div></li><li class='xr-var-item'><div class='xr-var-name'><span class='xr-has-index'>lat</span></div><div class='xr-var-dims'>(lat)</div><div class='xr-var-dtype'>float64</div><div class='xr-var-preview xr-preview'>-90.0 -88.75 -87.5 ... 88.75 90.0</div><input id='attrs-54593640-e4b6-435e-b464-039637d2f008' class='xr-var-attrs-in' type='checkbox' ><label for='attrs-54593640-e4b6-435e-b464-039637d2f008' title='Show/Hide attributes'><svg class='icon xr-icon-file-text2'><use xlink:href='#icon-file-text2'></use></svg></label><input id='data-4180e8ca-3cb6-4a44-950e-9d9a179545b1' class='xr-var-data-in' type='checkbox'><label for='data-4180e8ca-3cb6-4a44-950e-9d9a179545b1' title='Show/Hide data repr'><svg class='icon xr-icon-database'><use xlink:href='#icon-database'></use></svg></label><div class='xr-var-attrs'><dl class='xr-attrs'><dt><span>bounds :</span></dt><dd>lat_bnds</dd><dt><span>units :</span></dt><dd>degrees_north</dd><dt><span>axis :</span></dt><dd>Y</dd><dt><span>long_name :</span></dt><dd>Latitude</dd><dt><span>standard_name :</span></dt><dd>latitude</dd></dl></div><div class='xr-var-data'><pre>array([-90.  , -88.75, -87.5 , -86.25, -85.  , -83.75, -82.5 , -81.25, -80.  ,\n",
       "       -78.75, -77.5 , -76.25, -75.  , -73.75, -72.5 , -71.25, -70.  , -68.75,\n",
       "       -67.5 , -66.25, -65.  , -63.75, -62.5 , -61.25, -60.  , -58.75, -57.5 ,\n",
       "       -56.25, -55.  , -53.75, -52.5 , -51.25, -50.  , -48.75, -47.5 , -46.25,\n",
       "       -45.  , -43.75, -42.5 , -41.25, -40.  , -38.75, -37.5 , -36.25, -35.  ,\n",
       "       -33.75, -32.5 , -31.25, -30.  , -28.75, -27.5 , -26.25, -25.  , -23.75,\n",
       "       -22.5 , -21.25, -20.  , -18.75, -17.5 , -16.25, -15.  , -13.75, -12.5 ,\n",
       "       -11.25, -10.  ,  -8.75,  -7.5 ,  -6.25,  -5.  ,  -3.75,  -2.5 ,  -1.25,\n",
       "         0.  ,   1.25,   2.5 ,   3.75,   5.  ,   6.25,   7.5 ,   8.75,  10.  ,\n",
       "        11.25,  12.5 ,  13.75,  15.  ,  16.25,  17.5 ,  18.75,  20.  ,  21.25,\n",
       "        22.5 ,  23.75,  25.  ,  26.25,  27.5 ,  28.75,  30.  ,  31.25,  32.5 ,\n",
       "        33.75,  35.  ,  36.25,  37.5 ,  38.75,  40.  ,  41.25,  42.5 ,  43.75,\n",
       "        45.  ,  46.25,  47.5 ,  48.75,  50.  ,  51.25,  52.5 ,  53.75,  55.  ,\n",
       "        56.25,  57.5 ,  58.75,  60.  ,  61.25,  62.5 ,  63.75,  65.  ,  66.25,\n",
       "        67.5 ,  68.75,  70.  ,  71.25,  72.5 ,  73.75,  75.  ,  76.25,  77.5 ,\n",
       "        78.75,  80.  ,  81.25,  82.5 ,  83.75,  85.  ,  86.25,  87.5 ,  88.75,\n",
       "        90.  ])</pre></div></li><li class='xr-var-item'><div class='xr-var-name'><span class='xr-has-index'>lon</span></div><div class='xr-var-dims'>(lon)</div><div class='xr-var-dtype'>float64</div><div class='xr-var-preview xr-preview'>0.0 1.875 3.75 ... 356.2 358.1</div><input id='attrs-b81dc819-5f40-483e-b97a-7a59a2f7b6df' class='xr-var-attrs-in' type='checkbox' ><label for='attrs-b81dc819-5f40-483e-b97a-7a59a2f7b6df' title='Show/Hide attributes'><svg class='icon xr-icon-file-text2'><use xlink:href='#icon-file-text2'></use></svg></label><input id='data-bfa7e27c-b27b-43ab-b944-83feda1d1715' class='xr-var-data-in' type='checkbox'><label for='data-bfa7e27c-b27b-43ab-b944-83feda1d1715' title='Show/Hide data repr'><svg class='icon xr-icon-database'><use xlink:href='#icon-database'></use></svg></label><div class='xr-var-attrs'><dl class='xr-attrs'><dt><span>bounds :</span></dt><dd>lon_bnds</dd><dt><span>units :</span></dt><dd>degrees_east</dd><dt><span>axis :</span></dt><dd>X</dd><dt><span>long_name :</span></dt><dd>Longitude</dd><dt><span>standard_name :</span></dt><dd>longitude</dd></dl></div><div class='xr-var-data'><pre>array([  0.   ,   1.875,   3.75 ,   5.625,   7.5  ,   9.375,  11.25 ,  13.125,\n",
       "        15.   ,  16.875,  18.75 ,  20.625,  22.5  ,  24.375,  26.25 ,  28.125,\n",
       "        30.   ,  31.875,  33.75 ,  35.625,  37.5  ,  39.375,  41.25 ,  43.125,\n",
       "        45.   ,  46.875,  48.75 ,  50.625,  52.5  ,  54.375,  56.25 ,  58.125,\n",
       "        60.   ,  61.875,  63.75 ,  65.625,  67.5  ,  69.375,  71.25 ,  73.125,\n",
       "        75.   ,  76.875,  78.75 ,  80.625,  82.5  ,  84.375,  86.25 ,  88.125,\n",
       "        90.   ,  91.875,  93.75 ,  95.625,  97.5  ,  99.375, 101.25 , 103.125,\n",
       "       105.   , 106.875, 108.75 , 110.625, 112.5  , 114.375, 116.25 , 118.125,\n",
       "       120.   , 121.875, 123.75 , 125.625, 127.5  , 129.375, 131.25 , 133.125,\n",
       "       135.   , 136.875, 138.75 , 140.625, 142.5  , 144.375, 146.25 , 148.125,\n",
       "       150.   , 151.875, 153.75 , 155.625, 157.5  , 159.375, 161.25 , 163.125,\n",
       "       165.   , 166.875, 168.75 , 170.625, 172.5  , 174.375, 176.25 , 178.125,\n",
       "       180.   , 181.875, 183.75 , 185.625, 187.5  , 189.375, 191.25 , 193.125,\n",
       "       195.   , 196.875, 198.75 , 200.625, 202.5  , 204.375, 206.25 , 208.125,\n",
       "       210.   , 211.875, 213.75 , 215.625, 217.5  , 219.375, 221.25 , 223.125,\n",
       "       225.   , 226.875, 228.75 , 230.625, 232.5  , 234.375, 236.25 , 238.125,\n",
       "       240.   , 241.875, 243.75 , 245.625, 247.5  , 249.375, 251.25 , 253.125,\n",
       "       255.   , 256.875, 258.75 , 260.625, 262.5  , 264.375, 266.25 , 268.125,\n",
       "       270.   , 271.875, 273.75 , 275.625, 277.5  , 279.375, 281.25 , 283.125,\n",
       "       285.   , 286.875, 288.75 , 290.625, 292.5  , 294.375, 296.25 , 298.125,\n",
       "       300.   , 301.875, 303.75 , 305.625, 307.5  , 309.375, 311.25 , 313.125,\n",
       "       315.   , 316.875, 318.75 , 320.625, 322.5  , 324.375, 326.25 , 328.125,\n",
       "       330.   , 331.875, 333.75 , 335.625, 337.5  , 339.375, 341.25 , 343.125,\n",
       "       345.   , 346.875, 348.75 , 350.625, 352.5  , 354.375, 356.25 , 358.125])</pre></div></li></ul></div></li><li class='xr-section-item'><input id='section-635e0269-3b47-452d-bf80-fa5f4b7ef5f5' class='xr-section-summary-in' type='checkbox'  checked><label for='section-635e0269-3b47-452d-bf80-fa5f4b7ef5f5' class='xr-section-summary' >Attributes: <span>(7)</span></label><div class='xr-section-inline-details'></div><div class='xr-section-details'><dl class='xr-attrs'><dt><span>standard_name :</span></dt><dd>air_temperature</dd><dt><span>long_name :</span></dt><dd>Daily Minimum Near-Surface Air Temperature</dd><dt><span>comment :</span></dt><dd>minimum near-surface (usually, 2 meter) air temperature (add cell_method attribute &#x27;time: min&#x27;)</dd><dt><span>units :</span></dt><dd>C</dd><dt><span>cell_methods :</span></dt><dd>area: mean time: minimum</dd><dt><span>cell_measures :</span></dt><dd>area: areacella</dd><dt><span>history :</span></dt><dd>2019-11-15T10:38:41Z altered by CMOR: Treated scalar dimension: &#x27;height&#x27;. 2019-11-15T10:38:41Z altered by CMOR: replaced missing value flag (-1.07374e+09) with standard missing value (1e+20).</dd></dl></div></li></ul></div></div>"
      ],
      "text/plain": [
       "<xarray.DataArray 'tasmin' (time: 10958, lat: 145, lon: 192)>\n",
       "dask.array<truediv, shape=(10958, 145, 192), dtype=float32, chunksize=(10958, 145, 192), chunktype=numpy.ndarray>\n",
       "Coordinates:\n",
       "  * time     (time) datetime64[ns] 2035-01-01T12:00:00 ... 2064-12-31T12:00:00\n",
       "  * lat      (lat) float64 -90.0 -88.75 -87.5 -86.25 ... 86.25 87.5 88.75 90.0\n",
       "  * lon      (lon) float64 0.0 1.875 3.75 5.625 7.5 ... 352.5 354.4 356.2 358.1\n",
       "Attributes:\n",
       "    standard_name:  air_temperature\n",
       "    long_name:      Daily Minimum Near-Surface Air Temperature\n",
       "    comment:        minimum near-surface (usually, 2 meter) air temperature (...\n",
       "    units:          C\n",
       "    cell_methods:   area: mean time: minimum\n",
       "    cell_measures:  area: areacella\n",
       "    history:        2019-11-15T10:38:41Z altered by CMOR: Treated scalar dime..."
      ]
     },
     "execution_count": 11,
     "metadata": {},
     "output_type": "execute_result"
    }
   ],
   "source": [
    "ds_ref = utils.read_data(\n",
    "    ref_files,\n",
    "    ref_var,\n",
    "    time_bounds=ref_time_bounds,\n",
    "    input_units=ref_units,\n",
    "    output_units=output_units,\n",
    ")\n",
    "ds_ref[ref_var]"
   ]
  },
  {
   "cell_type": "code",
   "execution_count": 12,
   "id": "f3a697ab",
   "metadata": {},
   "outputs": [],
   "source": [
    "da_ref = ds_ref[ref_var].sel(point_selection, method='nearest')"
   ]
  },
  {
   "cell_type": "code",
   "execution_count": 13,
   "id": "b0ad9850",
   "metadata": {
    "execution": {
     "iopub.execute_input": "2023-01-13T09:48:30.730964Z",
     "iopub.status.busy": "2023-01-13T09:48:30.730638Z",
     "iopub.status.idle": "2023-01-13T09:48:30.787367Z",
     "shell.execute_reply": "2023-01-13T09:48:30.786246Z"
    },
    "papermill": {
     "duration": 0.071282,
     "end_time": "2023-01-13T09:48:30.790463",
     "exception": false,
     "start_time": "2023-01-13T09:48:30.719181",
     "status": "completed"
    },
    "tags": []
   },
   "outputs": [],
   "source": [
    "ds_adjust = xr.open_dataset(adjustment_file)"
   ]
  },
  {
   "cell_type": "code",
   "execution_count": 14,
   "id": "1ef68a7e",
   "metadata": {
    "execution": {
     "iopub.execute_input": "2023-01-13T09:48:30.820966Z",
     "iopub.status.busy": "2023-01-13T09:48:30.820585Z",
     "iopub.status.idle": "2023-01-13T09:48:31.013607Z",
     "shell.execute_reply": "2023-01-13T09:48:31.012594Z"
    },
    "papermill": {
     "duration": 0.208554,
     "end_time": "2023-01-13T09:48:31.016471",
     "exception": false,
     "start_time": "2023-01-13T09:48:30.807917",
     "status": "completed"
    },
    "tags": []
   },
   "outputs": [
    {
     "name": "stderr",
     "output_type": "stream",
     "text": [
      "/g/data/xv83/dbi599/miniconda3/envs/qqscale/lib/python3.10/site-packages/xarray/backends/plugins.py:110: RuntimeWarning: 'netcdf4' fails while guessing\n",
      "  warnings.warn(f\"{engine!r} fails while guessing\", RuntimeWarning)\n",
      "/g/data/xv83/dbi599/miniconda3/envs/qqscale/lib/python3.10/site-packages/xarray/backends/plugins.py:110: RuntimeWarning: 'scipy' fails while guessing\n",
      "  warnings.warn(f\"{engine!r} fails while guessing\", RuntimeWarning)\n"
     ]
    }
   ],
   "source": [
    "ds_target = utils.read_data(\n",
    "    target_files,\n",
    "    target_var,\n",
    "    time_bounds=target_time_bounds,\n",
    "    input_units=target_units,\n",
    "    output_units=output_units\n",
    ")"
   ]
  },
  {
   "cell_type": "code",
   "execution_count": 15,
   "id": "5765314a",
   "metadata": {},
   "outputs": [],
   "source": [
    "da_target = ds_target[target_var].sel(point_selection, method='nearest')"
   ]
  },
  {
   "cell_type": "code",
   "execution_count": 16,
   "id": "5f74f486",
   "metadata": {
    "execution": {
     "iopub.execute_input": "2023-01-13T09:48:31.046078Z",
     "iopub.status.busy": "2023-01-13T09:48:31.045327Z",
     "iopub.status.idle": "2023-01-13T09:48:31.074950Z",
     "shell.execute_reply": "2023-01-13T09:48:31.074083Z"
    },
    "papermill": {
     "duration": 0.044367,
     "end_time": "2023-01-13T09:48:31.077526",
     "exception": false,
     "start_time": "2023-01-13T09:48:31.033159",
     "status": "completed"
    },
    "tags": []
   },
   "outputs": [
    {
     "data": {
      "text/html": [
       "<div><svg style=\"position: absolute; width: 0; height: 0; overflow: hidden\">\n",
       "<defs>\n",
       "<symbol id=\"icon-database\" viewBox=\"0 0 32 32\">\n",
       "<path d=\"M16 0c-8.837 0-16 2.239-16 5v4c0 2.761 7.163 5 16 5s16-2.239 16-5v-4c0-2.761-7.163-5-16-5z\"></path>\n",
       "<path d=\"M16 17c-8.837 0-16-2.239-16-5v6c0 2.761 7.163 5 16 5s16-2.239 16-5v-6c0 2.761-7.163 5-16 5z\"></path>\n",
       "<path d=\"M16 26c-8.837 0-16-2.239-16-5v6c0 2.761 7.163 5 16 5s16-2.239 16-5v-6c0 2.761-7.163 5-16 5z\"></path>\n",
       "</symbol>\n",
       "<symbol id=\"icon-file-text2\" viewBox=\"0 0 32 32\">\n",
       "<path d=\"M28.681 7.159c-0.694-0.947-1.662-2.053-2.724-3.116s-2.169-2.030-3.116-2.724c-1.612-1.182-2.393-1.319-2.841-1.319h-15.5c-1.378 0-2.5 1.121-2.5 2.5v27c0 1.378 1.122 2.5 2.5 2.5h23c1.378 0 2.5-1.122 2.5-2.5v-19.5c0-0.448-0.137-1.23-1.319-2.841zM24.543 5.457c0.959 0.959 1.712 1.825 2.268 2.543h-4.811v-4.811c0.718 0.556 1.584 1.309 2.543 2.268zM28 29.5c0 0.271-0.229 0.5-0.5 0.5h-23c-0.271 0-0.5-0.229-0.5-0.5v-27c0-0.271 0.229-0.5 0.5-0.5 0 0 15.499-0 15.5 0v7c0 0.552 0.448 1 1 1h7v19.5z\"></path>\n",
       "<path d=\"M23 26h-14c-0.552 0-1-0.448-1-1s0.448-1 1-1h14c0.552 0 1 0.448 1 1s-0.448 1-1 1z\"></path>\n",
       "<path d=\"M23 22h-14c-0.552 0-1-0.448-1-1s0.448-1 1-1h14c0.552 0 1 0.448 1 1s-0.448 1-1 1z\"></path>\n",
       "<path d=\"M23 18h-14c-0.552 0-1-0.448-1-1s0.448-1 1-1h14c0.552 0 1 0.448 1 1s-0.448 1-1 1z\"></path>\n",
       "</symbol>\n",
       "</defs>\n",
       "</svg>\n",
       "<style>/* CSS stylesheet for displaying xarray objects in jupyterlab.\n",
       " *\n",
       " */\n",
       "\n",
       ":root {\n",
       "  --xr-font-color0: var(--jp-content-font-color0, rgba(0, 0, 0, 1));\n",
       "  --xr-font-color2: var(--jp-content-font-color2, rgba(0, 0, 0, 0.54));\n",
       "  --xr-font-color3: var(--jp-content-font-color3, rgba(0, 0, 0, 0.38));\n",
       "  --xr-border-color: var(--jp-border-color2, #e0e0e0);\n",
       "  --xr-disabled-color: var(--jp-layout-color3, #bdbdbd);\n",
       "  --xr-background-color: var(--jp-layout-color0, white);\n",
       "  --xr-background-color-row-even: var(--jp-layout-color1, white);\n",
       "  --xr-background-color-row-odd: var(--jp-layout-color2, #eeeeee);\n",
       "}\n",
       "\n",
       "html[theme=dark],\n",
       "body.vscode-dark {\n",
       "  --xr-font-color0: rgba(255, 255, 255, 1);\n",
       "  --xr-font-color2: rgba(255, 255, 255, 0.54);\n",
       "  --xr-font-color3: rgba(255, 255, 255, 0.38);\n",
       "  --xr-border-color: #1F1F1F;\n",
       "  --xr-disabled-color: #515151;\n",
       "  --xr-background-color: #111111;\n",
       "  --xr-background-color-row-even: #111111;\n",
       "  --xr-background-color-row-odd: #313131;\n",
       "}\n",
       "\n",
       ".xr-wrap {\n",
       "  display: block !important;\n",
       "  min-width: 300px;\n",
       "  max-width: 700px;\n",
       "}\n",
       "\n",
       ".xr-text-repr-fallback {\n",
       "  /* fallback to plain text repr when CSS is not injected (untrusted notebook) */\n",
       "  display: none;\n",
       "}\n",
       "\n",
       ".xr-header {\n",
       "  padding-top: 6px;\n",
       "  padding-bottom: 6px;\n",
       "  margin-bottom: 4px;\n",
       "  border-bottom: solid 1px var(--xr-border-color);\n",
       "}\n",
       "\n",
       ".xr-header > div,\n",
       ".xr-header > ul {\n",
       "  display: inline;\n",
       "  margin-top: 0;\n",
       "  margin-bottom: 0;\n",
       "}\n",
       "\n",
       ".xr-obj-type,\n",
       ".xr-array-name {\n",
       "  margin-left: 2px;\n",
       "  margin-right: 10px;\n",
       "}\n",
       "\n",
       ".xr-obj-type {\n",
       "  color: var(--xr-font-color2);\n",
       "}\n",
       "\n",
       ".xr-sections {\n",
       "  padding-left: 0 !important;\n",
       "  display: grid;\n",
       "  grid-template-columns: 150px auto auto 1fr 20px 20px;\n",
       "}\n",
       "\n",
       ".xr-section-item {\n",
       "  display: contents;\n",
       "}\n",
       "\n",
       ".xr-section-item input {\n",
       "  display: none;\n",
       "}\n",
       "\n",
       ".xr-section-item input + label {\n",
       "  color: var(--xr-disabled-color);\n",
       "}\n",
       "\n",
       ".xr-section-item input:enabled + label {\n",
       "  cursor: pointer;\n",
       "  color: var(--xr-font-color2);\n",
       "}\n",
       "\n",
       ".xr-section-item input:enabled + label:hover {\n",
       "  color: var(--xr-font-color0);\n",
       "}\n",
       "\n",
       ".xr-section-summary {\n",
       "  grid-column: 1;\n",
       "  color: var(--xr-font-color2);\n",
       "  font-weight: 500;\n",
       "}\n",
       "\n",
       ".xr-section-summary > span {\n",
       "  display: inline-block;\n",
       "  padding-left: 0.5em;\n",
       "}\n",
       "\n",
       ".xr-section-summary-in:disabled + label {\n",
       "  color: var(--xr-font-color2);\n",
       "}\n",
       "\n",
       ".xr-section-summary-in + label:before {\n",
       "  display: inline-block;\n",
       "  content: '►';\n",
       "  font-size: 11px;\n",
       "  width: 15px;\n",
       "  text-align: center;\n",
       "}\n",
       "\n",
       ".xr-section-summary-in:disabled + label:before {\n",
       "  color: var(--xr-disabled-color);\n",
       "}\n",
       "\n",
       ".xr-section-summary-in:checked + label:before {\n",
       "  content: '▼';\n",
       "}\n",
       "\n",
       ".xr-section-summary-in:checked + label > span {\n",
       "  display: none;\n",
       "}\n",
       "\n",
       ".xr-section-summary,\n",
       ".xr-section-inline-details {\n",
       "  padding-top: 4px;\n",
       "  padding-bottom: 4px;\n",
       "}\n",
       "\n",
       ".xr-section-inline-details {\n",
       "  grid-column: 2 / -1;\n",
       "}\n",
       "\n",
       ".xr-section-details {\n",
       "  display: none;\n",
       "  grid-column: 1 / -1;\n",
       "  margin-bottom: 5px;\n",
       "}\n",
       "\n",
       ".xr-section-summary-in:checked ~ .xr-section-details {\n",
       "  display: contents;\n",
       "}\n",
       "\n",
       ".xr-array-wrap {\n",
       "  grid-column: 1 / -1;\n",
       "  display: grid;\n",
       "  grid-template-columns: 20px auto;\n",
       "}\n",
       "\n",
       ".xr-array-wrap > label {\n",
       "  grid-column: 1;\n",
       "  vertical-align: top;\n",
       "}\n",
       "\n",
       ".xr-preview {\n",
       "  color: var(--xr-font-color3);\n",
       "}\n",
       "\n",
       ".xr-array-preview,\n",
       ".xr-array-data {\n",
       "  padding: 0 5px !important;\n",
       "  grid-column: 2;\n",
       "}\n",
       "\n",
       ".xr-array-data,\n",
       ".xr-array-in:checked ~ .xr-array-preview {\n",
       "  display: none;\n",
       "}\n",
       "\n",
       ".xr-array-in:checked ~ .xr-array-data,\n",
       ".xr-array-preview {\n",
       "  display: inline-block;\n",
       "}\n",
       "\n",
       ".xr-dim-list {\n",
       "  display: inline-block !important;\n",
       "  list-style: none;\n",
       "  padding: 0 !important;\n",
       "  margin: 0;\n",
       "}\n",
       "\n",
       ".xr-dim-list li {\n",
       "  display: inline-block;\n",
       "  padding: 0;\n",
       "  margin: 0;\n",
       "}\n",
       "\n",
       ".xr-dim-list:before {\n",
       "  content: '(';\n",
       "}\n",
       "\n",
       ".xr-dim-list:after {\n",
       "  content: ')';\n",
       "}\n",
       "\n",
       ".xr-dim-list li:not(:last-child):after {\n",
       "  content: ',';\n",
       "  padding-right: 5px;\n",
       "}\n",
       "\n",
       ".xr-has-index {\n",
       "  font-weight: bold;\n",
       "}\n",
       "\n",
       ".xr-var-list,\n",
       ".xr-var-item {\n",
       "  display: contents;\n",
       "}\n",
       "\n",
       ".xr-var-item > div,\n",
       ".xr-var-item label,\n",
       ".xr-var-item > .xr-var-name span {\n",
       "  background-color: var(--xr-background-color-row-even);\n",
       "  margin-bottom: 0;\n",
       "}\n",
       "\n",
       ".xr-var-item > .xr-var-name:hover span {\n",
       "  padding-right: 5px;\n",
       "}\n",
       "\n",
       ".xr-var-list > li:nth-child(odd) > div,\n",
       ".xr-var-list > li:nth-child(odd) > label,\n",
       ".xr-var-list > li:nth-child(odd) > .xr-var-name span {\n",
       "  background-color: var(--xr-background-color-row-odd);\n",
       "}\n",
       "\n",
       ".xr-var-name {\n",
       "  grid-column: 1;\n",
       "}\n",
       "\n",
       ".xr-var-dims {\n",
       "  grid-column: 2;\n",
       "}\n",
       "\n",
       ".xr-var-dtype {\n",
       "  grid-column: 3;\n",
       "  text-align: right;\n",
       "  color: var(--xr-font-color2);\n",
       "}\n",
       "\n",
       ".xr-var-preview {\n",
       "  grid-column: 4;\n",
       "}\n",
       "\n",
       ".xr-var-name,\n",
       ".xr-var-dims,\n",
       ".xr-var-dtype,\n",
       ".xr-preview,\n",
       ".xr-attrs dt {\n",
       "  white-space: nowrap;\n",
       "  overflow: hidden;\n",
       "  text-overflow: ellipsis;\n",
       "  padding-right: 10px;\n",
       "}\n",
       "\n",
       ".xr-var-name:hover,\n",
       ".xr-var-dims:hover,\n",
       ".xr-var-dtype:hover,\n",
       ".xr-attrs dt:hover {\n",
       "  overflow: visible;\n",
       "  width: auto;\n",
       "  z-index: 1;\n",
       "}\n",
       "\n",
       ".xr-var-attrs,\n",
       ".xr-var-data {\n",
       "  display: none;\n",
       "  background-color: var(--xr-background-color) !important;\n",
       "  padding-bottom: 5px !important;\n",
       "}\n",
       "\n",
       ".xr-var-attrs-in:checked ~ .xr-var-attrs,\n",
       ".xr-var-data-in:checked ~ .xr-var-data {\n",
       "  display: block;\n",
       "}\n",
       "\n",
       ".xr-var-data > table {\n",
       "  float: right;\n",
       "}\n",
       "\n",
       ".xr-var-name span,\n",
       ".xr-var-data,\n",
       ".xr-attrs {\n",
       "  padding-left: 25px !important;\n",
       "}\n",
       "\n",
       ".xr-attrs,\n",
       ".xr-var-attrs,\n",
       ".xr-var-data {\n",
       "  grid-column: 1 / -1;\n",
       "}\n",
       "\n",
       "dl.xr-attrs {\n",
       "  padding: 0;\n",
       "  margin: 0;\n",
       "  display: grid;\n",
       "  grid-template-columns: 125px auto;\n",
       "}\n",
       "\n",
       ".xr-attrs dt,\n",
       ".xr-attrs dd {\n",
       "  padding: 0;\n",
       "  margin: 0;\n",
       "  float: left;\n",
       "  padding-right: 10px;\n",
       "  width: auto;\n",
       "}\n",
       "\n",
       ".xr-attrs dt {\n",
       "  font-weight: normal;\n",
       "  grid-column: 1;\n",
       "}\n",
       "\n",
       ".xr-attrs dt:hover span {\n",
       "  display: inline-block;\n",
       "  background: var(--xr-background-color);\n",
       "  padding-right: 10px;\n",
       "}\n",
       "\n",
       ".xr-attrs dd {\n",
       "  grid-column: 2;\n",
       "  white-space: pre-wrap;\n",
       "  word-break: break-all;\n",
       "}\n",
       "\n",
       ".xr-icon-database,\n",
       ".xr-icon-file-text2 {\n",
       "  display: inline-block;\n",
       "  vertical-align: middle;\n",
       "  width: 1em;\n",
       "  height: 1.5em !important;\n",
       "  stroke-width: 0;\n",
       "  stroke: currentColor;\n",
       "  fill: currentColor;\n",
       "}\n",
       "</style><pre class='xr-text-repr-fallback'>&lt;xarray.DataArray &#x27;tmin&#x27; (time: 10957, lat: 691, lon: 886)&gt;\n",
       "dask.array&lt;xarray-tmin, shape=(10957, 691, 886), dtype=float32, chunksize=(10957, 691, 886), chunktype=numpy.ndarray&gt;\n",
       "Coordinates:\n",
       "  * lat      (lat) float32 -44.5 -44.45 -44.4 -44.35 ... -10.1 -10.05 -10.0\n",
       "  * lon      (lon) float32 112.0 112.1 112.1 112.2 ... 156.1 156.1 156.2 156.2\n",
       "  * time     (time) datetime64[ns] 1990-01-01T09:00:00 ... 2019-12-31T09:00:00\n",
       "Attributes:\n",
       "    analysis_time:              2018-08-16 23:47:23 UTC\n",
       "    analysis_version_number:    2.01\n",
       "    cell_methods:               time: minimum\n",
       "    frequency:                  daily\n",
       "    length_scale_for_analysis:  250.0\n",
       "    long_name:                  Daily minimum air temperature\n",
       "    source:                     Interpolated surface observations\n",
       "    standard_name:              air_temperature\n",
       "    units:                      C</pre><div class='xr-wrap' style='display:none'><div class='xr-header'><div class='xr-obj-type'>xarray.DataArray</div><div class='xr-array-name'>'tmin'</div><ul class='xr-dim-list'><li><span class='xr-has-index'>time</span>: 10957</li><li><span class='xr-has-index'>lat</span>: 691</li><li><span class='xr-has-index'>lon</span>: 886</li></ul></div><ul class='xr-sections'><li class='xr-section-item'><div class='xr-array-wrap'><input id='section-c5497cf3-1f07-4b19-b613-457e5e282f2f' class='xr-array-in' type='checkbox' checked><label for='section-c5497cf3-1f07-4b19-b613-457e5e282f2f' title='Show/hide data repr'><svg class='icon xr-icon-database'><use xlink:href='#icon-database'></use></svg></label><div class='xr-array-preview xr-preview'><span>dask.array&lt;chunksize=(10957, 691, 886), meta=np.ndarray&gt;</span></div><div class='xr-array-data'><table>\n",
       "    <tr>\n",
       "        <td>\n",
       "            <table>\n",
       "                <thead>\n",
       "                    <tr>\n",
       "                        <td> </td>\n",
       "                        <th> Array </th>\n",
       "                        <th> Chunk </th>\n",
       "                    </tr>\n",
       "                </thead>\n",
       "                <tbody>\n",
       "                    \n",
       "                    <tr>\n",
       "                        <th> Bytes </th>\n",
       "                        <td> 24.99 GiB </td>\n",
       "                        <td> 24.99 GiB </td>\n",
       "                    </tr>\n",
       "                    \n",
       "                    <tr>\n",
       "                        <th> Shape </th>\n",
       "                        <td> (10957, 691, 886) </td>\n",
       "                        <td> (10957, 691, 886) </td>\n",
       "                    </tr>\n",
       "                    <tr>\n",
       "                        <th> Count </th>\n",
       "                        <td> 2 Tasks </td>\n",
       "                        <td> 1 Chunks </td>\n",
       "                    </tr>\n",
       "                    <tr>\n",
       "                    <th> Type </th>\n",
       "                    <td> float32 </td>\n",
       "                    <td> numpy.ndarray </td>\n",
       "                    </tr>\n",
       "                </tbody>\n",
       "            </table>\n",
       "        </td>\n",
       "        <td>\n",
       "        <svg width=\"167\" height=\"156\" style=\"stroke:rgb(0,0,0);stroke-width:1\" >\n",
       "\n",
       "  <!-- Horizontal lines -->\n",
       "  <line x1=\"10\" y1=\"0\" x2=\"80\" y2=\"70\" style=\"stroke-width:2\" />\n",
       "  <line x1=\"10\" y1=\"35\" x2=\"80\" y2=\"106\" style=\"stroke-width:2\" />\n",
       "\n",
       "  <!-- Vertical lines -->\n",
       "  <line x1=\"10\" y1=\"0\" x2=\"10\" y2=\"35\" style=\"stroke-width:2\" />\n",
       "  <line x1=\"80\" y1=\"70\" x2=\"80\" y2=\"106\" style=\"stroke-width:2\" />\n",
       "\n",
       "  <!-- Colored Rectangle -->\n",
       "  <polygon points=\"10.0,0.0 80.58823529411765,70.58823529411765 80.58823529411765,106.50206038735732 10.0,35.91382509323967\" style=\"fill:#ECB172A0;stroke-width:0\"/>\n",
       "\n",
       "  <!-- Horizontal lines -->\n",
       "  <line x1=\"10\" y1=\"0\" x2=\"47\" y2=\"0\" style=\"stroke-width:2\" />\n",
       "  <line x1=\"80\" y1=\"70\" x2=\"117\" y2=\"70\" style=\"stroke-width:2\" />\n",
       "\n",
       "  <!-- Vertical lines -->\n",
       "  <line x1=\"10\" y1=\"0\" x2=\"80\" y2=\"70\" style=\"stroke-width:2\" />\n",
       "  <line x1=\"47\" y1=\"0\" x2=\"117\" y2=\"70\" style=\"stroke-width:2\" />\n",
       "\n",
       "  <!-- Colored Rectangle -->\n",
       "  <polygon points=\"10.0,0.0 47.388946191648266,0.0 117.97718148576593,70.58823529411765 80.58823529411765,70.58823529411765\" style=\"fill:#ECB172A0;stroke-width:0\"/>\n",
       "\n",
       "  <!-- Horizontal lines -->\n",
       "  <line x1=\"80\" y1=\"70\" x2=\"117\" y2=\"70\" style=\"stroke-width:2\" />\n",
       "  <line x1=\"80\" y1=\"106\" x2=\"117\" y2=\"106\" style=\"stroke-width:2\" />\n",
       "\n",
       "  <!-- Vertical lines -->\n",
       "  <line x1=\"80\" y1=\"70\" x2=\"80\" y2=\"106\" style=\"stroke-width:2\" />\n",
       "  <line x1=\"117\" y1=\"70\" x2=\"117\" y2=\"106\" style=\"stroke-width:2\" />\n",
       "\n",
       "  <!-- Colored Rectangle -->\n",
       "  <polygon points=\"80.58823529411765,70.58823529411765 117.97718148576593,70.58823529411765 117.97718148576593,106.50206038735732 80.58823529411765,106.50206038735732\" style=\"fill:#ECB172A0;stroke-width:0\"/>\n",
       "\n",
       "  <!-- Text -->\n",
       "  <text x=\"99.282708\" y=\"126.502060\" font-size=\"1.0rem\" font-weight=\"100\" text-anchor=\"middle\" >886</text>\n",
       "  <text x=\"137.977181\" y=\"88.545148\" font-size=\"1.0rem\" font-weight=\"100\" text-anchor=\"middle\" transform=\"rotate(-90,137.977181,88.545148)\">691</text>\n",
       "  <text x=\"35.294118\" y=\"91.207943\" font-size=\"1.0rem\" font-weight=\"100\" text-anchor=\"middle\" transform=\"rotate(45,35.294118,91.207943)\">10957</text>\n",
       "</svg>\n",
       "        </td>\n",
       "    </tr>\n",
       "</table></div></div></li><li class='xr-section-item'><input id='section-ddc71274-e0e1-4c02-8157-d52500f94c64' class='xr-section-summary-in' type='checkbox'  checked><label for='section-ddc71274-e0e1-4c02-8157-d52500f94c64' class='xr-section-summary' >Coordinates: <span>(3)</span></label><div class='xr-section-inline-details'></div><div class='xr-section-details'><ul class='xr-var-list'><li class='xr-var-item'><div class='xr-var-name'><span class='xr-has-index'>lat</span></div><div class='xr-var-dims'>(lat)</div><div class='xr-var-dtype'>float32</div><div class='xr-var-preview xr-preview'>-44.5 -44.45 -44.4 ... -10.05 -10.0</div><input id='attrs-44b8fec3-6e08-45b3-bac2-e58e537b364e' class='xr-var-attrs-in' type='checkbox' ><label for='attrs-44b8fec3-6e08-45b3-bac2-e58e537b364e' title='Show/Hide attributes'><svg class='icon xr-icon-file-text2'><use xlink:href='#icon-file-text2'></use></svg></label><input id='data-72b32774-dfaf-4e9b-bc87-e3d0eb48a4b5' class='xr-var-data-in' type='checkbox'><label for='data-72b32774-dfaf-4e9b-bc87-e3d0eb48a4b5' title='Show/Hide data repr'><svg class='icon xr-icon-database'><use xlink:href='#icon-database'></use></svg></label><div class='xr-var-attrs'><dl class='xr-attrs'><dt><span>axis :</span></dt><dd>Y</dd><dt><span>bounds :</span></dt><dd>lat_bnds</dd><dt><span>long_name :</span></dt><dd>latitude</dd><dt><span>standard_name :</span></dt><dd>latitude</dd><dt><span>units :</span></dt><dd>degrees_north</dd></dl></div><div class='xr-var-data'><pre>array([-44.5 , -44.45, -44.4 , ..., -10.1 , -10.05, -10.  ], dtype=float32)</pre></div></li><li class='xr-var-item'><div class='xr-var-name'><span class='xr-has-index'>lon</span></div><div class='xr-var-dims'>(lon)</div><div class='xr-var-dtype'>float32</div><div class='xr-var-preview xr-preview'>112.0 112.1 112.1 ... 156.2 156.2</div><input id='attrs-226a98ff-ca90-4571-b6e4-afd4093dd260' class='xr-var-attrs-in' type='checkbox' ><label for='attrs-226a98ff-ca90-4571-b6e4-afd4093dd260' title='Show/Hide attributes'><svg class='icon xr-icon-file-text2'><use xlink:href='#icon-file-text2'></use></svg></label><input id='data-f2340de8-426c-4c1d-8512-4ef8fc3685c3' class='xr-var-data-in' type='checkbox'><label for='data-f2340de8-426c-4c1d-8512-4ef8fc3685c3' title='Show/Hide data repr'><svg class='icon xr-icon-database'><use xlink:href='#icon-database'></use></svg></label><div class='xr-var-attrs'><dl class='xr-attrs'><dt><span>axis :</span></dt><dd>X</dd><dt><span>bounds :</span></dt><dd>lon_bnds</dd><dt><span>long_name :</span></dt><dd>longitude</dd><dt><span>standard_name :</span></dt><dd>longitude</dd><dt><span>units :</span></dt><dd>degrees_east</dd></dl></div><div class='xr-var-data'><pre>array([112.  , 112.05, 112.1 , ..., 156.15, 156.2 , 156.25], dtype=float32)</pre></div></li><li class='xr-var-item'><div class='xr-var-name'><span class='xr-has-index'>time</span></div><div class='xr-var-dims'>(time)</div><div class='xr-var-dtype'>datetime64[ns]</div><div class='xr-var-preview xr-preview'>1990-01-01T09:00:00 ... 2019-12-...</div><input id='attrs-813e1687-1c9e-481a-b3ca-41c6f128f414' class='xr-var-attrs-in' type='checkbox' ><label for='attrs-813e1687-1c9e-481a-b3ca-41c6f128f414' title='Show/Hide attributes'><svg class='icon xr-icon-file-text2'><use xlink:href='#icon-file-text2'></use></svg></label><input id='data-879cb877-e3da-4671-bb7e-d1a8f03e7bfa' class='xr-var-data-in' type='checkbox'><label for='data-879cb877-e3da-4671-bb7e-d1a8f03e7bfa' title='Show/Hide data repr'><svg class='icon xr-icon-database'><use xlink:href='#icon-database'></use></svg></label><div class='xr-var-attrs'><dl class='xr-attrs'><dt><span>axis :</span></dt><dd>T</dd><dt><span>bounds :</span></dt><dd>time_bnds</dd><dt><span>standard_name :</span></dt><dd>time</dd></dl></div><div class='xr-var-data'><pre>array([&#x27;1990-01-01T09:00:00.000000000&#x27;, &#x27;1990-01-02T09:00:00.000000000&#x27;,\n",
       "       &#x27;1990-01-03T09:00:00.000000000&#x27;, ..., &#x27;2019-12-29T09:00:00.000000000&#x27;,\n",
       "       &#x27;2019-12-30T09:00:00.000000000&#x27;, &#x27;2019-12-31T09:00:00.000000000&#x27;],\n",
       "      dtype=&#x27;datetime64[ns]&#x27;)</pre></div></li></ul></div></li><li class='xr-section-item'><input id='section-36a3d7b9-43f9-48bf-8531-3455d1537453' class='xr-section-summary-in' type='checkbox'  checked><label for='section-36a3d7b9-43f9-48bf-8531-3455d1537453' class='xr-section-summary' >Attributes: <span>(9)</span></label><div class='xr-section-inline-details'></div><div class='xr-section-details'><dl class='xr-attrs'><dt><span>analysis_time :</span></dt><dd>2018-08-16 23:47:23 UTC</dd><dt><span>analysis_version_number :</span></dt><dd>2.01</dd><dt><span>cell_methods :</span></dt><dd>time: minimum</dd><dt><span>frequency :</span></dt><dd>daily</dd><dt><span>length_scale_for_analysis :</span></dt><dd>250.0</dd><dt><span>long_name :</span></dt><dd>Daily minimum air temperature</dd><dt><span>source :</span></dt><dd>Interpolated surface observations</dd><dt><span>standard_name :</span></dt><dd>air_temperature</dd><dt><span>units :</span></dt><dd>C</dd></dl></div></li></ul></div></div>"
      ],
      "text/plain": [
       "<xarray.DataArray 'tmin' (time: 10957, lat: 691, lon: 886)>\n",
       "dask.array<xarray-tmin, shape=(10957, 691, 886), dtype=float32, chunksize=(10957, 691, 886), chunktype=numpy.ndarray>\n",
       "Coordinates:\n",
       "  * lat      (lat) float32 -44.5 -44.45 -44.4 -44.35 ... -10.1 -10.05 -10.0\n",
       "  * lon      (lon) float32 112.0 112.1 112.1 112.2 ... 156.1 156.1 156.2 156.2\n",
       "  * time     (time) datetime64[ns] 1990-01-01T09:00:00 ... 2019-12-31T09:00:00\n",
       "Attributes:\n",
       "    analysis_time:              2018-08-16 23:47:23 UTC\n",
       "    analysis_version_number:    2.01\n",
       "    cell_methods:               time: minimum\n",
       "    frequency:                  daily\n",
       "    length_scale_for_analysis:  250.0\n",
       "    long_name:                  Daily minimum air temperature\n",
       "    source:                     Interpolated surface observations\n",
       "    standard_name:              air_temperature\n",
       "    units:                      C"
      ]
     },
     "execution_count": 16,
     "metadata": {},
     "output_type": "execute_result"
    }
   ],
   "source": [
    "ds_target[target_var]"
   ]
  },
  {
   "cell_type": "code",
   "execution_count": 17,
   "id": "ec7ef222-2fe9-4179-8081-c07f21c16d56",
   "metadata": {
    "execution": {
     "iopub.execute_input": "2023-01-13T09:48:31.106060Z",
     "iopub.status.busy": "2023-01-13T09:48:31.105680Z",
     "iopub.status.idle": "2023-01-13T10:40:09.661619Z",
     "shell.execute_reply": "2023-01-13T10:40:09.641344Z"
    },
    "papermill": {
     "duration": 3098.614322,
     "end_time": "2023-01-13T10:40:09.707888",
     "exception": false,
     "start_time": "2023-01-13T09:48:31.093566",
     "status": "completed"
    },
    "tags": []
   },
   "outputs": [
    {
     "name": "stdout",
     "output_type": "stream",
     "text": [
      "\r",
      "[                                        ] | 0% Completed |  0.0s"
     ]
    },
    {
     "name": "stderr",
     "output_type": "stream",
     "text": [
      "/g/data/xv83/dbi599/miniconda3/envs/qqscale/lib/python3.10/site-packages/xarray/core/indexing.py:1228: PerformanceWarning: Slicing is producing a large chunk. To accept the large\n",
      "chunk and silence this warning, set the option\n",
      "    >>> with dask.config.set(**{'array.slicing.split_large_chunks': False}):\n",
      "    ...     array[indexer]\n",
      "\n",
      "To avoid creating the large chunks, set the option\n",
      "    >>> with dask.config.set(**{'array.slicing.split_large_chunks': True}):\n",
      "    ...     array[indexer]\n",
      "  return self.array[key]\n"
     ]
    },
    {
     "name": "stdout",
     "output_type": "stream",
     "text": [
      "[########################################] | 100% Completed |  1min 31.5s\n",
      "[                                        ] | 0% Completed |  0.1s"
     ]
    },
    {
     "name": "stderr",
     "output_type": "stream",
     "text": [
      "/g/data/xv83/dbi599/miniconda3/envs/qqscale/lib/python3.10/site-packages/xarray/core/indexing.py:1228: PerformanceWarning: Slicing is producing a large chunk. To accept the large\n",
      "chunk and silence this warning, set the option\n",
      "    >>> with dask.config.set(**{'array.slicing.split_large_chunks': False}):\n",
      "    ...     array[indexer]\n",
      "\n",
      "To avoid creating the large chunks, set the option\n",
      "    >>> with dask.config.set(**{'array.slicing.split_large_chunks': True}):\n",
      "    ...     array[indexer]\n",
      "  return self.array[key]\n"
     ]
    },
    {
     "name": "stdout",
     "output_type": "stream",
     "text": [
      "[########################################] | 100% Completed |  1min 20.9s\n",
      "[                                        ] | 0% Completed |  0.1s"
     ]
    },
    {
     "name": "stderr",
     "output_type": "stream",
     "text": [
      "/g/data/xv83/dbi599/miniconda3/envs/qqscale/lib/python3.10/site-packages/xarray/core/indexing.py:1228: PerformanceWarning: Slicing is producing a large chunk. To accept the large\n",
      "chunk and silence this warning, set the option\n",
      "    >>> with dask.config.set(**{'array.slicing.split_large_chunks': False}):\n",
      "    ...     array[indexer]\n",
      "\n",
      "To avoid creating the large chunks, set the option\n",
      "    >>> with dask.config.set(**{'array.slicing.split_large_chunks': True}):\n",
      "    ...     array[indexer]\n",
      "  return self.array[key]\n"
     ]
    },
    {
     "name": "stdout",
     "output_type": "stream",
     "text": [
      "[########################################] | 100% Completed |  1min 21.3s\n",
      "[                                        ] | 0% Completed |  0.1s"
     ]
    },
    {
     "name": "stderr",
     "output_type": "stream",
     "text": [
      "/g/data/xv83/dbi599/miniconda3/envs/qqscale/lib/python3.10/site-packages/xarray/core/indexing.py:1228: PerformanceWarning: Slicing is producing a large chunk. To accept the large\n",
      "chunk and silence this warning, set the option\n",
      "    >>> with dask.config.set(**{'array.slicing.split_large_chunks': False}):\n",
      "    ...     array[indexer]\n",
      "\n",
      "To avoid creating the large chunks, set the option\n",
      "    >>> with dask.config.set(**{'array.slicing.split_large_chunks': True}):\n",
      "    ...     array[indexer]\n",
      "  return self.array[key]\n"
     ]
    },
    {
     "name": "stdout",
     "output_type": "stream",
     "text": [
      "[########################################] | 100% Completed |  1min 21.4s\n",
      "[                                        ] | 0% Completed |  0.1s"
     ]
    },
    {
     "name": "stderr",
     "output_type": "stream",
     "text": [
      "/g/data/xv83/dbi599/miniconda3/envs/qqscale/lib/python3.10/site-packages/xarray/core/indexing.py:1228: PerformanceWarning: Slicing is producing a large chunk. To accept the large\n",
      "chunk and silence this warning, set the option\n",
      "    >>> with dask.config.set(**{'array.slicing.split_large_chunks': False}):\n",
      "    ...     array[indexer]\n",
      "\n",
      "To avoid creating the large chunks, set the option\n",
      "    >>> with dask.config.set(**{'array.slicing.split_large_chunks': True}):\n",
      "    ...     array[indexer]\n",
      "  return self.array[key]\n"
     ]
    },
    {
     "name": "stdout",
     "output_type": "stream",
     "text": [
      "[########################################] | 100% Completed |  1min 20.5s\n",
      "[                                        ] | 0% Completed |  0.1s"
     ]
    },
    {
     "name": "stderr",
     "output_type": "stream",
     "text": [
      "/g/data/xv83/dbi599/miniconda3/envs/qqscale/lib/python3.10/site-packages/xarray/core/indexing.py:1228: PerformanceWarning: Slicing is producing a large chunk. To accept the large\n",
      "chunk and silence this warning, set the option\n",
      "    >>> with dask.config.set(**{'array.slicing.split_large_chunks': False}):\n",
      "    ...     array[indexer]\n",
      "\n",
      "To avoid creating the large chunks, set the option\n",
      "    >>> with dask.config.set(**{'array.slicing.split_large_chunks': True}):\n",
      "    ...     array[indexer]\n",
      "  return self.array[key]\n"
     ]
    },
    {
     "name": "stdout",
     "output_type": "stream",
     "text": [
      "[########################################] | 100% Completed |  1min 21.2s\n",
      "[                                        ] | 0% Completed |  0.1s"
     ]
    },
    {
     "name": "stderr",
     "output_type": "stream",
     "text": [
      "/g/data/xv83/dbi599/miniconda3/envs/qqscale/lib/python3.10/site-packages/xarray/core/indexing.py:1228: PerformanceWarning: Slicing is producing a large chunk. To accept the large\n",
      "chunk and silence this warning, set the option\n",
      "    >>> with dask.config.set(**{'array.slicing.split_large_chunks': False}):\n",
      "    ...     array[indexer]\n",
      "\n",
      "To avoid creating the large chunks, set the option\n",
      "    >>> with dask.config.set(**{'array.slicing.split_large_chunks': True}):\n",
      "    ...     array[indexer]\n",
      "  return self.array[key]\n"
     ]
    },
    {
     "name": "stdout",
     "output_type": "stream",
     "text": [
      "[########################################] | 100% Completed |  1min 21.1s\n",
      "[                                        ] | 0% Completed |  0.1s"
     ]
    },
    {
     "name": "stderr",
     "output_type": "stream",
     "text": [
      "/g/data/xv83/dbi599/miniconda3/envs/qqscale/lib/python3.10/site-packages/xarray/core/indexing.py:1228: PerformanceWarning: Slicing is producing a large chunk. To accept the large\n",
      "chunk and silence this warning, set the option\n",
      "    >>> with dask.config.set(**{'array.slicing.split_large_chunks': False}):\n",
      "    ...     array[indexer]\n",
      "\n",
      "To avoid creating the large chunks, set the option\n",
      "    >>> with dask.config.set(**{'array.slicing.split_large_chunks': True}):\n",
      "    ...     array[indexer]\n",
      "  return self.array[key]\n"
     ]
    },
    {
     "name": "stdout",
     "output_type": "stream",
     "text": [
      "[########################################] | 100% Completed |  1min 21.1s\n",
      "[                                        ] | 0% Completed |  0.1s"
     ]
    },
    {
     "name": "stderr",
     "output_type": "stream",
     "text": [
      "/g/data/xv83/dbi599/miniconda3/envs/qqscale/lib/python3.10/site-packages/xarray/core/indexing.py:1228: PerformanceWarning: Slicing is producing a large chunk. To accept the large\n",
      "chunk and silence this warning, set the option\n",
      "    >>> with dask.config.set(**{'array.slicing.split_large_chunks': False}):\n",
      "    ...     array[indexer]\n",
      "\n",
      "To avoid creating the large chunks, set the option\n",
      "    >>> with dask.config.set(**{'array.slicing.split_large_chunks': True}):\n",
      "    ...     array[indexer]\n",
      "  return self.array[key]\n"
     ]
    },
    {
     "name": "stdout",
     "output_type": "stream",
     "text": [
      "[########################################] | 100% Completed |  1min 21.6s\n",
      "[                                        ] | 0% Completed |  0.1s"
     ]
    },
    {
     "name": "stderr",
     "output_type": "stream",
     "text": [
      "/g/data/xv83/dbi599/miniconda3/envs/qqscale/lib/python3.10/site-packages/xarray/core/indexing.py:1228: PerformanceWarning: Slicing is producing a large chunk. To accept the large\n",
      "chunk and silence this warning, set the option\n",
      "    >>> with dask.config.set(**{'array.slicing.split_large_chunks': False}):\n",
      "    ...     array[indexer]\n",
      "\n",
      "To avoid creating the large chunks, set the option\n",
      "    >>> with dask.config.set(**{'array.slicing.split_large_chunks': True}):\n",
      "    ...     array[indexer]\n",
      "  return self.array[key]\n"
     ]
    },
    {
     "name": "stdout",
     "output_type": "stream",
     "text": [
      "[########################################] | 100% Completed |  1min 20.7s\n",
      "[                                        ] | 0% Completed |  0.1s"
     ]
    },
    {
     "name": "stderr",
     "output_type": "stream",
     "text": [
      "/g/data/xv83/dbi599/miniconda3/envs/qqscale/lib/python3.10/site-packages/xarray/core/indexing.py:1228: PerformanceWarning: Slicing is producing a large chunk. To accept the large\n",
      "chunk and silence this warning, set the option\n",
      "    >>> with dask.config.set(**{'array.slicing.split_large_chunks': False}):\n",
      "    ...     array[indexer]\n",
      "\n",
      "To avoid creating the large chunks, set the option\n",
      "    >>> with dask.config.set(**{'array.slicing.split_large_chunks': True}):\n",
      "    ...     array[indexer]\n",
      "  return self.array[key]\n"
     ]
    },
    {
     "name": "stdout",
     "output_type": "stream",
     "text": [
      "[########################################] | 100% Completed |  1min 21.1s\n",
      "[                                        ] | 0% Completed |  0.1s"
     ]
    },
    {
     "name": "stderr",
     "output_type": "stream",
     "text": [
      "/g/data/xv83/dbi599/miniconda3/envs/qqscale/lib/python3.10/site-packages/xarray/core/indexing.py:1228: PerformanceWarning: Slicing is producing a large chunk. To accept the large\n",
      "chunk and silence this warning, set the option\n",
      "    >>> with dask.config.set(**{'array.slicing.split_large_chunks': False}):\n",
      "    ...     array[indexer]\n",
      "\n",
      "To avoid creating the large chunks, set the option\n",
      "    >>> with dask.config.set(**{'array.slicing.split_large_chunks': True}):\n",
      "    ...     array[indexer]\n",
      "  return self.array[key]\n"
     ]
    },
    {
     "name": "stdout",
     "output_type": "stream",
     "text": [
      "[########################################] | 100% Completed |  1min 20.9s\n"
     ]
    }
   ],
   "source": [
    "target_q = utils.get_quantiles(ds_target[target_var], ds_adjust['quantiles'].data)"
   ]
  },
  {
   "cell_type": "code",
   "execution_count": 18,
   "id": "421b13d1-1e99-46dd-9fc3-ed2a2d45b727",
   "metadata": {
    "execution": {
     "iopub.execute_input": "2023-01-13T10:40:10.756755Z",
     "iopub.status.busy": "2023-01-13T10:40:10.736710Z",
     "iopub.status.idle": "2023-01-13T10:40:10.857876Z",
     "shell.execute_reply": "2023-01-13T10:40:10.856739Z"
    },
    "papermill": {
     "duration": 0.629534,
     "end_time": "2023-01-13T10:40:10.860848",
     "exception": false,
     "start_time": "2023-01-13T10:40:10.231314",
     "status": "completed"
    },
    "tags": []
   },
   "outputs": [],
   "source": [
    "target_q = target_q.compute()"
   ]
  },
  {
   "cell_type": "code",
   "execution_count": 19,
   "id": "0325bdbc",
   "metadata": {
    "execution": {
     "iopub.execute_input": "2023-01-13T10:40:11.811125Z",
     "iopub.status.busy": "2023-01-13T10:40:11.810652Z",
     "iopub.status.idle": "2023-01-13T10:40:12.714268Z",
     "shell.execute_reply": "2023-01-13T10:40:12.713105Z"
    },
    "papermill": {
     "duration": 1.360845,
     "end_time": "2023-01-13T10:40:12.717413",
     "exception": false,
     "start_time": "2023-01-13T10:40:11.356568",
     "status": "completed"
    },
    "tags": []
   },
   "outputs": [],
   "source": [
    "ds_qq = xr.open_dataset(qq_file)"
   ]
  },
  {
   "cell_type": "code",
   "execution_count": 20,
   "id": "aa0fb134",
   "metadata": {},
   "outputs": [],
   "source": [
    "da_qq = ds_qq[target_var].sel(point_selection, method='nearest')"
   ]
  },
  {
   "cell_type": "code",
   "execution_count": 21,
   "id": "0328fbc0",
   "metadata": {
    "execution": {
     "iopub.execute_input": "2023-01-13T10:40:13.610541Z",
     "iopub.status.busy": "2023-01-13T10:40:13.610075Z",
     "iopub.status.idle": "2023-01-13T10:40:13.620692Z",
     "shell.execute_reply": "2023-01-13T10:40:13.619615Z"
    },
    "papermill": {
     "duration": 0.477758,
     "end_time": "2023-01-13T10:40:13.622258",
     "exception": false,
     "start_time": "2023-01-13T10:40:13.144500",
     "status": "completed"
    },
    "tags": []
   },
   "outputs": [],
   "source": [
    "lat_min_qq = ds_qq['lat'].values.min()\n",
    "lat_max_qq = ds_qq['lat'].values.max()\n",
    "lon_min_qq = ds_qq['lon'].values.min()\n",
    "lon_max_qq = ds_qq['lon'].values.max()"
   ]
  },
  {
   "cell_type": "code",
   "execution_count": 22,
   "id": "fe7aea93",
   "metadata": {
    "execution": {
     "iopub.execute_input": "2023-01-13T10:40:14.484902Z",
     "iopub.status.busy": "2023-01-13T10:40:14.484247Z",
     "iopub.status.idle": "2023-01-13T10:40:14.490710Z",
     "shell.execute_reply": "2023-01-13T10:40:14.489745Z"
    },
    "papermill": {
     "duration": 0.417571,
     "end_time": "2023-01-13T10:40:14.491993",
     "exception": false,
     "start_time": "2023-01-13T10:40:14.074422",
     "status": "completed"
    },
    "tags": []
   },
   "outputs": [
    {
     "name": "stdout",
     "output_type": "stream",
     "text": [
      "-44.5 -10.0 112.0 156.25\n"
     ]
    }
   ],
   "source": [
    "print(lat_min_qq, lat_max_qq, lon_min_qq, lon_max_qq)"
   ]
  },
  {
   "cell_type": "markdown",
   "id": "45ee682b",
   "metadata": {
    "papermill": {
     "duration": 0.407357,
     "end_time": "2023-01-13T10:40:15.346048",
     "exception": false,
     "start_time": "2023-01-13T10:40:14.938691",
     "status": "completed"
    },
    "tags": []
   },
   "source": [
    "## Quantile mapping"
   ]
  },
  {
   "cell_type": "code",
   "execution_count": 23,
   "id": "bd9592d3",
   "metadata": {
    "execution": {
     "iopub.execute_input": "2023-01-13T10:40:16.204141Z",
     "iopub.status.busy": "2023-01-13T10:40:16.203469Z",
     "iopub.status.idle": "2023-01-13T10:40:16.239068Z",
     "shell.execute_reply": "2023-01-13T10:40:16.238170Z"
    },
    "papermill": {
     "duration": 0.44843,
     "end_time": "2023-01-13T10:40:16.240589",
     "exception": false,
     "start_time": "2023-01-13T10:40:15.792159",
     "status": "completed"
    },
    "tags": []
   },
   "outputs": [],
   "source": [
    "def quantile_month_plot(da, ax, cmap_type, levels=None, extend='both', point=None, title=None):\n",
    "    \"\"\"Create two dimensional month/quantile plot\"\"\"\n",
    "    \n",
    "    assert cmap_type in ['regular', 'diverging']\n",
    "    \n",
    "    quantiles = da.sel(point_selection, method='nearest')\n",
    "    \n",
    "    cmap = plot_config[f'{cmap_type}_cmap']\n",
    "    kwargs = {}\n",
    "    if levels:\n",
    "        kwargs['levels'] = levels\n",
    "    elif cmap_type == 'diverging':\n",
    "        abs_max = np.max(np.abs(quantiles.values))\n",
    "        vmax = abs_max\n",
    "        vmin = -1 * abs_max\n",
    "        kwargs['vmax'] = vmax\n",
    "        kwargs['vmin'] = vmin\n",
    "    \n",
    "    quantiles.transpose('month', 'quantiles').plot(ax=ax, cmap=cmap, extend=extend, **kwargs)\n",
    "    \n",
    "    yticks = np.arange(1,13)\n",
    "    ytick_labels = [calendar.month_abbr[i] for i in yticks]\n",
    "    ax.set_yticks(yticks, ytick_labels)\n",
    "    ax.invert_yaxis()\n",
    "    if title:\n",
    "        ax.set_title(title)"
   ]
  },
  {
   "cell_type": "code",
   "execution_count": 24,
   "id": "61445b57",
   "metadata": {
    "execution": {
     "iopub.execute_input": "2023-01-13T10:40:17.159047Z",
     "iopub.status.busy": "2023-01-13T10:40:17.158600Z",
     "iopub.status.idle": "2023-01-13T10:40:17.173440Z",
     "shell.execute_reply": "2023-01-13T10:40:17.172554Z"
    },
    "papermill": {
     "duration": 0.474684,
     "end_time": "2023-01-13T10:40:17.174926",
     "exception": false,
     "start_time": "2023-01-13T10:40:16.700242",
     "status": "completed"
    },
    "tags": []
   },
   "outputs": [],
   "source": [
    "def quantile_spatial_plot(\n",
    "    da, month, cmap_type, lat_bounds=None, lon_bounds=None, levels=None,\n",
    "):\n",
    "    \"\"\"Spatial plot of the 10th, 50th and 90th percentile\"\"\"\n",
    "    \n",
    "    da_selection = da.sel({'quantiles': [.1, .5, .9], 'month': month}, method='nearest')\n",
    "    if lat_bounds:\n",
    "        lat_min, lat_max = lat_bounds\n",
    "        da_selection = da_selection.sel(lat=slice(lat_min, lat_max))\n",
    "    if lon_bounds:\n",
    "        lon_min, lon_max = lon_bounds\n",
    "        da_selection = da_selection.sel(lon=slice(lon_min, lon_max))\n",
    "        \n",
    "    cmap = plot_config[f'{cmap_type}_cmap']\n",
    "    kwargs = {}\n",
    "    if levels:\n",
    "        kwargs['levels'] = levels\n",
    "    elif cmap_type == 'diverging':\n",
    "        abs_max = np.max(np.abs(da_selection.values))\n",
    "        vmax = abs_max\n",
    "        vmin = -1 * abs_max\n",
    "        kwargs['vmax'] = vmax\n",
    "        kwargs['vmin'] = vmin\n",
    "        \n",
    "    p = da_selection.plot(\n",
    "        col='quantiles',\n",
    "        transform=ccrs.PlateCarree(),\n",
    "        cmap=cmap,\n",
    "        figsize=[20, 5.5],\n",
    "        subplot_kws={'projection': ccrs.PlateCarree(),},\n",
    "        **kwargs,\n",
    "    )\n",
    "    for ax in p.axes.flat:\n",
    "        ax.coastlines()\n",
    "        ax.plot(example_lon, example_lat, 'go', zorder=5, transform=ccrs.PlateCarree())\n",
    "    plt.suptitle(calendar.month_name[month])\n",
    "    plt.show()"
   ]
  },
  {
   "cell_type": "code",
   "execution_count": 25,
   "id": "eec4f42e",
   "metadata": {
    "execution": {
     "iopub.execute_input": "2023-01-13T10:40:18.035547Z",
     "iopub.status.busy": "2023-01-13T10:40:18.034783Z",
     "iopub.status.idle": "2023-01-13T10:40:21.023405Z",
     "shell.execute_reply": "2023-01-13T10:40:21.022214Z"
    },
    "papermill": {
     "duration": 3.443522,
     "end_time": "2023-01-13T10:40:21.027354",
     "exception": false,
     "start_time": "2023-01-13T10:40:17.583832",
     "status": "completed"
    },
    "tags": []
   },
   "outputs": [
    {
     "data": {
      "image/png": "[encoded data removed]",
      "text/plain": [
       "<Figure size 1440x396 with 4 Axes>"
      ]
     },
     "metadata": {
      "needs_background": "light"
     },
     "output_type": "display_data"
    }
   ],
   "source": [
    "if 'lat' in ds_adjust.dims:\n",
    "    quantile_spatial_plot(\n",
    "        ds_adjust['hist_q'],\n",
    "        example_month,\n",
    "        'regular',\n",
    "        levels=plot_config['general_levels'],\n",
    "        lat_bounds=[lat_min_qq, lat_max_qq],\n",
    "        lon_bounds=[lon_min_qq, lon_max_qq],\n",
    "    )"
   ]
  },
  {
   "cell_type": "code",
   "execution_count": 26,
   "id": "4339e721",
   "metadata": {
    "execution": {
     "iopub.execute_input": "2023-01-13T10:40:21.926316Z",
     "iopub.status.busy": "2023-01-13T10:40:21.925847Z",
     "iopub.status.idle": "2023-01-13T10:40:22.512459Z",
     "shell.execute_reply": "2023-01-13T10:40:22.511906Z"
    },
    "papermill": {
     "duration": 1.05231,
     "end_time": "2023-01-13T10:40:22.514886",
     "exception": false,
     "start_time": "2023-01-13T10:40:21.462576",
     "status": "completed"
    },
    "tags": []
   },
   "outputs": [
    {
     "data": {
      "image/png": "[encoded data removed]",
      "text/plain": [
       "<Figure size 1440x1224 with 6 Axes>"
      ]
     },
     "metadata": {
      "needs_background": "light"
     },
     "output_type": "display_data"
    }
   ],
   "source": [
    "fig = plt.figure(figsize=[20, 17])\n",
    "ax1 = fig.add_subplot(311)\n",
    "ax2 = fig.add_subplot(312)\n",
    "ax3 = fig.add_subplot(313)\n",
    "\n",
    "quantile_month_plot(\n",
    "    ds_adjust['ref_q'],\n",
    "    ax1,\n",
    "    'regular',\n",
    "    levels=plot_config['general_levels'],\n",
    "    title='reference',\n",
    "    extend='max',\n",
    ")\n",
    "\n",
    "quantile_month_plot(\n",
    "    ds_adjust['hist_q'],\n",
    "    ax2,\n",
    "    'regular',\n",
    "    levels=plot_config['general_levels'],\n",
    "    title='historical',\n",
    "    extend='max',\n",
    ")\n",
    "\n",
    "quantile_month_plot(\n",
    "    target_q,\n",
    "    ax3,\n",
    "    'regular',\n",
    "    levels=plot_config['general_levels'],\n",
    "    title='target (obs)',\n",
    "    extend='max',\n",
    ")\n",
    "\n",
    "plt.show()"
   ]
  },
  {
   "cell_type": "code",
   "execution_count": 27,
   "id": "20cb52d3",
   "metadata": {
    "execution": {
     "iopub.execute_input": "2023-01-13T10:40:23.389751Z",
     "iopub.status.busy": "2023-01-13T10:40:23.389445Z",
     "iopub.status.idle": "2023-01-13T10:40:29.518817Z",
     "shell.execute_reply": "2023-01-13T10:40:29.517351Z"
    },
    "papermill": {
     "duration": 6.54516,
     "end_time": "2023-01-13T10:40:29.521945",
     "exception": false,
     "start_time": "2023-01-13T10:40:22.976785",
     "status": "completed"
    },
    "tags": []
   },
   "outputs": [
    {
     "name": "stdout",
     "output_type": "stream",
     "text": [
      "[########################################] | 100% Completed |  6.1s\n"
     ]
    }
   ],
   "source": [
    "df_hist = pd.DataFrame(da_hist[da_hist['time'].dt.month == example_month].values, columns=[hist_var])"
   ]
  },
  {
   "cell_type": "code",
   "execution_count": 28,
   "id": "c51589bb",
   "metadata": {
    "execution": {
     "iopub.execute_input": "2023-01-13T10:40:30.441389Z",
     "iopub.status.busy": "2023-01-13T10:40:30.440960Z",
     "iopub.status.idle": "2023-01-13T10:40:40.278738Z",
     "shell.execute_reply": "2023-01-13T10:40:40.277594Z"
    },
    "papermill": {
     "duration": 10.293936,
     "end_time": "2023-01-13T10:40:40.281798",
     "exception": false,
     "start_time": "2023-01-13T10:40:29.987862",
     "status": "completed"
    },
    "tags": []
   },
   "outputs": [
    {
     "name": "stdout",
     "output_type": "stream",
     "text": [
      "[########################################] | 100% Completed |  8.9s\n"
     ]
    }
   ],
   "source": [
    "df_ref = pd.DataFrame(da_ref[da_ref['time'].dt.month == example_month].values, columns=[hist_var])"
   ]
  },
  {
   "cell_type": "code",
   "execution_count": 29,
   "id": "651fc10d",
   "metadata": {
    "execution": {
     "iopub.execute_input": "2023-01-13T10:40:41.185019Z",
     "iopub.status.busy": "2023-01-13T10:40:41.184547Z",
     "iopub.status.idle": "2023-01-13T10:40:41.445326Z",
     "shell.execute_reply": "2023-01-13T10:40:41.444783Z"
    },
    "papermill": {
     "duration": 0.723343,
     "end_time": "2023-01-13T10:40:41.447245",
     "exception": false,
     "start_time": "2023-01-13T10:40:40.723902",
     "status": "completed"
    },
    "tags": []
   },
   "outputs": [
    {
     "data": {
      "image/png": "[encoded data removed]",
      "text/plain": [
       "<Figure size 576x360 with 1 Axes>"
      ]
     },
     "metadata": {
      "needs_background": "light"
     },
     "output_type": "display_data"
    }
   ],
   "source": [
    "fig = plt.figure(figsize=[8, 5])\n",
    "ax1 = fig.add_subplot(111)\n",
    "\n",
    "sns.ecdfplot(ax=ax1, data=df_hist, x=hist_var, color='tab:blue', label='historical')\n",
    "sns.ecdfplot(ax=ax1, data=df_ref, x=hist_var, color='tab:orange', label='reference')\n",
    "ax1.legend()\n",
    "#ax1.plot([13.9, 13.9], [0, 0.5], color='0.5')\n",
    "#ax1.plot([5, 13.9], [0.5, 0.5], color='0.5')\n",
    "#ax1.plot([13.9, 15], [0.5, 0.5], color='0.5', linestyle=':')\n",
    "#ax1.plot([15, 15], [0, 0.5], color='0.5', linestyle=':')\n",
    "#ax1.set_xlim(8, 20)\n",
    "plt.show()"
   ]
  },
  {
   "cell_type": "markdown",
   "id": "d82e22b0",
   "metadata": {
    "papermill": {
     "duration": 0.464809,
     "end_time": "2023-01-13T10:40:42.340153",
     "exception": false,
     "start_time": "2023-01-13T10:40:41.875344",
     "status": "completed"
    },
    "tags": []
   },
   "source": [
    "So for a X day in the observational record, the empirical quantile mapping works as follows:\n",
    "1. Find the probability that temperature is exceeded in the historical data\n",
    "2. Find the temperature corresponding to that probability in the reference data\n",
    "3. That temperature is the new qq-scaled value for that day in the observational record (the \"adjustment\" factor is the difference between X and that new temperature)\n",
    "\n",
    "In other words, for a given temperature in the observational record the xclim software uses `hist_q` to look up the quantile corresponding to that temperature and then uses `af` to find the adjustment factor for the quantile."
   ]
  },
  {
   "cell_type": "code",
   "execution_count": 48,
   "id": "dcfa0c82",
   "metadata": {
    "execution": {
     "iopub.execute_input": "2023-01-13T10:40:43.216536Z",
     "iopub.status.busy": "2023-01-13T10:40:43.216061Z",
     "iopub.status.idle": "2023-01-13T10:42:07.673944Z",
     "shell.execute_reply": "2023-01-13T10:42:07.673350Z"
    },
    "papermill": {
     "duration": 84.879844,
     "end_time": "2023-01-13T10:42:07.677210",
     "exception": false,
     "start_time": "2023-01-13T10:40:42.797366",
     "status": "completed"
    },
    "tags": []
   },
   "outputs": [
    {
     "name": "stdout",
     "output_type": "stream",
     "text": [
      "[########################################] | 100% Completed |  1min 19.3s\n",
      "[########################################] | 100% Completed |  6.0s\n"
     ]
    },
    {
     "data": {
      "image/png": "[encoded data removed]",
      "text/plain": [
       "<Figure size 720x432 with 1 Axes>"
      ]
     },
     "metadata": {
      "needs_background": "light"
     },
     "output_type": "display_data"
    }
   ],
   "source": [
    "fig = plt.figure(figsize=[10, 6])\n",
    "\n",
    "bins = np.arange(0, 150, 1)    \n",
    "\n",
    "da_target[da_target['time'].dt.month == example_month].plot.hist(\n",
    "    bins=bins,\n",
    "    density=True,\n",
    "    label='observations',\n",
    "    facecolor='tab:green',\n",
    "    alpha=0.5,\n",
    "    rwidth=0.9,\n",
    ")\n",
    "\n",
    "da_hist[da_hist['time'].dt.month == example_month].plot.hist(\n",
    "    bins=bins,\n",
    "    density=True,\n",
    "    label='histotical data',\n",
    "    facecolor='tab:blue',\n",
    "    alpha=0.5,\n",
    "    rwidth=0.9,\n",
    ")\n",
    "plt.ylabel('probability')\n",
    "plt.xlim(0, 20)\n",
    "plt.legend()\n",
    "plt.show()"
   ]
  },
  {
   "cell_type": "markdown",
   "id": "2647d29f",
   "metadata": {
    "papermill": {
     "duration": 0.476885,
     "end_time": "2023-01-13T10:42:08.606478",
     "exception": false,
     "start_time": "2023-01-13T10:42:08.129593",
     "status": "completed"
    },
    "tags": []
   },
   "source": [
    "An issue here is that the temperature variability at this grid point in the observations is much greater than in the model. This means there are days in the observations that can't be linked to a corresponding historical probability. In this case, the adjustment factor at the first or last quantile (depending on whether it's a very cold or very hot day) is used. "
   ]
  },
  {
   "cell_type": "code",
   "execution_count": 31,
   "id": "fcaa123f",
   "metadata": {
    "execution": {
     "iopub.execute_input": "2023-01-13T10:42:09.566722Z",
     "iopub.status.busy": "2023-01-13T10:42:09.566330Z",
     "iopub.status.idle": "2023-01-13T10:42:09.789320Z",
     "shell.execute_reply": "2023-01-13T10:42:09.788752Z"
    },
    "papermill": {
     "duration": 0.70539,
     "end_time": "2023-01-13T10:42:09.792645",
     "exception": false,
     "start_time": "2023-01-13T10:42:09.087255",
     "status": "completed"
    },
    "tags": []
   },
   "outputs": [
    {
     "data": {
      "image/png": "[encoded data removed]",
      "text/plain": [
       "<Figure size 1440x396 with 4 Axes>"
      ]
     },
     "metadata": {
      "needs_background": "light"
     },
     "output_type": "display_data"
    }
   ],
   "source": [
    "if 'lat' in ds_adjust.dims:\n",
    "    quantile_spatial_plot(\n",
    "        ds_adjust['af'],\n",
    "        example_month,\n",
    "        'diverging',\n",
    "        levels=plot_config['af_levels'],\n",
    "        lat_bounds=[lat_min_qq, lat_max_qq],\n",
    "        lon_bounds=[lon_min_qq, lon_max_qq],\n",
    "    )"
   ]
  },
  {
   "cell_type": "code",
   "execution_count": 32,
   "id": "a9c67746",
   "metadata": {
    "execution": {
     "iopub.execute_input": "2023-01-13T10:42:10.748437Z",
     "iopub.status.busy": "2023-01-13T10:42:10.748056Z",
     "iopub.status.idle": "2023-01-13T10:42:10.894147Z",
     "shell.execute_reply": "2023-01-13T10:42:10.893550Z"
    },
    "papermill": {
     "duration": 0.639668,
     "end_time": "2023-01-13T10:42:10.897236",
     "exception": false,
     "start_time": "2023-01-13T10:42:10.257568",
     "status": "completed"
    },
    "tags": []
   },
   "outputs": [
    {
     "data": {
      "image/png": "[encoded data removed]",
      "text/plain": [
       "<Figure size 864x360 with 2 Axes>"
      ]
     },
     "metadata": {
      "needs_background": "light"
     },
     "output_type": "display_data"
    }
   ],
   "source": [
    "fig = plt.figure(figsize=[12, 5])\n",
    "ax1 = fig.add_subplot(111)\n",
    "\n",
    "quantile_month_plot(\n",
    "    ds_adjust['af'],\n",
    "    ax1,\n",
    "    'diverging',\n",
    "    levels=plot_config['af_levels'],\n",
    "    title='adjustment factors'\n",
    ")\n",
    "\n",
    "plt.show()"
   ]
  },
  {
   "cell_type": "markdown",
   "id": "ae9170b8",
   "metadata": {
    "papermill": {
     "duration": 0.436398,
     "end_time": "2023-01-13T10:42:11.826908",
     "exception": false,
     "start_time": "2023-01-13T10:42:11.390510",
     "status": "completed"
    },
    "tags": []
   },
   "source": [
    "## QQ-scaled data"
   ]
  },
  {
   "cell_type": "code",
   "execution_count": 33,
   "id": "37c68c98",
   "metadata": {
    "execution": {
     "iopub.execute_input": "2023-01-13T10:42:12.754335Z",
     "iopub.status.busy": "2023-01-13T10:42:12.753919Z",
     "iopub.status.idle": "2023-01-13T10:42:12.761105Z",
     "shell.execute_reply": "2023-01-13T10:42:12.760007Z"
    },
    "papermill": {
     "duration": 0.457294,
     "end_time": "2023-01-13T10:42:12.763086",
     "exception": false,
     "start_time": "2023-01-13T10:42:12.305792",
     "status": "completed"
    },
    "tags": []
   },
   "outputs": [],
   "source": [
    "model_sel = {'lat': slice(lat_min_qq, lat_max_qq), 'lon': slice(lon_min_qq, lon_max_qq)}"
   ]
  },
  {
   "cell_type": "code",
   "execution_count": 34,
   "id": "f241a759",
   "metadata": {
    "execution": {
     "iopub.execute_input": "2023-01-13T10:42:13.735664Z",
     "iopub.status.busy": "2023-01-13T10:42:13.735304Z",
     "iopub.status.idle": "2023-01-13T10:43:19.978228Z",
     "shell.execute_reply": "2023-01-13T10:43:19.959835Z"
    },
    "papermill": {
     "duration": 66.736117,
     "end_time": "2023-01-13T10:43:19.981499",
     "exception": false,
     "start_time": "2023-01-13T10:42:13.245382",
     "status": "completed"
    },
    "tags": []
   },
   "outputs": [],
   "source": [
    "hist_clim = ds_hist[hist_var].mean('time', keep_attrs=True)\n",
    "ref_clim = ds_ref[ref_var].mean('time', keep_attrs=True)\n",
    "target_clim = ds_target[target_var].mean('time', keep_attrs=True)\n",
    "qq_clim = ds_qq[target_var].mean('time', keep_attrs=True)"
   ]
  },
  {
   "cell_type": "code",
   "execution_count": 35,
   "id": "60a591a3",
   "metadata": {
    "execution": {
     "iopub.execute_input": "2023-01-13T10:43:20.935093Z",
     "iopub.status.busy": "2023-01-13T10:43:20.934614Z",
     "iopub.status.idle": "2023-01-13T10:43:41.061313Z",
     "shell.execute_reply": "2023-01-13T10:43:41.060296Z"
    },
    "papermill": {
     "duration": 20.622778,
     "end_time": "2023-01-13T10:43:41.064926",
     "exception": false,
     "start_time": "2023-01-13T10:43:20.442148",
     "status": "completed"
    },
    "tags": []
   },
   "outputs": [
    {
     "name": "stderr",
     "output_type": "stream",
     "text": [
      "/g/data/xv83/dbi599/miniconda3/envs/qqscale/lib/python3.10/site-packages/dask/array/core.py:456: FutureWarning: elementwise comparison failed; returning scalar instead, but in the future will perform elementwise comparison\n",
      "  o = func(*args, **kwargs)\n",
      "/g/data/xv83/dbi599/miniconda3/envs/qqscale/lib/python3.10/site-packages/xarray/core/dataarray.py:780: FutureWarning: elementwise comparison failed; returning scalar instead, but in the future will perform elementwise comparison\n",
      "  return key in self.data\n",
      "/g/data/xv83/dbi599/miniconda3/envs/qqscale/lib/python3.10/site-packages/dask/array/core.py:456: FutureWarning: elementwise comparison failed; returning scalar instead, but in the future will perform elementwise comparison\n",
      "  o = func(*args, **kwargs)\n",
      "/g/data/xv83/dbi599/miniconda3/envs/qqscale/lib/python3.10/site-packages/xarray/core/dataarray.py:780: FutureWarning: elementwise comparison failed; returning scalar instead, but in the future will perform elementwise comparison\n",
      "  return key in self.data\n"
     ]
    }
   ],
   "source": [
    "if len(hist_clim['lat']) != len(qq_clim['lat']):\n",
    "    regridder = xe.Regridder(hist_clim, qq_clim, \"bilinear\")\n",
    "    hist_clim = regridder(hist_clim)\n",
    "\n",
    "if len(ref_clim['lat']) != len(qq_clim['lat']):\n",
    "    regridder = xe.Regridder(ref_clim, qq_clim, \"bilinear\")\n",
    "    ref_clim = regridder(ref_clim)\n",
    "    \n",
    "if len(target_clim['lat']) != len(qq_clim['lat']):\n",
    "    regridder = xe.Regridder(target_clim, qq_clim, \"bilinear\")\n",
    "    target_clim = regridder(target_clim)"
   ]
  },
  {
   "cell_type": "code",
   "execution_count": 36,
   "id": "9de09728",
   "metadata": {
    "execution": {
     "iopub.execute_input": "2023-01-13T10:43:42.018890Z",
     "iopub.status.busy": "2023-01-13T10:43:42.018303Z",
     "iopub.status.idle": "2023-01-13T10:44:06.762965Z",
     "shell.execute_reply": "2023-01-13T10:44:06.761831Z"
    },
    "papermill": {
     "duration": 25.192977,
     "end_time": "2023-01-13T10:44:06.766063",
     "exception": false,
     "start_time": "2023-01-13T10:43:41.573086",
     "status": "completed"
    },
    "tags": []
   },
   "outputs": [
    {
     "name": "stdout",
     "output_type": "stream",
     "text": [
      "[########################################] | 100% Completed | 15.1s\n"
     ]
    }
   ],
   "source": [
    "hist_ref_mean_diff = ref_clim - hist_clim\n",
    "hist_ref_mean_diff = hist_ref_mean_diff.compute()"
   ]
  },
  {
   "cell_type": "code",
   "execution_count": 37,
   "id": "40dc7af6",
   "metadata": {
    "execution": {
     "iopub.execute_input": "2023-01-13T10:44:07.764070Z",
     "iopub.status.busy": "2023-01-13T10:44:07.763596Z",
     "iopub.status.idle": "2023-01-13T10:45:55.073915Z",
     "shell.execute_reply": "2023-01-13T10:45:55.073251Z"
    },
    "papermill": {
     "duration": 107.80649,
     "end_time": "2023-01-13T10:45:55.076657",
     "exception": false,
     "start_time": "2023-01-13T10:44:07.270167",
     "status": "completed"
    },
    "tags": []
   },
   "outputs": [
    {
     "name": "stdout",
     "output_type": "stream",
     "text": [
      "[########################################] | 100% Completed |  1min 40.0s\n"
     ]
    }
   ],
   "source": [
    "qq_mean_change = qq_clim - target_clim\n",
    "qq_mean_change = qq_mean_change.compute()"
   ]
  },
  {
   "cell_type": "code",
   "execution_count": 38,
   "id": "9cc3b343",
   "metadata": {
    "execution": {
     "iopub.execute_input": "2023-01-13T10:45:56.145478Z",
     "iopub.status.busy": "2023-01-13T10:45:56.145110Z",
     "iopub.status.idle": "2023-01-13T10:45:56.153073Z",
     "shell.execute_reply": "2023-01-13T10:45:56.152145Z"
    },
    "papermill": {
     "duration": 0.542552,
     "end_time": "2023-01-13T10:45:56.154677",
     "exception": false,
     "start_time": "2023-01-13T10:45:55.612125",
     "status": "completed"
    },
    "tags": []
   },
   "outputs": [],
   "source": [
    "difference = qq_mean_change - hist_ref_mean_diff"
   ]
  },
  {
   "cell_type": "code",
   "execution_count": 39,
   "id": "5e5ede18",
   "metadata": {
    "execution": {
     "iopub.execute_input": "2023-01-13T10:45:57.172639Z",
     "iopub.status.busy": "2023-01-13T10:45:57.172176Z",
     "iopub.status.idle": "2023-01-13T10:45:59.485297Z",
     "shell.execute_reply": "2023-01-13T10:45:59.484691Z"
    },
    "papermill": {
     "duration": 2.835835,
     "end_time": "2023-01-13T10:45:59.490480",
     "exception": false,
     "start_time": "2023-01-13T10:45:56.654645",
     "status": "completed"
    },
    "tags": []
   },
   "outputs": [
    {
     "data": {
      "image/png": "[encoded data removed]",
      "text/plain": [
       "<Figure size 1728x432 with 6 Axes>"
      ]
     },
     "metadata": {
      "needs_background": "light"
     },
     "output_type": "display_data"
    }
   ],
   "source": [
    "fig = plt.figure(figsize=[24, 6])\n",
    "\n",
    "ax1 = fig.add_subplot(131, projection=ccrs.PlateCarree())\n",
    "hist_ref_mean_diff.plot(\n",
    "    ax=ax1,\n",
    "    transform=ccrs.PlateCarree(),\n",
    "    cmap='hot_r',\n",
    "    levels=plot_config['difference_levels'],\n",
    "    extend='both'\n",
    ")\n",
    "ax1.set_title('ref - hist')\n",
    "\n",
    "ax2 = fig.add_subplot(132, projection=ccrs.PlateCarree())\n",
    "qq_mean_change.plot(\n",
    "    ax=ax2,\n",
    "    transform=ccrs.PlateCarree(),\n",
    "    cmap='hot_r',\n",
    "    levels=plot_config['difference_levels'],\n",
    "    extend='both'\n",
    ")\n",
    "ax2.set_title('QQ-scaled - original')\n",
    "\n",
    "ax3 = fig.add_subplot(133, projection=ccrs.PlateCarree())\n",
    "difference.plot(\n",
    "    ax=ax3,\n",
    "    transform=ccrs.PlateCarree(),\n",
    "    cmap=plot_config['diverging_cmap'],\n",
    "    levels=[-0.05, -0.04, -0.03, -0.02, -0.01, 0, 0.01, 0.02, 0.03, 0.04, 0.05],\n",
    "    extend='both'\n",
    ")\n",
    "ax3.set_title('Difference')\n",
    "\n",
    "for ax in [ax1, ax2, ax3]:\n",
    "    ax.coastlines()\n",
    "    ax.plot(example_lon, example_lat, 'go', zorder=5, transform=ccrs.PlateCarree())\n",
    "xmin, xmax = ax3.get_xlim()\n",
    "ymin, ymax = ax3.get_ylim()\n",
    "ax1.set_extent([xmin, xmax, ymin, ymax], crs=ccrs.PlateCarree())\n",
    "ax2.set_extent([xmin, xmax, ymin, ymax], crs=ccrs.PlateCarree())\n",
    "\n",
    "plt.show()"
   ]
  },
  {
   "cell_type": "code",
   "execution_count": 40,
   "id": "b14f241a",
   "metadata": {
    "execution": {
     "iopub.execute_input": "2023-01-13T10:46:00.505351Z",
     "iopub.status.busy": "2023-01-13T10:46:00.505037Z",
     "iopub.status.idle": "2023-01-13T10:46:18.459536Z",
     "shell.execute_reply": "2023-01-13T10:46:18.458935Z"
    },
    "papermill": {
     "duration": 18.442428,
     "end_time": "2023-01-13T10:46:18.465673",
     "exception": false,
     "start_time": "2023-01-13T10:46:00.023245",
     "status": "completed"
    },
    "tags": []
   },
   "outputs": [
    {
     "name": "stdout",
     "output_type": "stream",
     "text": [
      "[########################################] | 100% Completed |  6.6s\n",
      "[########################################] | 100% Completed |  9.5s\n",
      "[########################################] | 100% Completed |  0.6s\n"
     ]
    },
    {
     "data": {
      "image/png": "[encoded data removed]",
      "text/plain": [
       "<Figure size 1008x504 with 1 Axes>"
      ]
     },
     "metadata": {
      "needs_background": "light"
     },
     "output_type": "display_data"
    }
   ],
   "source": [
    "fig, ax = plt.subplots(figsize=[14, 7])\n",
    "da_hist.groupby(\"time.dayofyear\").mean().plot(label=\"historical\", color='tab:orange', linestyle=':')\n",
    "da_ref.groupby(\"time.dayofyear\").mean().plot(label=\"reference\", color='tab:orange')\n",
    "da_target.groupby(\"time.dayofyear\").mean().plot(label=\"original\", color='tab:red', linestyle=':')\n",
    "da_qq.groupby(\"time.dayofyear\").mean().plot(label=\"QQ-scaled\", color='tab:red')\n",
    "plt.legend()\n",
    "plt.title('Daily climatology')\n",
    "plt.show()"
   ]
  },
  {
   "cell_type": "code",
   "execution_count": 41,
   "id": "24f4d338",
   "metadata": {
    "execution": {
     "iopub.execute_input": "2023-01-13T10:46:19.522136Z",
     "iopub.status.busy": "2023-01-13T10:46:19.521646Z",
     "iopub.status.idle": "2023-01-13T10:46:20.074101Z",
     "shell.execute_reply": "2023-01-13T10:46:20.073554Z"
    },
    "papermill": {
     "duration": 1.078114,
     "end_time": "2023-01-13T10:46:20.077335",
     "exception": false,
     "start_time": "2023-01-13T10:46:18.999221",
     "status": "completed"
    },
    "tags": []
   },
   "outputs": [
    {
     "name": "stdout",
     "output_type": "stream",
     "text": [
      "[########################################] | 100% Completed |  0.1s\n"
     ]
    },
    {
     "data": {
      "image/png": "[encoded data removed]",
      "text/plain": [
       "<Figure size 720x432 with 1 Axes>"
      ]
     },
     "metadata": {
      "needs_background": "light"
     },
     "output_type": "display_data"
    }
   ],
   "source": [
    "fig = plt.figure(figsize=[10, 6])\n",
    "\n",
    "bins = np.arange(0, 150, 1)\n",
    "    \n",
    "da_target.plot.hist(\n",
    "    bins=bins,\n",
    "    density=True,\n",
    "    label='observations',\n",
    "    facecolor='tab:blue',\n",
    "    alpha=0.5,\n",
    "    rwidth=0.9,\n",
    ")\n",
    "da_qq.plot.hist(\n",
    "    bins=bins,\n",
    "    density=True,\n",
    "    label='QQ-scaled data',\n",
    "    facecolor='tab:orange',\n",
    "    alpha=0.5,\n",
    "    rwidth=0.9,\n",
    ")\n",
    "plt.ylabel('probability')\n",
    "#plt.ylim(0, 0.005)\n",
    "plt.xlim(-1, 22)\n",
    "plt.legend()\n",
    "plt.show()"
   ]
  },
  {
   "cell_type": "code",
   "execution_count": 42,
   "id": "37960a0c",
   "metadata": {},
   "outputs": [
    {
     "name": "stdout",
     "output_type": "stream",
     "text": [
      "[########################################] | 100% Completed |  0.1s\n"
     ]
    }
   ],
   "source": [
    "df_target = da_target.to_dataframe().drop(['lat', 'lon'], axis=1).reset_index()"
   ]
  },
  {
   "cell_type": "code",
   "execution_count": 43,
   "id": "76b1cb21",
   "metadata": {},
   "outputs": [],
   "source": [
    "df_qq = da_qq.to_dataframe().drop(['lat', 'lon'], axis=1).reset_index()"
   ]
  },
  {
   "cell_type": "code",
   "execution_count": 44,
   "id": "82c8ab73",
   "metadata": {},
   "outputs": [
    {
     "data": {
      "text/html": [
       "<div>\n",
       "<style scoped>\n",
       "    .dataframe tbody tr th:only-of-type {\n",
       "        vertical-align: middle;\n",
       "    }\n",
       "\n",
       "    .dataframe tbody tr th {\n",
       "        vertical-align: top;\n",
       "    }\n",
       "\n",
       "    .dataframe thead th {\n",
       "        text-align: right;\n",
       "    }\n",
       "</style>\n",
       "<table border=\"1\" class=\"dataframe\">\n",
       "  <thead>\n",
       "    <tr style=\"text-align: right;\">\n",
       "      <th></th>\n",
       "      <th>time</th>\n",
       "      <th>orig_tmin</th>\n",
       "      <th>new_tmin</th>\n",
       "      <th>af</th>\n",
       "      <th>month</th>\n",
       "    </tr>\n",
       "  </thead>\n",
       "  <tbody>\n",
       "    <tr>\n",
       "      <th>0</th>\n",
       "      <td>1990-01-01 09:00:00</td>\n",
       "      <td>14.251953</td>\n",
       "      <td>15.525239</td>\n",
       "      <td>1.273286</td>\n",
       "      <td>1</td>\n",
       "    </tr>\n",
       "    <tr>\n",
       "      <th>1</th>\n",
       "      <td>1990-01-02 09:00:00</td>\n",
       "      <td>8.171875</td>\n",
       "      <td>9.235078</td>\n",
       "      <td>1.063203</td>\n",
       "      <td>1</td>\n",
       "    </tr>\n",
       "    <tr>\n",
       "      <th>2</th>\n",
       "      <td>1990-01-03 09:00:00</td>\n",
       "      <td>13.982422</td>\n",
       "      <td>15.276286</td>\n",
       "      <td>1.293864</td>\n",
       "      <td>1</td>\n",
       "    </tr>\n",
       "    <tr>\n",
       "      <th>3</th>\n",
       "      <td>1990-01-04 09:00:00</td>\n",
       "      <td>9.332031</td>\n",
       "      <td>10.482450</td>\n",
       "      <td>1.150419</td>\n",
       "      <td>1</td>\n",
       "    </tr>\n",
       "    <tr>\n",
       "      <th>4</th>\n",
       "      <td>1990-01-05 09:00:00</td>\n",
       "      <td>6.551758</td>\n",
       "      <td>7.625135</td>\n",
       "      <td>1.073377</td>\n",
       "      <td>1</td>\n",
       "    </tr>\n",
       "    <tr>\n",
       "      <th>...</th>\n",
       "      <td>...</td>\n",
       "      <td>...</td>\n",
       "      <td>...</td>\n",
       "      <td>...</td>\n",
       "      <td>...</td>\n",
       "    </tr>\n",
       "    <tr>\n",
       "      <th>10952</th>\n",
       "      <td>2019-12-27 09:00:00</td>\n",
       "      <td>8.306641</td>\n",
       "      <td>9.429399</td>\n",
       "      <td>1.122759</td>\n",
       "      <td>12</td>\n",
       "    </tr>\n",
       "    <tr>\n",
       "      <th>10953</th>\n",
       "      <td>2019-12-28 09:00:00</td>\n",
       "      <td>12.636719</td>\n",
       "      <td>13.728516</td>\n",
       "      <td>1.091797</td>\n",
       "      <td>12</td>\n",
       "    </tr>\n",
       "    <tr>\n",
       "      <th>10954</th>\n",
       "      <td>2019-12-29 09:00:00</td>\n",
       "      <td>10.726562</td>\n",
       "      <td>11.905833</td>\n",
       "      <td>1.179271</td>\n",
       "      <td>12</td>\n",
       "    </tr>\n",
       "    <tr>\n",
       "      <th>10955</th>\n",
       "      <td>2019-12-30 09:00:00</td>\n",
       "      <td>12.976562</td>\n",
       "      <td>14.104219</td>\n",
       "      <td>1.127657</td>\n",
       "      <td>12</td>\n",
       "    </tr>\n",
       "    <tr>\n",
       "      <th>10956</th>\n",
       "      <td>2019-12-31 09:00:00</td>\n",
       "      <td>11.176758</td>\n",
       "      <td>12.336280</td>\n",
       "      <td>1.159522</td>\n",
       "      <td>12</td>\n",
       "    </tr>\n",
       "  </tbody>\n",
       "</table>\n",
       "<p>10957 rows × 5 columns</p>\n",
       "</div>"
      ],
      "text/plain": [
       "                     time  orig_tmin   new_tmin        af  month\n",
       "0     1990-01-01 09:00:00  14.251953  15.525239  1.273286      1\n",
       "1     1990-01-02 09:00:00   8.171875   9.235078  1.063203      1\n",
       "2     1990-01-03 09:00:00  13.982422  15.276286  1.293864      1\n",
       "3     1990-01-04 09:00:00   9.332031  10.482450  1.150419      1\n",
       "4     1990-01-05 09:00:00   6.551758   7.625135  1.073377      1\n",
       "...                   ...        ...        ...       ...    ...\n",
       "10952 2019-12-27 09:00:00   8.306641   9.429399  1.122759     12\n",
       "10953 2019-12-28 09:00:00  12.636719  13.728516  1.091797     12\n",
       "10954 2019-12-29 09:00:00  10.726562  11.905833  1.179271     12\n",
       "10955 2019-12-30 09:00:00  12.976562  14.104219  1.127657     12\n",
       "10956 2019-12-31 09:00:00  11.176758  12.336280  1.159522     12\n",
       "\n",
       "[10957 rows x 5 columns]"
      ]
     },
     "execution_count": 44,
     "metadata": {},
     "output_type": "execute_result"
    }
   ],
   "source": [
    "df = df_target.copy()\n",
    "df = df.rename(columns={target_var: f'orig_{target_var}'})\n",
    "df[f'new_{target_var}'] = df_qq[target_var]\n",
    "df['af'] = df[f'new_{target_var}'] - df[f'orig_{target_var}']\n",
    "df['month'] = df['time'].dt.month.values\n",
    "df"
   ]
  },
  {
   "cell_type": "code",
   "execution_count": 45,
   "id": "019524f2",
   "metadata": {},
   "outputs": [
    {
     "data": {
      "text/html": [
       "<div>\n",
       "<style scoped>\n",
       "    .dataframe tbody tr th:only-of-type {\n",
       "        vertical-align: middle;\n",
       "    }\n",
       "\n",
       "    .dataframe tbody tr th {\n",
       "        vertical-align: top;\n",
       "    }\n",
       "\n",
       "    .dataframe thead th {\n",
       "        text-align: right;\n",
       "    }\n",
       "</style>\n",
       "<table border=\"1\" class=\"dataframe\">\n",
       "  <thead>\n",
       "    <tr style=\"text-align: right;\">\n",
       "      <th></th>\n",
       "      <th>time</th>\n",
       "      <th>orig_tmin</th>\n",
       "      <th>new_tmin</th>\n",
       "      <th>af</th>\n",
       "      <th>month</th>\n",
       "    </tr>\n",
       "  </thead>\n",
       "  <tbody>\n",
       "    <tr>\n",
       "      <th>5603</th>\n",
       "      <td>2005-05-05 09:00:00</td>\n",
       "      <td>14.577148</td>\n",
       "      <td>16.381645</td>\n",
       "      <td>1.804497</td>\n",
       "      <td>5</td>\n",
       "    </tr>\n",
       "    <tr>\n",
       "      <th>5602</th>\n",
       "      <td>2005-05-04 09:00:00</td>\n",
       "      <td>14.317383</td>\n",
       "      <td>16.104649</td>\n",
       "      <td>1.787266</td>\n",
       "      <td>5</td>\n",
       "    </tr>\n",
       "    <tr>\n",
       "      <th>4511</th>\n",
       "      <td>2002-05-09 09:00:00</td>\n",
       "      <td>13.126953</td>\n",
       "      <td>15.000375</td>\n",
       "      <td>1.873422</td>\n",
       "      <td>5</td>\n",
       "    </tr>\n",
       "    <tr>\n",
       "      <th>2678</th>\n",
       "      <td>1997-05-02 09:00:00</td>\n",
       "      <td>13.107422</td>\n",
       "      <td>14.752027</td>\n",
       "      <td>1.644605</td>\n",
       "      <td>5</td>\n",
       "    </tr>\n",
       "    <tr>\n",
       "      <th>6703</th>\n",
       "      <td>2008-05-09 09:00:00</td>\n",
       "      <td>12.697266</td>\n",
       "      <td>14.521023</td>\n",
       "      <td>1.823757</td>\n",
       "      <td>5</td>\n",
       "    </tr>\n",
       "    <tr>\n",
       "      <th>...</th>\n",
       "      <td>...</td>\n",
       "      <td>...</td>\n",
       "      <td>...</td>\n",
       "      <td>...</td>\n",
       "      <td>...</td>\n",
       "    </tr>\n",
       "    <tr>\n",
       "      <th>4160</th>\n",
       "      <td>2001-05-23 09:00:00</td>\n",
       "      <td>0.607422</td>\n",
       "      <td>0.828640</td>\n",
       "      <td>0.221218</td>\n",
       "      <td>5</td>\n",
       "    </tr>\n",
       "    <tr>\n",
       "      <th>1589</th>\n",
       "      <td>1994-05-09 09:00:00</td>\n",
       "      <td>0.306641</td>\n",
       "      <td>0.446108</td>\n",
       "      <td>0.139467</td>\n",
       "      <td>5</td>\n",
       "    </tr>\n",
       "    <tr>\n",
       "      <th>135</th>\n",
       "      <td>1990-05-16 09:00:00</td>\n",
       "      <td>-0.023438</td>\n",
       "      <td>0.048950</td>\n",
       "      <td>0.072387</td>\n",
       "      <td>5</td>\n",
       "    </tr>\n",
       "    <tr>\n",
       "      <th>7447</th>\n",
       "      <td>2010-05-23 09:00:00</td>\n",
       "      <td>-0.083008</td>\n",
       "      <td>0.103187</td>\n",
       "      <td>0.186195</td>\n",
       "      <td>5</td>\n",
       "    </tr>\n",
       "    <tr>\n",
       "      <th>6716</th>\n",
       "      <td>2008-05-22 09:00:00</td>\n",
       "      <td>-0.733398</td>\n",
       "      <td>-0.563462</td>\n",
       "      <td>0.169937</td>\n",
       "      <td>5</td>\n",
       "    </tr>\n",
       "  </tbody>\n",
       "</table>\n",
       "<p>930 rows × 5 columns</p>\n",
       "</div>"
      ],
      "text/plain": [
       "                    time  orig_tmin   new_tmin        af  month\n",
       "5603 2005-05-05 09:00:00  14.577148  16.381645  1.804497      5\n",
       "5602 2005-05-04 09:00:00  14.317383  16.104649  1.787266      5\n",
       "4511 2002-05-09 09:00:00  13.126953  15.000375  1.873422      5\n",
       "2678 1997-05-02 09:00:00  13.107422  14.752027  1.644605      5\n",
       "6703 2008-05-09 09:00:00  12.697266  14.521023  1.823757      5\n",
       "...                  ...        ...        ...       ...    ...\n",
       "4160 2001-05-23 09:00:00   0.607422   0.828640  0.221218      5\n",
       "1589 1994-05-09 09:00:00   0.306641   0.446108  0.139467      5\n",
       "135  1990-05-16 09:00:00  -0.023438   0.048950  0.072387      5\n",
       "7447 2010-05-23 09:00:00  -0.083008   0.103187  0.186195      5\n",
       "6716 2008-05-22 09:00:00  -0.733398  -0.563462  0.169937      5\n",
       "\n",
       "[930 rows x 5 columns]"
      ]
     },
     "execution_count": 45,
     "metadata": {},
     "output_type": "execute_result"
    }
   ],
   "source": [
    "month_df = df[df['month'] == example_month].sort_values(f'orig_{target_var}', ascending=False)\n",
    "month_df"
   ]
  },
  {
   "cell_type": "code",
   "execution_count": 49,
   "id": "1ac3512f",
   "metadata": {},
   "outputs": [],
   "source": [
    "month_df['af'] = month_df['af'].round(4)"
   ]
  },
  {
   "cell_type": "code",
   "execution_count": 50,
   "id": "1edf3c2c",
   "metadata": {},
   "outputs": [
    {
     "data": {
      "text/plain": [
       "1.0754    3\n",
       "1.0513    3\n",
       "1.0661    3\n",
       "1.0444    3\n",
       "1.0490    3\n",
       "         ..\n",
       "1.1005    1\n",
       "1.1181    1\n",
       "1.1277    1\n",
       "1.0997    1\n",
       "0.1699    1\n",
       "Name: af, Length: 825, dtype: int64"
      ]
     },
     "execution_count": 50,
     "metadata": {},
     "output_type": "execute_result"
    }
   ],
   "source": [
    "counts = month_df['af'].value_counts()\n",
    "counts"
   ]
  },
  {
   "cell_type": "code",
   "execution_count": null,
   "id": "d228b786",
   "metadata": {},
   "outputs": [],
   "source": []
  }
 ],
 "metadata": {
  "celltoolbar": "Tags",
  "kernelspec": {
   "display_name": "Python 3 (ipykernel)",
   "language": "python",
   "name": "python3"
  },
  "language_info": {
   "codemirror_mode": {
    "name": "ipython",
    "version": 3
   },
   "file_extension": ".py",
   "mimetype": "text/x-python",
   "name": "python",
   "nbconvert_exporter": "python",
   "pygments_lexer": "ipython3",
   "version": "3.10.4"
  },
  "papermill": {
   "default_parameters": {},
   "duration": 3598.597566,
   "end_time": "2023-01-13T10:46:23.617396",
   "environment_variables": {},
   "exception": null,
   "input_path": "/g/data/wp00/shared_code/qqscale/example_validation/validation.ipynb",
   "output_path": "/g/data/wp00/shared_code/qqscale/example_validation/tasmin-qdc-additive-monthly-infileq_day_AGCD-ACCESS-ESM1-5_ssp370_r1i1p1f1_20350101-20641231.ipynb",
   "parameters": {
    "adjustment_file": "/g/data/wp00/users/dbi599/test_space/tasmin-qdc-adjustment-factors-additive-monthly_day_ACCESS-ESM1-5_historical-ssp370_r1i1p1f1_19950101-20141231_20350101-20641231.nc",
    "example_lat": -42.9,
    "example_lon": 147.3,
    "example_month": 5,
    "hist_files": "/g/data/fs38/publications/CMIP6/CMIP/CSIRO/ACCESS-ESM1-5/historical/r1i1p1f1/day/tasmin/gn/latest/tasmin_day_ACCESS-ESM1-5_historical_r1i1p1f1_gn_19500101-19991231.nc /g/data/fs38/publications/CMIP6/CMIP/CSIRO/ACCESS-ESM1-5/historical/r1i1p1f1/day/tasmin/gn/latest/tasmin_day_ACCESS-ESM1-5_historical_r1i1p1f1_gn_20000101-20141231.nc",
    "hist_time_bounds": "1995-01-01 2014-12-31",
    "hist_units": "K",
    "hist_var": "tasmin",
    "output_units": "C",
    "qq_file": "/g/data/wp00/users/dbi599/test_space/tasmin-qdc-additive-monthly-infileq_day_AGCD-ACCESS-ESM1-5_ssp370_r1i1p1f1_20350101-20641231.nc",
    "ref_files": "/g/data/fs38/publications/CMIP6/ScenarioMIP/CSIRO/ACCESS-ESM1-5/ssp370/r1i1p1f1/day/tasmin/gn/latest/tasmin_day_ACCESS-ESM1-5_ssp370_r1i1p1f1_gn_20150101-20641231.nc /g/data/fs38/publications/CMIP6/ScenarioMIP/CSIRO/ACCESS-ESM1-5/ssp370/r1i1p1f1/day/tasmin/gn/latest/tasmin_day_ACCESS-ESM1-5_ssp370_r1i1p1f1_gn_20650101-21001231.nc",
    "ref_time_bounds": "2035-01-01 2064-12-31",
    "ref_units": "K",
    "ref_var": "tasmin",
    "target_files": "/g/data/xv83/agcd-csiro/tmin/daily/tmin_AGCD-CSIRO_r005_19100101-20220405_daily_space-chunked.zarr",
    "target_time_bounds": "1990-01-01 2019-12-31",
    "target_units": "C",
    "target_var": "tmin"
   },
   "start_time": "2023-01-13T09:46:25.019830",
   "version": "2.3.4"
  }
 },
 "nbformat": 4,
 "nbformat_minor": 5
}
