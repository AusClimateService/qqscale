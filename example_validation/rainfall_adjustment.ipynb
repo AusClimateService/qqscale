{
 "cells": [
  {
   "cell_type": "code",
   "execution_count": 5,
   "id": "13b7df12",
   "metadata": {},
   "outputs": [],
   "source": [
    "import xarray as xr\n",
    "import xclim as xc\n",
    "from clisops.core.subset import subset_bbox"
   ]
  },
  {
   "cell_type": "code",
   "execution_count": 2,
   "id": "e98f9f56",
   "metadata": {},
   "outputs": [],
   "source": [
    "hist_files = [\n",
    "    '/g/data/fs38/publications/CMIP6/CMIP/CSIRO/ACCESS-ESM1-5/historical/r1i1p1f1/day/pr/gn/latest/pr_day_ACCESS-ESM1-5_historical_r1i1p1f1_gn_19500101-19991231.nc',\n",
    "    '/g/data/fs38/publications/CMIP6/CMIP/CSIRO/ACCESS-ESM1-5/historical/r1i1p1f1/day/pr/gn/latest/pr_day_ACCESS-ESM1-5_historical_r1i1p1f1_gn_20000101-20141231.nc',\n",
    "]\n",
    "\n",
    "future_files = [\n",
    "    '/g/data/fs38/publications/CMIP6/ScenarioMIP/CSIRO/ACCESS-ESM1-5/ssp370/r1i1p1f1/day/pr/gn/latest/pr_day_ACCESS-ESM1-5_ssp370_r1i1p1f1_gn_20150101-20641231.nc',\n",
    "    '/g/data/fs38/publications/CMIP6/ScenarioMIP/CSIRO/ACCESS-ESM1-5/ssp370/r1i1p1f1/day/pr/gn/latest/pr_day_ACCESS-ESM1-5_ssp370_r1i1p1f1_gn_20650101-21001231.nc',   \n",
    "]"
   ]
  },
  {
   "cell_type": "code",
   "execution_count": 3,
   "id": "057afb43",
   "metadata": {},
   "outputs": [],
   "source": [
    "ds_hist = xr.open_mfdataset(hist_files)\n",
    "ds_hist = subset_bbox(ds_hist, start_date='1995-01-01', end_date='2014-12-31')\n",
    "ds_hist['pr'] = xc.units.convert_units_to(ds_hist['pr'], 'mm d-1')"
   ]
  },
  {
   "cell_type": "code",
   "execution_count": 10,
   "id": "4abb143c",
   "metadata": {},
   "outputs": [],
   "source": [
    "ds_future = xr.open_mfdataset(future_files)\n",
    "ds_future = subset_bbox(ds_future, start_date='2035-01-01', end_date='2064-12-31')\n",
    "ds_future['pr'] = xc.units.convert_units_to(ds_future['pr'], 'mm d-1')"
   ]
  },
  {
   "cell_type": "code",
   "execution_count": null,
   "id": "c2929b9d",
   "metadata": {},
   "outputs": [],
   "source": [
    "qm = sdba.EmpiricalQuantileMapping.train(\n",
    "    ds_future['pr'],\n",
    "    ds_hist['pr'],\n",
    "    nquantiles=100,\n",
    "    group=\"time.month\",\n",
    "    kind='*',\n",
    ")    "
   ]
  },
  {
   "cell_type": "markdown",
   "id": "05ae6cc4",
   "metadata": {},
   "source": [
    "To reduce the risk of sharp change in the adjustment at the interface of the months, interp='linear' can be passed to adjust and the adjustment factors will be interpolated linearly. Ex: the factors for the 1st of May will be the average of those for april and those for may.\n",
    "\n",
    "```python\n",
    "scen = QM_mo.adjust(sim, extrapolation=\"constant\", interp=\"linear\")\n",
    "```"
   ]
  },
  {
   "cell_type": "markdown",
   "id": "e78ead6a",
   "metadata": {},
   "source": [
    "See https://xclim.readthedocs.io/en/stable/notebooks/sdba.html#First-example-:-pr-and-frequency-adaptation\n",
    "\n",
    "```python\n",
    "sim_ad, pth, dP0 = sdba.processing.adapt_freq(\n",
    "    pr_ref, pr_sim, thresh=\"0.05 mm d-1\", group=\"time\"\n",
    ")\n",
    "```"
   ]
  },
  {
   "cell_type": "code",
   "execution_count": null,
   "id": "f8be5208",
   "metadata": {},
   "outputs": [],
   "source": [
    "qm.ds = qm.ds.assign_coords({'lat': ds_future['lat'], 'lon': ds_future['lon']}) #xclim strips lat/lon attributes\n",
    "qm.ds = qm.ds.transpose('quantiles', 'month', 'lat', 'lon')"
   ]
  }
 ],
 "metadata": {
  "kernelspec": {
   "display_name": "Python 3 (ipykernel)",
   "language": "python",
   "name": "python3"
  },
  "language_info": {
   "codemirror_mode": {
    "name": "ipython",
    "version": 3
   },
   "file_extension": ".py",
   "mimetype": "text/x-python",
   "name": "python",
   "nbconvert_exporter": "python",
   "pygments_lexer": "ipython3",
   "version": "3.10.6"
  }
 },
 "nbformat": 4,
 "nbformat_minor": 5
}
