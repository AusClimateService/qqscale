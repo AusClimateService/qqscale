{
 "cells": [
  {
   "cell_type": "markdown",
   "id": "2347be21",
   "metadata": {
    "papermill": {
     "duration": 0.00658,
     "end_time": "2023-02-19T22:46:22.947717",
     "exception": false,
     "start_time": "2023-02-19T22:46:22.941137",
     "status": "completed"
    },
    "tags": []
   },
   "source": [
    "# Validation for quantile mapping bias adjustment"
   ]
  },
  {
   "cell_type": "code",
   "execution_count": null,
   "id": "f5776ccc",
   "metadata": {
    "execution": {
     "iopub.execute_input": "2023-02-19T22:46:22.961677Z",
     "iopub.status.busy": "2023-02-19T22:46:22.961204Z",
     "iopub.status.idle": "2023-02-19T22:47:29.010131Z",
     "shell.execute_reply": "2023-02-19T22:47:29.008635Z"
    },
    "papermill": {
     "duration": 66.060331,
     "end_time": "2023-02-19T22:47:29.014337",
     "exception": false,
     "start_time": "2023-02-19T22:46:22.954006",
     "status": "completed"
    },
    "tags": []
   },
   "outputs": [],
   "source": [
    "import sys\n",
    "import calendar\n",
    "import glob\n",
    "\n",
    "import xarray as xr\n",
    "import dask.diagnostics\n",
    "import matplotlib.pyplot as plt\n",
    "import numpy as np\n",
    "import cartopy.crs as ccrs\n",
    "import cmocean\n",
    "import pandas as pd\n",
    "\n",
    "sys.path.append('/g/data/wp00/shared_code/qqscale')\n",
    "import utils"
   ]
  },
  {
   "cell_type": "code",
   "execution_count": null,
   "id": "08611a0f",
   "metadata": {
    "execution": {
     "iopub.execute_input": "2023-02-19T22:47:29.029146Z",
     "iopub.status.busy": "2023-02-19T22:47:29.028739Z",
     "iopub.status.idle": "2023-02-19T22:47:29.035170Z",
     "shell.execute_reply": "2023-02-19T22:47:29.034124Z"
    },
    "papermill": {
     "duration": 0.017158,
     "end_time": "2023-02-19T22:47:29.038233",
     "exception": false,
     "start_time": "2023-02-19T22:47:29.021075",
     "status": "completed"
    },
    "tags": []
   },
   "outputs": [],
   "source": [
    "dask.diagnostics.ProgressBar().register()"
   ]
  },
  {
   "cell_type": "code",
   "execution_count": null,
   "id": "545872f1",
   "metadata": {
    "execution": {
     "iopub.execute_input": "2023-02-19T22:47:29.051520Z",
     "iopub.status.busy": "2023-02-19T22:47:29.051124Z",
     "iopub.status.idle": "2023-02-19T22:47:29.057264Z",
     "shell.execute_reply": "2023-02-19T22:47:29.056084Z"
    },
    "papermill": {
     "duration": 0.016501,
     "end_time": "2023-02-19T22:47:29.060399",
     "exception": false,
     "start_time": "2023-02-19T22:47:29.043898",
     "status": "completed"
    },
    "tags": [
     "parameters"
    ]
   },
   "outputs": [],
   "source": [
    "# Parameters\n",
    "example_lat = -42.9\n",
    "example_lon = 147.3\n",
    "example_month = 6"
   ]
  },
  {
   "cell_type": "code",
   "execution_count": null,
   "id": "7780357e",
   "metadata": {
    "execution": {
     "iopub.execute_input": "2023-02-19T22:47:29.104895Z",
     "iopub.status.busy": "2023-02-19T22:47:29.104543Z",
     "iopub.status.idle": "2023-02-19T22:47:29.117260Z",
     "shell.execute_reply": "2023-02-19T22:47:29.116235Z"
    },
    "papermill": {
     "duration": 0.02291,
     "end_time": "2023-02-19T22:47:29.120331",
     "exception": false,
     "start_time": "2023-02-19T22:47:29.097421",
     "status": "completed"
    },
    "tags": []
   },
   "outputs": [],
   "source": [
    "# Required parameters\n",
    "assert 'hist_var' in locals(), \"Must provide an historical variable name (option -p hist_var {name})\"\n",
    "assert 'ref_var' in locals(), \"Must provide a reference variable name (option -p ref_var {name})\"\n",
    "assert 'target_var' in locals(), \"Must provide a target variable name (option -p target_var {name})\"\n",
    "assert 'hist_units' in locals(), \"Must provide historical units (option -p hist_units {units})\"\n",
    "assert 'ref_units' in locals(), \"Must provide reference units (option -p ref_units {units})\"\n",
    "assert 'target_units' in locals(), \"Must provide target units (option -p target_units {units})\"\n",
    "assert 'output_units' in locals(), \"Must provide output units (option -p output_units {units})\"\n",
    "assert 'adjustment_file' in locals(), \"Must provide an adjustment factors file (option -p adjustment_file {file path})\"\n",
    "assert 'hist_files' in locals(), \"\"\"Must provide historical data files (option -p hist_files {\"file paths\"})\"\"\"\n",
    "assert 'ref_files' in locals(), \"\"\"Must provide reference data files (option -p ref_files {\"file paths\"})\"\"\"\n",
    "assert 'target_files' in locals(), \"\"\"Must provide target data files (option -p target_files {\"file paths\"})\"\"\"\n",
    "assert 'target_q_file' in locals(), \"\"\"Must provide target data files (option -p target_files {\"file paths\"})\"\"\"\n",
    "assert 'qq_file' in locals(), \"Must provide an qq-scaled data file (option -p qq_file {file path})\"\n",
    "assert 'hist_time_bounds' in locals(), \"\"\"Must provide time bounds for historical data (option -p hist_time_bounds {\"YYYY-MM-DD YYYY-MM-DD\"})\"\"\"\n",
    "assert 'ref_time_bounds' in locals(), \"\"\"Must provide time bounds for reference data (option -p ref_time_bounds {\"YYYY-MM-DD YYYY-MM-DD\"})\"\"\"\n",
    "assert 'target_time_bounds' in locals(), \"\"\"Must provide time bounds for target data (option -p target_time_bounds {\"YYYY-MM-DD YYYY-MM-DD\"})\"\"\""
   ]
  },
  {
   "cell_type": "code",
   "execution_count": null,
   "id": "aafa01cc",
   "metadata": {},
   "outputs": [],
   "source": [
    "model_units = hist_units\n",
    "obs_units = ref_units\n",
    "model_var = hist_var\n",
    "obs_var = ref_var\n",
    "\n",
    "training_time_bounds = hist_time_bounds.split()\n",
    "assessment_time_bounds = target_time_bounds.split()\n",
    "\n",
    "hist_files = hist_files.split()\n",
    "ref_files = ref_files.split()\n",
    "target_files = target_files.split()"
   ]
  },
  {
   "cell_type": "code",
   "execution_count": null,
   "id": "f9a9531a",
   "metadata": {},
   "outputs": [],
   "source": [
    "point_selection = {'lat': example_lat, 'lon': example_lon}"
   ]
  },
  {
   "cell_type": "code",
   "execution_count": null,
   "id": "56e372df",
   "metadata": {},
   "outputs": [],
   "source": [
    "plot_config = {}\n",
    "if model_var == 'tasmin':\n",
    "    plot_config['regular_cmap'] = cmocean.cm.thermal\n",
    "    plot_config['diverging_cmap'] = 'RdBu_r'\n",
    "    plot_config['general_levels'] = [-4.0, -2.5, -1, 0.5, 2, 3.5, 5, 6.5, 8, 9.5, 11, 12.5, 14, 15.5, 17, 18.5, 20, 21.5, 23, 24.5]\n",
    "    plot_config['af_levels'] = None\n",
    "    plot_config['difference_levels'] = [0.6, 0.8, 1.0, 1.2, 1.4, 1.6, 1.8, 2.0]\n",
    "elif model_var == 'tasmax':\n",
    "    plot_config['regular_cmap'] = cmocean.cm.thermal\n",
    "    plot_config['diverging_cmap'] = 'RdBu_r'\n",
    "    plot_config['general_levels'] = [5, 7.5, 10, 12.5, 15, 17.5, 20, 22.5, 25, 27.5, 30, 32.5, 35]\n",
    "    plot_config['af_levels'] = None\n",
    "    plot_config['difference_levels'] = [0.6, 0.8, 1.0, 1.2, 1.4, 1.6, 1.8, 2.0, 2.2]\n",
    "elif model_var == 'pr':\n",
    "    plot_config['regular_cmap'] = cmocean.cm.rain\n",
    "    plot_config['diverging_cmap'] = 'BrBG'\n",
    "    plot_config['general_levels'] = [0, 0.01, 10, 20, 30, 40, 50, 60, 70, 80, 90]\n",
    "    plot_config['af_levels'] = [0.125, 0.25, 0.5, 0.67, 0.8, 1, 1.25, 1.5, 2, 4, 8]\n",
    "    plot_config['difference_levels'] = [-0.55, -0.45, -0.35, -0.25, -0.15, -0.05, 0.05, 0.15, 0.25, 0.35, 0.45, 0.55]\n",
    "else:\n",
    "    raise ValueError(f'No plotting configuration defined for {hist_var}')"
   ]
  },
  {
   "cell_type": "code",
   "execution_count": null,
   "id": "6f0fad57",
   "metadata": {},
   "outputs": [],
   "source": [
    "ds_model_training = utils.read_data(\n",
    "    hist_files,\n",
    "    model_var,\n",
    "    time_bounds=training_time_bounds,\n",
    "    input_units=model_units,\n",
    "    output_units=output_units,\n",
    ")"
   ]
  },
  {
   "cell_type": "code",
   "execution_count": null,
   "id": "cc3cbf90",
   "metadata": {},
   "outputs": [],
   "source": [
    "da_model_training = ds_model_training[hist_var].sel(point_selection, method='nearest')"
   ]
  },
  {
   "cell_type": "code",
   "execution_count": null,
   "id": "8d71a05b",
   "metadata": {},
   "outputs": [],
   "source": [
    "ds_model_assessment = utils.read_data(\n",
    "    target_files,\n",
    "    model_var,\n",
    "    time_bounds=assessment_time_bounds,\n",
    "    input_units=model_units,\n",
    "    output_units=output_units,\n",
    ")"
   ]
  },
  {
   "cell_type": "code",
   "execution_count": null,
   "id": "9f197065",
   "metadata": {},
   "outputs": [],
   "source": [
    "da_model_assessment = ds_model_assessment[model_var].sel(point_selection, method='nearest')"
   ]
  },
  {
   "cell_type": "code",
   "execution_count": null,
   "id": "50322d6b",
   "metadata": {},
   "outputs": [],
   "source": [
    "ds_obs = utils.read_data(\n",
    "    ref_files,\n",
    "    obs_var,\n",
    "    input_units=obs_units,\n",
    "    output_units=output_units,\n",
    ")"
   ]
  },
  {
   "cell_type": "code",
   "execution_count": null,
   "id": "50eb5a3b",
   "metadata": {},
   "outputs": [],
   "source": [
    "ds_obs_training = ds_obs.sel(time=slice(training_time_bounds[0], training_time_bounds[1]))\n",
    "da_obs_training = ds_obs_training[obs_var].sel(point_selection, method='nearest')"
   ]
  },
  {
   "cell_type": "code",
   "execution_count": null,
   "id": "23260565",
   "metadata": {},
   "outputs": [],
   "source": [
    "ds_obs_assessment = ds_obs.sel(time=slice(assessment_time_bounds[0], assessment_time_bounds[1]))\n",
    "da_obs_assessment = ds_obs_assessment[obs_var].sel(point_selection, method='nearest')"
   ]
  },
  {
   "cell_type": "code",
   "execution_count": null,
   "id": "bbc84ad0",
   "metadata": {},
   "outputs": [],
   "source": [
    "ds_adjust = xr.open_dataset(adjustment_file)"
   ]
  },
  {
   "cell_type": "code",
   "execution_count": null,
   "id": "6f3c2dae",
   "metadata": {},
   "outputs": [],
   "source": [
    "target_q = xr.open_dataset(target_q_file)"
   ]
  },
  {
   "cell_type": "code",
   "execution_count": null,
   "id": "dff99146",
   "metadata": {},
   "outputs": [],
   "source": [
    "ds_bc = xr.open_dataset(qq_file)"
   ]
  },
  {
   "cell_type": "code",
   "execution_count": null,
   "id": "fbf554e5",
   "metadata": {},
   "outputs": [],
   "source": [
    "da_bc = ds_bc[model_var].sel(point_selection, method='nearest')"
   ]
  },
  {
   "cell_type": "code",
   "execution_count": null,
   "id": "967dac90",
   "metadata": {},
   "outputs": [],
   "source": [
    "lat_min_bc = ds_bc['lat'].values.min()\n",
    "lat_max_bc = ds_bc['lat'].values.max()\n",
    "lon_min_bc = ds_bc['lon'].values.min()\n",
    "lon_max_bc = ds_bc['lon'].values.max()"
   ]
  },
  {
   "cell_type": "code",
   "execution_count": null,
   "id": "267585c7",
   "metadata": {},
   "outputs": [],
   "source": [
    "print(lat_min_bc, lat_max_bc, lon_min_bc, lon_max_bc)"
   ]
  },
  {
   "cell_type": "code",
   "execution_count": null,
   "id": "19bf98a6",
   "metadata": {},
   "outputs": [],
   "source": [
    "def quantile_month_plot(da, ax, cmap_type, levels=None, extend='both', point=None, title=None):\n",
    "    \"\"\"Create two dimensional month/quantile plot\"\"\"\n",
    "    \n",
    "    assert cmap_type in ['regular', 'diverging']\n",
    "    \n",
    "    quantiles = da.sel(point_selection, method='nearest')\n",
    "    \n",
    "    cmap = plot_config[f'{cmap_type}_cmap']\n",
    "    kwargs = {}\n",
    "    if levels:\n",
    "        kwargs['levels'] = levels\n",
    "    elif cmap_type == 'diverging':\n",
    "        abs_max = np.max(np.abs(quantiles.values))\n",
    "        vmax = abs_max\n",
    "        vmin = -1 * abs_max\n",
    "        kwargs['vmax'] = vmax\n",
    "        kwargs['vmin'] = vmin\n",
    "    \n",
    "    quantiles.transpose('month', 'quantiles').plot(ax=ax, cmap=cmap, extend=extend, **kwargs)\n",
    "    \n",
    "    yticks = np.arange(1,13)\n",
    "    ytick_labels = [calendar.month_abbr[i] for i in yticks]\n",
    "    ax.set_yticks(yticks, ytick_labels)\n",
    "    ax.invert_yaxis()\n",
    "    if title:\n",
    "        ax.set_title(title)"
   ]
  },
  {
   "cell_type": "code",
   "execution_count": null,
   "id": "63d1238a",
   "metadata": {},
   "outputs": [],
   "source": [
    "def quantile_spatial_plot(\n",
    "    da, month, cmap_type, lat_bounds=None, lon_bounds=None, levels=None,\n",
    "):\n",
    "    \"\"\"Spatial plot of the 10th, 50th and 90th percentile\"\"\"\n",
    "    \n",
    "    da_selection = da.sel({'quantiles': [.1, .5, .9], 'month': month}, method='nearest')\n",
    "    if lat_bounds:\n",
    "        lat_min, lat_max = lat_bounds\n",
    "        da_selection = da_selection.sel(lat=slice(lat_min, lat_max))\n",
    "    if lon_bounds:\n",
    "        lon_min, lon_max = lon_bounds\n",
    "        da_selection = da_selection.sel(lon=slice(lon_min, lon_max))\n",
    "        \n",
    "    cmap = plot_config[f'{cmap_type}_cmap']\n",
    "    kwargs = {}\n",
    "    if levels:\n",
    "        kwargs['levels'] = levels\n",
    "    elif cmap_type == 'diverging':\n",
    "        abs_max = np.max(np.abs(da_selection.values))\n",
    "        vmax = abs_max\n",
    "        vmin = -1 * abs_max\n",
    "        kwargs['vmax'] = vmax\n",
    "        kwargs['vmin'] = vmin\n",
    "        \n",
    "    p = da_selection.plot(\n",
    "        col='quantiles',\n",
    "        transform=ccrs.PlateCarree(),\n",
    "        cmap=cmap,\n",
    "        figsize=[20, 5.5],\n",
    "        subplot_kws={'projection': ccrs.PlateCarree(),},\n",
    "        **kwargs,\n",
    "    )\n",
    "    for ax in p.axes.flat:\n",
    "        ax.coastlines()\n",
    "        ax.plot(example_lon, example_lat, 'go', zorder=5, transform=ccrs.PlateCarree())\n",
    "    plt.suptitle(calendar.month_name[month])\n",
    "    plt.show()"
   ]
  },
  {
   "cell_type": "code",
   "execution_count": null,
   "id": "3575ef37",
   "metadata": {},
   "outputs": [],
   "source": [
    "if 'lat' in ds_adjust.dims:\n",
    "    quantile_spatial_plot(\n",
    "        ds_adjust['hist_q'],\n",
    "        example_month,\n",
    "        'regular',\n",
    "        levels=plot_config['general_levels'],\n",
    "        lat_bounds=[lat_min_bc, lat_max_bc],\n",
    "        lon_bounds=[lon_min_bc, lon_max_bc],\n",
    "    )"
   ]
  },
  {
   "cell_type": "code",
   "execution_count": null,
   "id": "75db1d9a",
   "metadata": {},
   "outputs": [],
   "source": [
    "fig = plt.figure(figsize=[20, 17])\n",
    "ax1 = fig.add_subplot(311)\n",
    "ax2 = fig.add_subplot(312)\n",
    "ax3 = fig.add_subplot(313)\n",
    "\n",
    "quantile_month_plot(\n",
    "    ds_adjust['ref_q'],\n",
    "    ax1,\n",
    "    'regular',\n",
    "    levels=plot_config['general_levels'],\n",
    "    title='AGCD (1980-1999)',\n",
    "    extend='both',\n",
    ")\n",
    "\n",
    "quantile_month_plot(\n",
    "    ds_adjust['hist_q'],\n",
    "    ax2,\n",
    "    'regular',\n",
    "    levels=plot_config['general_levels'],\n",
    "    title='historical (1980-1999)',\n",
    "    extend='both',\n",
    ")\n",
    "\n",
    "quantile_month_plot(\n",
    "    target_q[model_var],\n",
    "    ax3,\n",
    "    'regular',\n",
    "    levels=plot_config['general_levels'],\n",
    "    title='historical (2000-2019)',\n",
    "    extend='both',\n",
    ")\n",
    "\n",
    "plt.show()"
   ]
  },
  {
   "cell_type": "code",
   "execution_count": null,
   "id": "7a27ef11",
   "metadata": {},
   "outputs": [],
   "source": [
    "fig = plt.figure(figsize=[10, 6])\n",
    "\n",
    "bins = np.arange(-5, 150, 1)    \n",
    "\n",
    "da_obs_training.plot.hist(\n",
    "    bins=bins,\n",
    "    density=True,\n",
    "    label='AGCD (1980-1999)',\n",
    "    facecolor='tab:blue',\n",
    "    alpha=0.5,\n",
    "    rwidth=0.9,\n",
    ")\n",
    "\n",
    "da_model_training.plot.hist(\n",
    "    bins=bins,\n",
    "    density=True,\n",
    "    label='historical (1980-1999)',\n",
    "    facecolor='tab:green',\n",
    "    alpha=0.5,\n",
    "    rwidth=0.9,\n",
    ")\n",
    "\n",
    "plt.ylabel('probability')\n",
    "plt.xlim(-5, 20)\n",
    "plt.suptitle('Training period')\n",
    "plt.legend()\n",
    "plt.show()"
   ]
  },
  {
   "cell_type": "code",
   "execution_count": null,
   "id": "48d8ec6a",
   "metadata": {},
   "outputs": [],
   "source": [
    "da_model_training.values.mean()"
   ]
  },
  {
   "cell_type": "code",
   "execution_count": null,
   "id": "c2870081",
   "metadata": {},
   "outputs": [],
   "source": [
    "da_obs_training.values.mean()"
   ]
  },
  {
   "cell_type": "code",
   "execution_count": null,
   "id": "c7fbdf45",
   "metadata": {},
   "outputs": [],
   "source": [
    "fig = plt.figure(figsize=[10, 6])\n",
    "\n",
    "bins = np.arange(-5, 150, 1)    \n",
    "\n",
    "da_obs_assessment.plot.hist(\n",
    "    bins=bins,\n",
    "    density=True,\n",
    "    label='AGCD (2000-2019)',\n",
    "    facecolor='tab:blue',\n",
    "    alpha=0.5,\n",
    "    rwidth=0.9,\n",
    ")\n",
    "\n",
    "da_model_assessment.plot.hist(\n",
    "    bins=bins,\n",
    "    density=True,\n",
    "    label='historical (2000-2019)',\n",
    "    facecolor='tab:green',\n",
    "    alpha=0.5,\n",
    "    rwidth=0.9,\n",
    ")\n",
    "plt.ylabel('probability')\n",
    "plt.xlim(-5, 20)\n",
    "plt.suptitle('Assessment period')\n",
    "plt.legend()\n",
    "plt.show()"
   ]
  },
  {
   "cell_type": "code",
   "execution_count": null,
   "id": "3068d9a4",
   "metadata": {},
   "outputs": [],
   "source": [
    "fig = plt.figure(figsize=[10, 6])\n",
    "\n",
    "bins = np.arange(-5, 150, 1)    \n",
    "\n",
    "da_obs_assessment.plot.hist(\n",
    "    bins=bins,\n",
    "    density=True,\n",
    "    label='AGCD (2000-2019)',\n",
    "    facecolor='tab:blue',\n",
    "    alpha=0.5,\n",
    "    rwidth=0.9,\n",
    ")\n",
    "\n",
    "da_bc.plot.hist(\n",
    "    bins=bins,\n",
    "    density=True,\n",
    "    label='bias corrected historical (2000-2019)',\n",
    "    facecolor='tab:green',\n",
    "    alpha=0.5,\n",
    "    rwidth=0.9,\n",
    ")\n",
    "plt.ylabel('probability')\n",
    "plt.xlim(-5, 20)\n",
    "plt.legend()\n",
    "plt.suptitle('Assessment period')\n",
    "plt.show()"
   ]
  },
  {
   "cell_type": "code",
   "execution_count": null,
   "id": "c3fff242",
   "metadata": {},
   "outputs": [],
   "source": [
    "if 'lat' in ds_adjust.dims:\n",
    "    quantile_spatial_plot(\n",
    "        ds_adjust['af'],\n",
    "        example_month,\n",
    "        'diverging',\n",
    "        levels=plot_config['af_levels'],\n",
    "        lat_bounds=[lat_min_bc, lat_max_bc],\n",
    "        lon_bounds=[lon_min_bc, lon_max_bc],\n",
    "    )"
   ]
  },
  {
   "cell_type": "code",
   "execution_count": null,
   "id": "e18da685",
   "metadata": {},
   "outputs": [],
   "source": [
    "fig = plt.figure(figsize=[12, 5])\n",
    "ax1 = fig.add_subplot(111)\n",
    "\n",
    "quantile_month_plot(\n",
    "    ds_adjust['af'],\n",
    "    ax1,\n",
    "    'diverging',\n",
    "    levels=plot_config['af_levels'],\n",
    "    title='adjustment factors'\n",
    ")\n",
    "\n",
    "plt.show()"
   ]
  },
  {
   "cell_type": "code",
   "execution_count": null,
   "id": "ba741488",
   "metadata": {},
   "outputs": [],
   "source": [
    "model_training_clim = ds_model_training[model_var].mean('time', keep_attrs=True)\n",
    "obs_training_clim = ds_obs_training[obs_var].mean('time', keep_attrs=True)\n",
    "model_assessment_clim = ds_model_assessment[model_var].mean('time', keep_attrs=True)\n",
    "obs_assessment_clim = ds_obs_assessment[obs_var].mean('time', keep_attrs=True)\n",
    "bc_clim = ds_bc[model_var].mean('time', keep_attrs=True)"
   ]
  },
  {
   "cell_type": "code",
   "execution_count": null,
   "id": "a901dc4b",
   "metadata": {},
   "outputs": [],
   "source": [
    "model_training_clim['lat'] = bc_clim['lat']\n",
    "model_training_clim['lon'] = bc_clim['lon']\n",
    "\n",
    "obs_training_clim['lat'] = bc_clim['lat']\n",
    "obs_training_clim['lon'] = bc_clim['lon']\n",
    "\n",
    "model_assessment_clim['lat'] = bc_clim['lat']\n",
    "model_assessment_clim['lon'] = bc_clim['lon']\n",
    "\n",
    "obs_assessment_clim['lat'] = bc_clim['lat']\n",
    "obs_assessment_clim['lon'] = bc_clim['lon']"
   ]
  },
  {
   "cell_type": "code",
   "execution_count": null,
   "id": "44bab3d1",
   "metadata": {},
   "outputs": [],
   "source": [
    "training_mean_bias = model_training_clim - obs_training_clim\n",
    "training_mean_bias = training_mean_bias.compute()"
   ]
  },
  {
   "cell_type": "code",
   "execution_count": null,
   "id": "7c4401a7",
   "metadata": {},
   "outputs": [],
   "source": [
    "fig = plt.figure(figsize=[24, 6])\n",
    "\n",
    "ax1 = fig.add_subplot(131, projection=ccrs.PlateCarree())\n",
    "model_training_clim.plot(\n",
    "    ax=ax1,\n",
    "    transform=ccrs.PlateCarree(),\n",
    "    cmap=plot_config['regular_cmap'],\n",
    "    levels=plot_config['general_levels'],\n",
    "    extend='both',\n",
    "    cbar_kwargs={'label': 'daily minimum temperature (C)'}\n",
    ")\n",
    "ax1.set_title('historical (1980-1999)')\n",
    "\n",
    "ax2 = fig.add_subplot(132, projection=ccrs.PlateCarree())\n",
    "obs_training_clim.plot(\n",
    "    ax=ax2,\n",
    "    transform=ccrs.PlateCarree(),\n",
    "    cmap=plot_config['regular_cmap'],\n",
    "    levels=plot_config['general_levels'],\n",
    "    extend='both',\n",
    "    cbar_kwargs={'label': 'daily minimum temperature (C)'}\n",
    ")\n",
    "ax2.set_title('AGCD (1980-1999)')\n",
    "\n",
    "ax3 = fig.add_subplot(133, projection=ccrs.PlateCarree())\n",
    "training_mean_bias.plot(\n",
    "    ax=ax3,\n",
    "    transform=ccrs.PlateCarree(),\n",
    "    cmap=plot_config['diverging_cmap'],\n",
    "    levels=[-2.5, -2.0, -1.5, -1, -0.5, 0, 0.5, 1, 1.5, 2.0, 2.5],\n",
    "    extend='both',\n",
    "    cbar_kwargs={'label': 'daily minimum temperature (C)'}\n",
    ")\n",
    "ax3.set_title('Difference (historical - AGCD)')\n",
    "\n",
    "for ax in [ax1, ax2, ax3]:\n",
    "    ax.coastlines()\n",
    "    ax.plot(example_lon, example_lat, 'go', zorder=5, transform=ccrs.PlateCarree())\n",
    "xmin, xmax = ax3.get_xlim()\n",
    "ymin, ymax = ax3.get_ylim()\n",
    "ax1.set_extent([xmin, xmax, ymin, ymax], crs=ccrs.PlateCarree())\n",
    "ax2.set_extent([xmin, xmax, ymin, ymax], crs=ccrs.PlateCarree())\n",
    "plt.suptitle('Bias in annual mean daily minimum temperature (training period)')\n",
    "plt.show()"
   ]
  },
  {
   "cell_type": "code",
   "execution_count": null,
   "id": "423029ca",
   "metadata": {},
   "outputs": [],
   "source": [
    "assessment_mean_bias = model_assessment_clim - obs_assessment_clim\n",
    "assessment_mean_bias = assessment_mean_bias.compute()"
   ]
  },
  {
   "cell_type": "code",
   "execution_count": null,
   "id": "e0db5536",
   "metadata": {},
   "outputs": [],
   "source": [
    "fig = plt.figure(figsize=[24, 6])\n",
    "\n",
    "ax1 = fig.add_subplot(131, projection=ccrs.PlateCarree())\n",
    "model_assessment_clim.plot(\n",
    "    ax=ax1,\n",
    "    transform=ccrs.PlateCarree(),\n",
    "    cmap=plot_config['regular_cmap'],\n",
    "    levels=plot_config['general_levels'],\n",
    "    extend='both',\n",
    "    cbar_kwargs={'label': 'daily minimum temperature (C)'}\n",
    ")\n",
    "ax1.set_title('historical (2000-2019)')\n",
    "\n",
    "ax2 = fig.add_subplot(132, projection=ccrs.PlateCarree())\n",
    "obs_assessment_clim.plot(\n",
    "    ax=ax2,\n",
    "    transform=ccrs.PlateCarree(),\n",
    "    cmap=plot_config['regular_cmap'],\n",
    "    levels=plot_config['general_levels'],\n",
    "    extend='both',\n",
    "    cbar_kwargs={'label': 'daily minimum temperature (C)'}\n",
    ")\n",
    "ax2.set_title('AGCD (2000-2019)')\n",
    "\n",
    "ax3 = fig.add_subplot(133, projection=ccrs.PlateCarree())\n",
    "assessment_mean_bias.plot(\n",
    "    ax=ax3,\n",
    "    transform=ccrs.PlateCarree(),\n",
    "    cmap=plot_config['diverging_cmap'],\n",
    "    levels=[-2.5, -2.0, -1.5, -1, -0.5, 0, 0.5, 1, 1.5, 2.0, 2.5],\n",
    "    extend='both',\n",
    "    cbar_kwargs={'label': 'daily minimum temperature (C)'}\n",
    ")\n",
    "ax3.set_title('Difference (historical - AGCD)')\n",
    "\n",
    "for ax in [ax1, ax2, ax3]:\n",
    "    ax.coastlines()\n",
    "    ax.plot(example_lon, example_lat, 'go', zorder=5, transform=ccrs.PlateCarree())\n",
    "xmin, xmax = ax3.get_xlim()\n",
    "ymin, ymax = ax3.get_ylim()\n",
    "ax1.set_extent([xmin, xmax, ymin, ymax], crs=ccrs.PlateCarree())\n",
    "ax2.set_extent([xmin, xmax, ymin, ymax], crs=ccrs.PlateCarree())\n",
    "plt.suptitle('Bias in annual mean daily minimum temperature (assessment period)')\n",
    "plt.show()"
   ]
  },
  {
   "cell_type": "code",
   "execution_count": null,
   "id": "d3639620",
   "metadata": {},
   "outputs": [],
   "source": [
    "bc_mean_bias = bc_clim - obs_assessment_clim\n",
    "bc_mean_bias = bc_mean_bias.compute()"
   ]
  },
  {
   "cell_type": "code",
   "execution_count": null,
   "id": "48f38850",
   "metadata": {},
   "outputs": [],
   "source": [
    "fig = plt.figure(figsize=[24, 6])\n",
    "\n",
    "ax1 = fig.add_subplot(131, projection=ccrs.PlateCarree())\n",
    "bc_clim.plot(\n",
    "    ax=ax1,\n",
    "    transform=ccrs.PlateCarree(),\n",
    "    cmap=plot_config['regular_cmap'],\n",
    "    levels=plot_config['general_levels'],\n",
    "    extend='both',\n",
    "    cbar_kwargs={'label': 'daily minimum temperature (C)'}\n",
    ")\n",
    "ax1.set_title('bias corrected historical (2000-2019)')\n",
    "\n",
    "ax2 = fig.add_subplot(132, projection=ccrs.PlateCarree())\n",
    "obs_assessment_clim.plot(\n",
    "    ax=ax2,\n",
    "    transform=ccrs.PlateCarree(),\n",
    "    cmap=plot_config['regular_cmap'],\n",
    "    levels=plot_config['general_levels'],\n",
    "    extend='both',\n",
    "    cbar_kwargs={'label': 'daily minimum temperature (C)'}\n",
    ")\n",
    "ax2.set_title('AGCD (2000-2019)')\n",
    "\n",
    "ax3 = fig.add_subplot(133, projection=ccrs.PlateCarree())\n",
    "bc_mean_bias.plot(\n",
    "    ax=ax3,\n",
    "    transform=ccrs.PlateCarree(),\n",
    "    cmap=plot_config['diverging_cmap'],\n",
    "    levels=[-2.5, -2.0, -1.5, -1, -0.5, 0, 0.5, 1, 1.5, 2.0, 2.5],\n",
    "    extend='both',\n",
    "    cbar_kwargs={'label': 'daily minimum temperature (C)'}\n",
    ")\n",
    "ax3.set_title('Difference (historical - AGCD)')\n",
    "\n",
    "for ax in [ax1, ax2, ax3]:\n",
    "    ax.coastlines()\n",
    "    ax.plot(example_lon, example_lat, 'go', zorder=5, transform=ccrs.PlateCarree())\n",
    "xmin, xmax = ax3.get_xlim()\n",
    "ymin, ymax = ax3.get_ylim()\n",
    "ax1.set_extent([xmin, xmax, ymin, ymax], crs=ccrs.PlateCarree())\n",
    "ax2.set_extent([xmin, xmax, ymin, ymax], crs=ccrs.PlateCarree())\n",
    "plt.suptitle('Bias in annual mean daily minimum temperature (assessment period)')\n",
    "plt.show()"
   ]
  },
  {
   "cell_type": "code",
   "execution_count": null,
   "id": "057f2525",
   "metadata": {},
   "outputs": [],
   "source": [
    "bc_improvement = np.fabs(bc_mean_bias) - np.fabs(assessment_mean_bias)"
   ]
  },
  {
   "cell_type": "code",
   "execution_count": null,
   "id": "e6b83093",
   "metadata": {},
   "outputs": [],
   "source": [
    "fig = plt.figure(figsize=[24, 6])\n",
    "\n",
    "ax1 = fig.add_subplot(131, projection=ccrs.PlateCarree())\n",
    "bc_mean_bias.plot(\n",
    "    ax=ax1,\n",
    "    transform=ccrs.PlateCarree(),\n",
    "    cmap=plot_config['diverging_cmap'],\n",
    "    levels=[-2.5, -2.0, -1.5, -1, -0.5, 0, 0.5, 1, 1.5, 2.0, 2.5],\n",
    "    extend='both',\n",
    "    cbar_kwargs={'label': 'daily minimum temperature (C)'}\n",
    ")\n",
    "ax1.set_title('bias corrected historical bias (2000-2019)')\n",
    "\n",
    "ax2 = fig.add_subplot(132, projection=ccrs.PlateCarree())\n",
    "assessment_mean_bias.plot(\n",
    "    ax=ax2,\n",
    "    transform=ccrs.PlateCarree(),\n",
    "    cmap=plot_config['diverging_cmap'],\n",
    "    levels=[-2.5, -2.0, -1.5, -1, -0.5, 0, 0.5, 1, 1.5, 2.0, 2.5],\n",
    "    extend='both',\n",
    "    cbar_kwargs={'label': 'daily minimum temperature (C)'}\n",
    ")\n",
    "ax2.set_title('historical bias (2000-2019)')\n",
    "\n",
    "ax3 = fig.add_subplot(133, projection=ccrs.PlateCarree())\n",
    "bc_improvement.plot(\n",
    "    ax=ax3,\n",
    "    transform=ccrs.PlateCarree(),\n",
    "    cmap=plot_config['diverging_cmap'],\n",
    "    levels=[-2.5, -2.0, -1.5, -1, -0.5, 0, 0.5, 1, 1.5, 2.0, 2.5],\n",
    "    extend='both',\n",
    "    cbar_kwargs={'label': 'daily minimum temperature (C)'}\n",
    ")\n",
    "ax3.set_title('Abs difference (bc - historical)')\n",
    "\n",
    "for ax in [ax1, ax2, ax3]:\n",
    "    ax.coastlines()\n",
    "    ax.plot(example_lon, example_lat, 'go', zorder=5, transform=ccrs.PlateCarree())\n",
    "xmin, xmax = ax3.get_xlim()\n",
    "ymin, ymax = ax3.get_ylim()\n",
    "ax1.set_extent([xmin, xmax, ymin, ymax], crs=ccrs.PlateCarree())\n",
    "ax2.set_extent([xmin, xmax, ymin, ymax], crs=ccrs.PlateCarree())\n",
    "plt.suptitle('Bias in annual mean daily minimum temperature (assessment period)')\n",
    "plt.show()"
   ]
  },
  {
   "cell_type": "code",
   "execution_count": null,
   "id": "291d0823",
   "metadata": {},
   "outputs": [],
   "source": []
  }
 ],
 "metadata": {
  "celltoolbar": "Tags",
  "kernelspec": {
   "display_name": "Python 3 (ipykernel)",
   "language": "python",
   "name": "python3"
  },
  "language_info": {
   "codemirror_mode": {
    "name": "ipython",
    "version": 3
   },
   "file_extension": ".py",
   "mimetype": "text/x-python",
   "name": "python",
   "nbconvert_exporter": "python",
   "pygments_lexer": "ipython3",
   "version": "3.10.4"
  },
  "papermill": {
   "default_parameters": {},
   "duration": 86.331863,
   "end_time": "2023-02-19T22:47:32.115512",
   "environment_variables": {},
   "exception": null,
   "input_path": "/g/data/wp00/shared_code/qqscale/example_validation/validation_qmba.ipynb",
   "output_path": "/g/data/wp00/shared_code/qqscale/example_validation/test_qmba.ipynb",
   "parameters": {
    "adjustment_file": "/g/data/wp00/users/dbi599/npcp/tmin-qm-additive-monthly-bias-vs-AGCD_AUS-15_CSIRO-BOM-ACCESS-CM2_historical_r4i1p1f1_BOM-BARPA-R_v1_day_198001-199912_AWAP.nc",
    "example_lat": -42.9,
    "example_lon": 147.3,
    "example_month": 5,
    "hist_files": "/g/data/tp28/ACS_DRS_v1_AWAP/CSIRO-BOM-ACCESS-CM2/historical/r4i1p1f1/BOM-BARPA-R/v1/day/tasmin/tasmin_AUS-15_CSIRO-BOM-ACCESS-CM2_historical_r4i1p1f1_BOM-BARPA-R_v1_day_198001-198012_AWAP.nc /g/data/tp28/ACS_DRS_v1_AWAP/CSIRO-BOM-ACCESS-CM2/historical/r4i1p1f1/BOM-BARPA-R/v1/day/tasmin/tasmin_AUS-15_CSIRO-BOM-ACCESS-CM2_historical_r4i1p1f1_BOM-BARPA-R_v1_day_198101-198112_AWAP.nc /g/data/tp28/ACS_DRS_v1_AWAP/CSIRO-BOM-ACCESS-CM2/historical/r4i1p1f1/BOM-BARPA-R/v1/day/tasmin/tasmin_AUS-15_CSIRO-BOM-ACCESS-CM2_historical_r4i1p1f1_BOM-BARPA-R_v1_day_198201-198212_AWAP.nc /g/data/tp28/ACS_DRS_v1_AWAP/CSIRO-BOM-ACCESS-CM2/historical/r4i1p1f1/BOM-BARPA-R/v1/day/tasmin/tasmin_AUS-15_CSIRO-BOM-ACCESS-CM2_historical_r4i1p1f1_BOM-BARPA-R_v1_day_198301-198312_AWAP.nc /g/data/tp28/ACS_DRS_v1_AWAP/CSIRO-BOM-ACCESS-CM2/historical/r4i1p1f1/BOM-BARPA-R/v1/day/tasmin/tasmin_AUS-15_CSIRO-BOM-ACCESS-CM2_historical_r4i1p1f1_BOM-BARPA-R_v1_day_198401-198412_AWAP.nc /g/data/tp28/ACS_DRS_v1_AWAP/CSIRO-BOM-ACCESS-CM2/historical/r4i1p1f1/BOM-BARPA-R/v1/day/tasmin/tasmin_AUS-15_CSIRO-BOM-ACCESS-CM2_historical_r4i1p1f1_BOM-BARPA-R_v1_day_198501-198512_AWAP.nc /g/data/tp28/ACS_DRS_v1_AWAP/CSIRO-BOM-ACCESS-CM2/historical/r4i1p1f1/BOM-BARPA-R/v1/day/tasmin/tasmin_AUS-15_CSIRO-BOM-ACCESS-CM2_historical_r4i1p1f1_BOM-BARPA-R_v1_day_198601-198612_AWAP.nc /g/data/tp28/ACS_DRS_v1_AWAP/CSIRO-BOM-ACCESS-CM2/historical/r4i1p1f1/BOM-BARPA-R/v1/day/tasmin/tasmin_AUS-15_CSIRO-BOM-ACCESS-CM2_historical_r4i1p1f1_BOM-BARPA-R_v1_day_198701-198712_AWAP.nc /g/data/tp28/ACS_DRS_v1_AWAP/CSIRO-BOM-ACCESS-CM2/historical/r4i1p1f1/BOM-BARPA-R/v1/day/tasmin/tasmin_AUS-15_CSIRO-BOM-ACCESS-CM2_historical_r4i1p1f1_BOM-BARPA-R_v1_day_198801-198812_AWAP.nc /g/data/tp28/ACS_DRS_v1_AWAP/CSIRO-BOM-ACCESS-CM2/historical/r4i1p1f1/BOM-BARPA-R/v1/day/tasmin/tasmin_AUS-15_CSIRO-BOM-ACCESS-CM2_historical_r4i1p1f1_BOM-BARPA-R_v1_day_198901-198912_AWAP.nc /g/data/tp28/ACS_DRS_v1_AWAP/CSIRO-BOM-ACCESS-CM2/historical/r4i1p1f1/BOM-BARPA-R/v1/day/tasmin/tasmin_AUS-15_CSIRO-BOM-ACCESS-CM2_historical_r4i1p1f1_BOM-BARPA-R_v1_day_199001-199012_AWAP.nc /g/data/tp28/ACS_DRS_v1_AWAP/CSIRO-BOM-ACCESS-CM2/historical/r4i1p1f1/BOM-BARPA-R/v1/day/tasmin/tasmin_AUS-15_CSIRO-BOM-ACCESS-CM2_historical_r4i1p1f1_BOM-BARPA-R_v1_day_199101-199112_AWAP.nc /g/data/tp28/ACS_DRS_v1_AWAP/CSIRO-BOM-ACCESS-CM2/historical/r4i1p1f1/BOM-BARPA-R/v1/day/tasmin/tasmin_AUS-15_CSIRO-BOM-ACCESS-CM2_historical_r4i1p1f1_BOM-BARPA-R_v1_day_199201-199212_AWAP.nc /g/data/tp28/ACS_DRS_v1_AWAP/CSIRO-BOM-ACCESS-CM2/historical/r4i1p1f1/BOM-BARPA-R/v1/day/tasmin/tasmin_AUS-15_CSIRO-BOM-ACCESS-CM2_historical_r4i1p1f1_BOM-BARPA-R_v1_day_199301-199312_AWAP.nc /g/data/tp28/ACS_DRS_v1_AWAP/CSIRO-BOM-ACCESS-CM2/historical/r4i1p1f1/BOM-BARPA-R/v1/day/tasmin/tasmin_AUS-15_CSIRO-BOM-ACCESS-CM2_historical_r4i1p1f1_BOM-BARPA-R_v1_day_199401-199412_AWAP.nc /g/data/tp28/ACS_DRS_v1_AWAP/CSIRO-BOM-ACCESS-CM2/historical/r4i1p1f1/BOM-BARPA-R/v1/day/tasmin/tasmin_AUS-15_CSIRO-BOM-ACCESS-CM2_historical_r4i1p1f1_BOM-BARPA-R_v1_day_199501-199512_AWAP.nc /g/data/tp28/ACS_DRS_v1_AWAP/CSIRO-BOM-ACCESS-CM2/historical/r4i1p1f1/BOM-BARPA-R/v1/day/tasmin/tasmin_AUS-15_CSIRO-BOM-ACCESS-CM2_historical_r4i1p1f1_BOM-BARPA-R_v1_day_199601-199612_AWAP.nc /g/data/tp28/ACS_DRS_v1_AWAP/CSIRO-BOM-ACCESS-CM2/historical/r4i1p1f1/BOM-BARPA-R/v1/day/tasmin/tasmin_AUS-15_CSIRO-BOM-ACCESS-CM2_historical_r4i1p1f1_BOM-BARPA-R_v1_day_199701-199712_AWAP.nc /g/data/tp28/ACS_DRS_v1_AWAP/CSIRO-BOM-ACCESS-CM2/historical/r4i1p1f1/BOM-BARPA-R/v1/day/tasmin/tasmin_AUS-15_CSIRO-BOM-ACCESS-CM2_historical_r4i1p1f1_BOM-BARPA-R_v1_day_199801-199812_AWAP.nc /g/data/tp28/ACS_DRS_v1_AWAP/CSIRO-BOM-ACCESS-CM2/historical/r4i1p1f1/BOM-BARPA-R/v1/day/tasmin/tasmin_AUS-15_CSIRO-BOM-ACCESS-CM2_historical_r4i1p1f1_BOM-BARPA-R_v1_day_199901-199912_AWAP.nc",
    "hist_time_bounds": "1980-01-01 1999-12-31",
    "hist_units": "K",
    "hist_var": "tasmin",
    "output_units": "C",
    "qq_file": "/g/data/wp00/users/dbi599/npcp/tmin_AUS-15_CSIRO-BOM-ACCESS-CM2_historical-ssp370_r4i1p1f1_BOM-BARPA-R_v1_day_200001-201912_AWAP_qmba-additive-monthly-AGCD-19800101-19991231.nc",
    "ref_files": "/g/data/xv83/agcd-csiro/tmin/daily/tmin_AGCD-CSIRO_r005_19100101-20220405_daily_space-chunked.zarr",
    "ref_time_bounds": "1980-01-01 1999-12-31",
    "ref_units": "C",
    "ref_var": "tmin",
    "target_files": "/g/data/tp28/ACS_DRS_v1_AWAP/CSIRO-BOM-ACCESS-CM2/historical/r4i1p1f1/BOM-BARPA-R/v1/day/tasmin/tasmin_AUS-15_CSIRO-BOM-ACCESS-CM2_historical_r4i1p1f1_BOM-BARPA-R_v1_day_200001-200012_AWAP.nc /g/data/tp28/ACS_DRS_v1_AWAP/CSIRO-BOM-ACCESS-CM2/historical/r4i1p1f1/BOM-BARPA-R/v1/day/tasmin/tasmin_AUS-15_CSIRO-BOM-ACCESS-CM2_historical_r4i1p1f1_BOM-BARPA-R_v1_day_200101-200112_AWAP.nc /g/data/tp28/ACS_DRS_v1_AWAP/CSIRO-BOM-ACCESS-CM2/historical/r4i1p1f1/BOM-BARPA-R/v1/day/tasmin/tasmin_AUS-15_CSIRO-BOM-ACCESS-CM2_historical_r4i1p1f1_BOM-BARPA-R_v1_day_200201-200212_AWAP.nc /g/data/tp28/ACS_DRS_v1_AWAP/CSIRO-BOM-ACCESS-CM2/historical/r4i1p1f1/BOM-BARPA-R/v1/day/tasmin/tasmin_AUS-15_CSIRO-BOM-ACCESS-CM2_historical_r4i1p1f1_BOM-BARPA-R_v1_day_200301-200312_AWAP.nc /g/data/tp28/ACS_DRS_v1_AWAP/CSIRO-BOM-ACCESS-CM2/historical/r4i1p1f1/BOM-BARPA-R/v1/day/tasmin/tasmin_AUS-15_CSIRO-BOM-ACCESS-CM2_historical_r4i1p1f1_BOM-BARPA-R_v1_day_200401-200412_AWAP.nc /g/data/tp28/ACS_DRS_v1_AWAP/CSIRO-BOM-ACCESS-CM2/historical/r4i1p1f1/BOM-BARPA-R/v1/day/tasmin/tasmin_AUS-15_CSIRO-BOM-ACCESS-CM2_historical_r4i1p1f1_BOM-BARPA-R_v1_day_200501-200512_AWAP.nc /g/data/tp28/ACS_DRS_v1_AWAP/CSIRO-BOM-ACCESS-CM2/historical/r4i1p1f1/BOM-BARPA-R/v1/day/tasmin/tasmin_AUS-15_CSIRO-BOM-ACCESS-CM2_historical_r4i1p1f1_BOM-BARPA-R_v1_day_200601-200612_AWAP.nc /g/data/tp28/ACS_DRS_v1_AWAP/CSIRO-BOM-ACCESS-CM2/historical/r4i1p1f1/BOM-BARPA-R/v1/day/tasmin/tasmin_AUS-15_CSIRO-BOM-ACCESS-CM2_historical_r4i1p1f1_BOM-BARPA-R_v1_day_200701-200712_AWAP.nc /g/data/tp28/ACS_DRS_v1_AWAP/CSIRO-BOM-ACCESS-CM2/historical/r4i1p1f1/BOM-BARPA-R/v1/day/tasmin/tasmin_AUS-15_CSIRO-BOM-ACCESS-CM2_historical_r4i1p1f1_BOM-BARPA-R_v1_day_200801-200812_AWAP.nc /g/data/tp28/ACS_DRS_v1_AWAP/CSIRO-BOM-ACCESS-CM2/historical/r4i1p1f1/BOM-BARPA-R/v1/day/tasmin/tasmin_AUS-15_CSIRO-BOM-ACCESS-CM2_historical_r4i1p1f1_BOM-BARPA-R_v1_day_200901-200912_AWAP.nc /g/data/tp28/ACS_DRS_v1_AWAP/CSIRO-BOM-ACCESS-CM2/historical/r4i1p1f1/BOM-BARPA-R/v1/day/tasmin/tasmin_AUS-15_CSIRO-BOM-ACCESS-CM2_historical_r4i1p1f1_BOM-BARPA-R_v1_day_201001-201012_AWAP.nc /g/data/tp28/ACS_DRS_v1_AWAP/CSIRO-BOM-ACCESS-CM2/historical/r4i1p1f1/BOM-BARPA-R/v1/day/tasmin/tasmin_AUS-15_CSIRO-BOM-ACCESS-CM2_historical_r4i1p1f1_BOM-BARPA-R_v1_day_201101-201112_AWAP.nc /g/data/tp28/ACS_DRS_v1_AWAP/CSIRO-BOM-ACCESS-CM2/historical/r4i1p1f1/BOM-BARPA-R/v1/day/tasmin/tasmin_AUS-15_CSIRO-BOM-ACCESS-CM2_historical_r4i1p1f1_BOM-BARPA-R_v1_day_201201-201212_AWAP.nc /g/data/tp28/ACS_DRS_v1_AWAP/CSIRO-BOM-ACCESS-CM2/historical/r4i1p1f1/BOM-BARPA-R/v1/day/tasmin/tasmin_AUS-15_CSIRO-BOM-ACCESS-CM2_historical_r4i1p1f1_BOM-BARPA-R_v1_day_201301-201312_AWAP.nc /g/data/tp28/ACS_DRS_v1_AWAP/CSIRO-BOM-ACCESS-CM2/historical/r4i1p1f1/BOM-BARPA-R/v1/day/tasmin/tasmin_AUS-15_CSIRO-BOM-ACCESS-CM2_historical_r4i1p1f1_BOM-BARPA-R_v1_day_201401-201412_AWAP.nc /g/data/tp28/ACS_DRS_v1_AWAP/CSIRO-BOM-ACCESS-CM2/ssp370/r4i1p1f1/BOM-BARPA-R/v1/day/tasmin/tasmin_AUS-15_CSIRO-BOM-ACCESS-CM2_ssp370_r4i1p1f1_BOM-BARPA-R_v1_day_201501-201512_AWAP.nc /g/data/tp28/ACS_DRS_v1_AWAP/CSIRO-BOM-ACCESS-CM2/ssp370/r4i1p1f1/BOM-BARPA-R/v1/day/tasmin/tasmin_AUS-15_CSIRO-BOM-ACCESS-CM2_ssp370_r4i1p1f1_BOM-BARPA-R_v1_day_201601-201612_AWAP.nc /g/data/tp28/ACS_DRS_v1_AWAP/CSIRO-BOM-ACCESS-CM2/ssp370/r4i1p1f1/BOM-BARPA-R/v1/day/tasmin/tasmin_AUS-15_CSIRO-BOM-ACCESS-CM2_ssp370_r4i1p1f1_BOM-BARPA-R_v1_day_201701-201712_AWAP.nc /g/data/tp28/ACS_DRS_v1_AWAP/CSIRO-BOM-ACCESS-CM2/ssp370/r4i1p1f1/BOM-BARPA-R/v1/day/tasmin/tasmin_AUS-15_CSIRO-BOM-ACCESS-CM2_ssp370_r4i1p1f1_BOM-BARPA-R_v1_day_201801-201812_AWAP.nc /g/data/tp28/ACS_DRS_v1_AWAP/CSIRO-BOM-ACCESS-CM2/ssp370/r4i1p1f1/BOM-BARPA-R/v1/day/tasmin/tasmin_AUS-15_CSIRO-BOM-ACCESS-CM2_ssp370_r4i1p1f1_BOM-BARPA-R_v1_day_201901-201912_AWAP.nc",
    "target_q_file": "/g/data/wp00/users/dbi599/npcp/tasmin-quantiles_AUS-15_CSIRO-BOM-ACCESS-CM2_historical-ssp370_r4i1p1f1_BOM-BARPA-R_v1_day_200001-201912_AWAP.nc",
    "target_time_bounds": "2000-01-01 2019-12-31",
    "target_units": "K",
    "target_var": "tasmin"
   },
   "start_time": "2023-02-19T22:46:05.783649",
   "version": "2.3.4"
  }
 },
 "nbformat": 4,
 "nbformat_minor": 5
}
