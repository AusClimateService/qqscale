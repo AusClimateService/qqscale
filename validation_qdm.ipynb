{
 "cells": [
  {
   "cell_type": "markdown",
   "id": "87eda6bf",
   "metadata": {},
   "source": [
    "# Validation for quantile delta change "
   ]
  },
  {
   "cell_type": "code",
   "execution_count": null,
   "id": "824492d7",
   "metadata": {},
   "outputs": [],
   "source": [
    "import glob\n",
    "import calendar\n",
    "import sys\n",
    "import gc\n",
    "\n",
    "import xarray as xr\n",
    "from xclim import sdba\n",
    "import matplotlib.pyplot as plt\n",
    "import numpy as np\n",
    "import cartopy.crs as ccrs\n",
    "import xesmf as xe\n",
    "import dask.diagnostics\n",
    "import cmdline_provenance as cmdprov\n",
    "import dask\n",
    "import cmocean\n",
    "import seaborn as sns\n",
    "import pandas as pd\n",
    "\n",
    "sys.path.append('/g/data/wp00/shared_code/qqscale')\n",
    "import utils"
   ]
  },
  {
   "cell_type": "code",
   "execution_count": null,
   "id": "acd2d344",
   "metadata": {},
   "outputs": [],
   "source": [
    "dask.diagnostics.ProgressBar().register()"
   ]
  },
  {
   "cell_type": "code",
   "execution_count": null,
   "id": "1b5bfb53",
   "metadata": {
    "tags": [
     "parameters"
    ]
   },
   "outputs": [],
   "source": [
    "# Parameters\n",
    "example_lat = -42.9\n",
    "example_lon = 147.3\n",
    "example_month = 6"
   ]
  },
  {
   "cell_type": "code",
   "execution_count": null,
   "id": "adc2ba71",
   "metadata": {},
   "outputs": [],
   "source": [
    "# Required parameters\n",
    "assert 'scaling' in locals(), \"Must provide the scaling method (option -p scaling {name})\"\n",
    "assert 'hist_var' in locals(), \"Must provide an historical variable name (option -p hist_var {name})\"\n",
    "assert 'ref_var' in locals(), \"Must provide a reference variable name (option -p ref_var {name})\"\n",
    "assert 'target_var' in locals(), \"Must provide a target variable name (option -p target_var {name})\"\n",
    "assert 'hist_units' in locals(), \"Must provide historical units (option -p hist_units {units})\"\n",
    "assert 'ref_units' in locals(), \"Must provide reference units (option -p ref_units {units})\"\n",
    "assert 'target_units' in locals(), \"Must provide target units (option -p target_units {units})\"\n",
    "assert 'output_units' in locals(), \"Must provide output units (option -p output_units {units})\"\n",
    "assert 'adjustment_file' in locals(), \"Must provide an adjustment factors file (option -p adjustment_file {file path})\"\n",
    "assert 'hist_files' in locals(), \"\"\"Must provide historical data files (option -p hist_files {\"file paths\"})\"\"\"\n",
    "assert 'ref_files' in locals(), \"\"\"Must provide reference data files (option -p ref_files {\"file paths\"})\"\"\"\n",
    "assert 'target_files' in locals(), \"\"\"Must provide target data files (option -p target_files {\"file paths\"})\"\"\"\n",
    "assert 'target_q_file' in locals(), \"\"\"Must provide target data files (option -p target_files {\"file paths\"})\"\"\"\n",
    "assert 'qq_file' in locals(), \"Must provide an qq-scaled data file (option -p qq_file {file path})\"\n",
    "assert 'hist_time_bounds' in locals(), \"\"\"Must provide time bounds for historical data (option -p hist_time_bounds {\"YYYY-MM-DD YYYY-MM-DD\"})\"\"\"\n",
    "assert 'ref_time_bounds' in locals(), \"\"\"Must provide time bounds for reference data (option -p ref_time_bounds {\"YYYY-MM-DD YYYY-MM-DD\"})\"\"\"\n",
    "assert 'target_time_bounds' in locals(), \"\"\"Must provide time bounds for target data (option -p target_time_bounds {\"YYYY-MM-DD YYYY-MM-DD\"})\"\"\""
   ]
  },
  {
   "cell_type": "code",
   "execution_count": null,
   "id": "491505bb",
   "metadata": {},
   "outputs": [],
   "source": [
    "hist_files = hist_files.split()\n",
    "ref_files = ref_files.split()\n",
    "target_files = target_files.split()\n",
    "\n",
    "hist_time_bounds = hist_time_bounds.split()\n",
    "ref_time_bounds = ref_time_bounds.split()\n",
    "target_time_bounds = target_time_bounds.split()"
   ]
  },
  {
   "cell_type": "code",
   "execution_count": null,
   "id": "e78da090",
   "metadata": {},
   "outputs": [],
   "source": [
    "point_selection = {'lat': example_lat, 'lon': example_lon}"
   ]
  },
  {
   "cell_type": "code",
   "execution_count": null,
   "id": "704dcf44",
   "metadata": {},
   "outputs": [],
   "source": [
    "plot_config = {}\n",
    "if hist_var == 'tasmin':\n",
    "    plot_config['regular_cmap'] = cmocean.cm.thermal\n",
    "    plot_config['diverging_cmap'] = 'RdBu_r'\n",
    "    plot_config['general_levels'] = [-1, 0.5, 2, 3.5, 5, 6.5, 8, 9.5, 11, 12.5, 14, 15.5, 17, 18.5, 20, 21.5]\n",
    "    plot_config['af_levels'] = None\n",
    "    plot_config['difference_levels'] = [0.6, 0.8, 1.0, 1.2, 1.4, 1.6, 1.8, 2.0]\n",
    "elif hist_var == 'tasmax':\n",
    "    plot_config['regular_cmap'] = cmocean.cm.thermal\n",
    "    plot_config['diverging_cmap'] = 'RdBu_r'\n",
    "    plot_config['general_levels'] = [5, 7.5, 10, 12.5, 15, 17.5, 20, 22.5, 25, 27.5, 30, 32.5, 35]\n",
    "    plot_config['af_levels'] = None\n",
    "    plot_config['difference_levels'] = [0.6, 0.8, 1.0, 1.2, 1.4, 1.6, 1.8, 2.0, 2.2]\n",
    "elif hist_var == 'pr':\n",
    "    plot_config['regular_cmap'] = cmocean.cm.rain\n",
    "    plot_config['diverging_cmap'] = 'BrBG'\n",
    "    plot_config['general_levels'] = [0, 0.01, 10, 20, 30, 40, 50, 60, 70, 80, 90]\n",
    "    plot_config['af_levels'] = [0.125, 0.25, 0.5, 0.67, 0.8, 1, 1.25, 1.5, 2, 4, 8]\n",
    "    plot_config['difference_levels'] = [-0.55, -0.45, -0.35, -0.25, -0.15, -0.05, 0.05, 0.15, 0.25, 0.35, 0.45, 0.55]\n",
    "else:\n",
    "    raise ValueError(f'No plotting configuration defined for {hist_var}')"
   ]
  },
  {
   "cell_type": "markdown",
   "id": "f1e34fbc",
   "metadata": {},
   "source": [
    "## Read data"
   ]
  },
  {
   "cell_type": "code",
   "execution_count": null,
   "id": "b0ad9850",
   "metadata": {},
   "outputs": [],
   "source": [
    "ds_adjust = xr.open_dataset(adjustment_file)"
   ]
  },
  {
   "cell_type": "code",
   "execution_count": null,
   "id": "12689618",
   "metadata": {},
   "outputs": [],
   "source": [
    "ds_hist = utils.read_data(\n",
    "    hist_files,\n",
    "    hist_var,\n",
    "    time_bounds=hist_time_bounds,\n",
    "    input_units=hist_units,\n",
    "    output_units=output_units,\n",
    ")\n",
    "ds_hist[hist_var]"
   ]
  },
  {
   "cell_type": "code",
   "execution_count": null,
   "id": "317318a5",
   "metadata": {},
   "outputs": [],
   "source": [
    "da_hist_point = ds_hist[hist_var].sel(point_selection, method='nearest')\n",
    "hist_q_point_annual = utils.get_quantiles(da_hist_point, ds_adjust['quantiles'].data, timescale='annual')\n",
    "da_hist_point_month = da_hist_point[da_hist_point['time'].dt.month == example_month]"
   ]
  },
  {
   "cell_type": "code",
   "execution_count": null,
   "id": "b41f0d1b",
   "metadata": {},
   "outputs": [],
   "source": [
    "ds_ref = utils.read_data(\n",
    "    ref_files,\n",
    "    ref_var,\n",
    "    time_bounds=ref_time_bounds,\n",
    "    input_units=ref_units,\n",
    "    output_units=output_units,\n",
    ")\n",
    "ds_ref[ref_var]"
   ]
  },
  {
   "cell_type": "code",
   "execution_count": null,
   "id": "323519fe",
   "metadata": {},
   "outputs": [],
   "source": [
    "da_ref_point = ds_ref[ref_var].sel(point_selection, method='nearest')\n",
    "ref_q_point_annual = utils.get_quantiles(da_ref_point, ds_adjust['quantiles'].data, timescale='annual')\n",
    "da_ref_point_month = da_ref_point[da_ref_point['time'].dt.month == example_month]"
   ]
  },
  {
   "cell_type": "code",
   "execution_count": null,
   "id": "1ef68a7e",
   "metadata": {},
   "outputs": [],
   "source": [
    "ds_target = utils.read_data(\n",
    "    target_files,\n",
    "    target_var,\n",
    "    time_bounds=target_time_bounds,\n",
    "    input_units=target_units,\n",
    "    output_units=output_units\n",
    ")\n",
    "ds_target[target_var]"
   ]
  },
  {
   "cell_type": "code",
   "execution_count": null,
   "id": "5f74f486",
   "metadata": {},
   "outputs": [],
   "source": [
    "da_target_point = ds_target[target_var].sel(point_selection, method='nearest')\n",
    "target_q_point_annual = utils.get_quantiles(da_target_point, ds_adjust['quantiles'].data, timescale='annual')\n",
    "da_target_point_month = da_target_point[da_target_point['time'].dt.month == example_month]"
   ]
  },
  {
   "cell_type": "code",
   "execution_count": null,
   "id": "ec7ef222-2fe9-4179-8081-c07f21c16d56",
   "metadata": {},
   "outputs": [],
   "source": [
    "target_q = xr.open_dataset(target_q_file)\n",
    "target_q"
   ]
  },
  {
   "cell_type": "code",
   "execution_count": null,
   "id": "0325bdbc",
   "metadata": {},
   "outputs": [],
   "source": [
    "ds_qq = xr.open_dataset(qq_file)"
   ]
  },
  {
   "cell_type": "code",
   "execution_count": null,
   "id": "b3e6e741",
   "metadata": {},
   "outputs": [],
   "source": [
    "da_qq_point = ds_qq[target_var].sel(point_selection, method='nearest')\n",
    "qq_q_point_annual = utils.get_quantiles(da_qq_point, ds_adjust['quantiles'].data, timescale='annual')\n",
    "da_qq_point_month = da_qq_point[da_qq_point['time'].dt.month == example_month]"
   ]
  },
  {
   "cell_type": "code",
   "execution_count": null,
   "id": "0328fbc0",
   "metadata": {},
   "outputs": [],
   "source": [
    "lat_min_qq = ds_qq['lat'].values.min()\n",
    "lat_max_qq = ds_qq['lat'].values.max()\n",
    "lon_min_qq = ds_qq['lon'].values.min()\n",
    "lon_max_qq = ds_qq['lon'].values.max()"
   ]
  },
  {
   "cell_type": "code",
   "execution_count": null,
   "id": "fe7aea93",
   "metadata": {},
   "outputs": [],
   "source": [
    "print(lat_min_qq, lat_max_qq, lon_min_qq, lon_max_qq)"
   ]
  },
  {
   "cell_type": "markdown",
   "id": "45ee682b",
   "metadata": {},
   "source": [
    "## Quantile mapping"
   ]
  },
  {
   "cell_type": "code",
   "execution_count": null,
   "id": "bd9592d3",
   "metadata": {},
   "outputs": [],
   "source": [
    "def quantile_month_plot(da, ax, cmap_type, levels=None, extend='both', point=None, title=None):\n",
    "    \"\"\"Create two dimensional month/quantile plot\"\"\"\n",
    "    \n",
    "    assert cmap_type in ['regular', 'diverging']\n",
    "    \n",
    "    quantiles = da.sel(point_selection, method='nearest')\n",
    "    \n",
    "    cmap = plot_config[f'{cmap_type}_cmap']\n",
    "    kwargs = {}\n",
    "    if levels:\n",
    "        kwargs['levels'] = levels\n",
    "    elif cmap_type == 'diverging':\n",
    "        abs_max = np.max(np.abs(quantiles.values))\n",
    "        vmax = abs_max\n",
    "        vmin = -1 * abs_max\n",
    "        kwargs['vmax'] = vmax\n",
    "        kwargs['vmin'] = vmin\n",
    "    \n",
    "    quantiles.transpose('month', 'quantiles').plot(ax=ax, cmap=cmap, extend=extend, **kwargs)\n",
    "    \n",
    "    yticks = np.arange(1,13)\n",
    "    ytick_labels = [calendar.month_abbr[i] for i in yticks]\n",
    "    ax.set_yticks(yticks, ytick_labels)\n",
    "    ax.invert_yaxis()\n",
    "    if title:\n",
    "        ax.set_title(title)"
   ]
  },
  {
   "cell_type": "code",
   "execution_count": null,
   "id": "61445b57",
   "metadata": {},
   "outputs": [],
   "source": [
    "def quantile_spatial_plot(\n",
    "    da, month, cmap_type, lat_bounds=None, lon_bounds=None, levels=None,\n",
    "):\n",
    "    \"\"\"Spatial plot of the 10th, 50th and 90th percentile\"\"\"\n",
    "    \n",
    "    da_selection = da.sel({'quantiles': [.1, .5, .9], 'month': month}, method='nearest')\n",
    "    if lat_bounds:\n",
    "        lat_min, lat_max = lat_bounds\n",
    "        da_selection = da_selection.sel(lat=slice(lat_min, lat_max))\n",
    "    if lon_bounds:\n",
    "        lon_min, lon_max = lon_bounds\n",
    "        da_selection = da_selection.sel(lon=slice(lon_min, lon_max))\n",
    "        \n",
    "    cmap = plot_config[f'{cmap_type}_cmap']\n",
    "    kwargs = {}\n",
    "    if levels:\n",
    "        kwargs['levels'] = levels\n",
    "    elif cmap_type == 'diverging':\n",
    "        abs_max = np.max(np.abs(da_selection.values))\n",
    "        vmax = abs_max\n",
    "        vmin = -1 * abs_max\n",
    "        kwargs['vmax'] = vmax\n",
    "        kwargs['vmin'] = vmin\n",
    "        \n",
    "    p = da_selection.plot(\n",
    "        col='quantiles',\n",
    "        transform=ccrs.PlateCarree(),\n",
    "        cmap=cmap,\n",
    "        figsize=[20, 5.5],\n",
    "        subplot_kws={'projection': ccrs.PlateCarree(),},\n",
    "        **kwargs,\n",
    "    )\n",
    "    for ax in p.axes.flat:\n",
    "        ax.coastlines()\n",
    "        ax.plot(example_lon, example_lat, 'go', zorder=5, transform=ccrs.PlateCarree())\n",
    "    plt.suptitle(calendar.month_name[month])\n",
    "    plt.show()"
   ]
  },
  {
   "cell_type": "code",
   "execution_count": null,
   "id": "eec4f42e",
   "metadata": {},
   "outputs": [],
   "source": [
    "if 'lat' in ds_adjust.dims:\n",
    "    quantile_spatial_plot(\n",
    "        ds_adjust['hist_q'],\n",
    "        example_month,\n",
    "        'regular',\n",
    "        levels=plot_config['general_levels'],\n",
    "        lat_bounds=[lat_min_qq, lat_max_qq],\n",
    "        lon_bounds=[lon_min_qq, lon_max_qq],\n",
    "    )"
   ]
  },
  {
   "cell_type": "code",
   "execution_count": null,
   "id": "4339e721",
   "metadata": {},
   "outputs": [],
   "source": [
    "fig = plt.figure(figsize=[20, 17])\n",
    "ax1 = fig.add_subplot(311)\n",
    "ax2 = fig.add_subplot(312)\n",
    "ax3 = fig.add_subplot(313)\n",
    "\n",
    "quantile_month_plot(\n",
    "    ds_adjust['ref_q'],\n",
    "    ax1,\n",
    "    'regular',\n",
    "    levels=plot_config['general_levels'],\n",
    "    title='reference',\n",
    "    extend='max',\n",
    ")\n",
    "\n",
    "quantile_month_plot(\n",
    "    ds_adjust['hist_q'],\n",
    "    ax2,\n",
    "    'regular',\n",
    "    levels=plot_config['general_levels'],\n",
    "    title='historical',\n",
    "    extend='max',\n",
    ")\n",
    "\n",
    "quantile_month_plot(\n",
    "    target_q[target_var],\n",
    "    ax3,\n",
    "    'regular',\n",
    "    levels=plot_config['general_levels'],\n",
    "    title='target (obs)',\n",
    "    extend='max',\n",
    ")\n",
    "\n",
    "plt.show()"
   ]
  },
  {
   "cell_type": "code",
   "execution_count": null,
   "id": "dcfa0c82",
   "metadata": {},
   "outputs": [],
   "source": [
    "fig = plt.figure(figsize=[10, 6])\n",
    "\n",
    "bins = np.arange(0, 150, 1)\n",
    "\n",
    "da_target_point_month.plot.hist(\n",
    "    bins=bins,\n",
    "    density=True,\n",
    "    label='observations',\n",
    "    facecolor='tab:green',\n",
    "    alpha=0.5,\n",
    "    rwidth=0.9,\n",
    ")\n",
    "\n",
    "da_hist_point_month.plot.hist(\n",
    "    bins=bins,\n",
    "    density=True,\n",
    "    label='histotical data',\n",
    "    facecolor='tab:blue',\n",
    "    alpha=0.5,\n",
    "    rwidth=0.9,\n",
    ")\n",
    "plt.ylabel('probability')\n",
    "#plt.xlim(5, 25)\n",
    "plt.legend()\n",
    "plt.show()"
   ]
  },
  {
   "cell_type": "code",
   "execution_count": null,
   "id": "fcaa123f",
   "metadata": {},
   "outputs": [],
   "source": [
    "if 'lat' in ds_adjust.dims:\n",
    "    quantile_spatial_plot(\n",
    "        ds_adjust['af'],\n",
    "        example_month,\n",
    "        'diverging',\n",
    "        levels=plot_config['af_levels'],\n",
    "        lat_bounds=[lat_min_qq, lat_max_qq],\n",
    "        lon_bounds=[lon_min_qq, lon_max_qq],\n",
    "    )"
   ]
  },
  {
   "cell_type": "code",
   "execution_count": null,
   "id": "a9c67746",
   "metadata": {},
   "outputs": [],
   "source": [
    "fig = plt.figure(figsize=[12, 5])\n",
    "ax1 = fig.add_subplot(111)\n",
    "\n",
    "quantile_month_plot(\n",
    "    ds_adjust['af'],\n",
    "    ax1,\n",
    "    'diverging',\n",
    "    levels=plot_config['af_levels'],\n",
    "    title='adjustment factors'\n",
    ")\n",
    "\n",
    "plt.show()"
   ]
  },
  {
   "cell_type": "markdown",
   "id": "ae9170b8",
   "metadata": {},
   "source": [
    "## QQ-scaled data"
   ]
  },
  {
   "cell_type": "code",
   "execution_count": null,
   "id": "37c68c98",
   "metadata": {},
   "outputs": [],
   "source": [
    "model_sel = {'lat': slice(lat_min_qq, lat_max_qq), 'lon': slice(lon_min_qq, lon_max_qq)}"
   ]
  },
  {
   "cell_type": "code",
   "execution_count": null,
   "id": "f241a759",
   "metadata": {},
   "outputs": [],
   "source": [
    "hist_clim = ds_hist[hist_var].mean('time', keep_attrs=True)\n",
    "ref_clim = ds_ref[ref_var].mean('time', keep_attrs=True)\n",
    "target_clim = ds_target[target_var].mean('time', keep_attrs=True)\n",
    "qq_clim = ds_qq[target_var].mean('time', keep_attrs=True)"
   ]
  },
  {
   "cell_type": "code",
   "execution_count": null,
   "id": "60a591a3",
   "metadata": {},
   "outputs": [],
   "source": [
    "if scaling == 'additive':\n",
    "    ref_hist_mean_comparison = ref_clim - hist_clim\n",
    "elif scaling == 'multiplicative':\n",
    "    ref_hist_mean_comparison = (ref_clim / hist_clim) * 100\n",
    "ref_hist_mean_comparison = ref_hist_mean_comparison.compute()"
   ]
  },
  {
   "cell_type": "code",
   "execution_count": null,
   "id": "33951812",
   "metadata": {},
   "outputs": [],
   "source": [
    "if scaling == 'additive':\n",
    "    qq_obs_mean_comparison = qq_clim - target_clim\n",
    "elif scaling == 'multiplicative':\n",
    "    qq_obs_mean_comparison = (qq_clim / target_clim) * 100\n",
    "qq_obs_mean_comparison = qq_obs_mean_comparison.compute()"
   ]
  },
  {
   "cell_type": "code",
   "execution_count": null,
   "id": "17cfacab",
   "metadata": {},
   "outputs": [],
   "source": [
    "regridder = xe.Regridder(ref_hist_mean_comparison, qq_obs_mean_comparison, \"bilinear\")\n",
    "ref_hist_mean_comparison = regridder(ref_hist_mean_comparison)"
   ]
  },
  {
   "cell_type": "code",
   "execution_count": null,
   "id": "9cc3b343",
   "metadata": {},
   "outputs": [],
   "source": [
    "difference = qq_obs_mean_comparison - ref_hist_mean_comparison"
   ]
  },
  {
   "cell_type": "code",
   "execution_count": null,
   "id": "5e5ede18",
   "metadata": {},
   "outputs": [],
   "source": [
    "fig = plt.figure(figsize=[24, 6])\n",
    "\n",
    "ax1 = fig.add_subplot(131, projection=ccrs.PlateCarree())\n",
    "ref_hist_mean_comparison.plot(\n",
    "    ax=ax1,\n",
    "    transform=ccrs.PlateCarree(),\n",
    "    cmap=plot_config['diverging_cmap'],\n",
    "    levels=plot_config['difference_levels'],\n",
    "    extend='both'\n",
    ")\n",
    "ax1.set_title('ref - hist')\n",
    "\n",
    "ax2 = fig.add_subplot(132, projection=ccrs.PlateCarree())\n",
    "qq_obs_mean_comparison.plot(\n",
    "    ax=ax2,\n",
    "    transform=ccrs.PlateCarree(),\n",
    "    cmap=plot_config['diverging_cmap'],\n",
    "    levels=plot_config['difference_levels'],\n",
    "    extend='both'\n",
    ")\n",
    "ax2.set_title('QQ-scaled - original')\n",
    "\n",
    "ax3 = fig.add_subplot(133, projection=ccrs.PlateCarree())\n",
    "difference.plot(\n",
    "    ax=ax3,\n",
    "    transform=ccrs.PlateCarree(),\n",
    "    cmap=plot_config['diverging_cmap'],\n",
    "    levels=plot_config['difference_levels'],\n",
    "    extend='both'\n",
    ")\n",
    "ax3.set_title('Difference')\n",
    "\n",
    "for ax in [ax1, ax2, ax3]:\n",
    "    ax.coastlines()\n",
    "    ax.plot(example_lon, example_lat, 'go', zorder=5, transform=ccrs.PlateCarree())\n",
    "xmin, xmax = ax3.get_xlim()\n",
    "ymin, ymax = ax3.get_ylim()\n",
    "ax1.set_extent([xmin, xmax, ymin, ymax], crs=ccrs.PlateCarree())\n",
    "ax2.set_extent([xmin, xmax, ymin, ymax], crs=ccrs.PlateCarree())\n",
    "\n",
    "plt.show()"
   ]
  },
  {
   "cell_type": "code",
   "execution_count": null,
   "id": "b14f241a",
   "metadata": {},
   "outputs": [],
   "source": [
    "fig, ax = plt.subplots(figsize=[14, 7])\n",
    "da_hist_point.groupby(\"time.dayofyear\").mean().plot(label=\"historical\", color='tab:orange', linestyle=':')\n",
    "da_ref_point.groupby(\"time.dayofyear\").mean().plot(label=\"reference\", color='tab:orange')\n",
    "da_target_point.groupby(\"time.dayofyear\").mean().plot(label=\"original\", color='tab:red', linestyle=':')\n",
    "da_qq_point.groupby(\"time.dayofyear\").mean().plot(label=\"QQ-scaled\", color='tab:red')\n",
    "plt.legend()\n",
    "plt.title('Daily climatology')\n",
    "plt.show()"
   ]
  },
  {
   "cell_type": "code",
   "execution_count": null,
   "id": "24f4d338",
   "metadata": {},
   "outputs": [],
   "source": [
    "fig = plt.figure(figsize=[10, 6])\n",
    "\n",
    "bins = np.arange(0, 150, 1)\n",
    "    \n",
    "da_target_point.plot.hist(\n",
    "    bins=bins,\n",
    "    density=True,\n",
    "    label='observations',\n",
    "    facecolor='tab:blue',\n",
    "    alpha=0.5,\n",
    "    rwidth=0.9,\n",
    ")\n",
    "da_qq_point.plot.hist(\n",
    "    bins=bins,\n",
    "    density=True,\n",
    "    label='QQ-scaled data',\n",
    "    facecolor='tab:orange',\n",
    "    alpha=0.5,\n",
    "    rwidth=0.9,\n",
    ")\n",
    "plt.ylabel('probability')\n",
    "#plt.ylim(0, 0.005)\n",
    "#plt.xlim(5, 80)\n",
    "plt.legend()\n",
    "plt.show()"
   ]
  },
  {
   "cell_type": "code",
   "execution_count": null,
   "id": "1f401d98",
   "metadata": {},
   "outputs": [],
   "source": [
    "fig = plt.figure(figsize=[15, 5])\n",
    "ax1 = fig.add_subplot(122)\n",
    "ax2 = fig.add_subplot(121)\n",
    "\n",
    "obs_data = target_q_point_annual.values\n",
    "qq_data = qq_q_point_annual.values\n",
    "hist_data = hist_q_point_annual.values\n",
    "future_data = ref_q_point_annual.values\n",
    "quantiles = target_q_point_annual['quantiles'].data * 100\n",
    "    \n",
    "ax1.bar(quantiles, obs_data, alpha=0.5, label='observations')\n",
    "ax1.bar(quantiles, qq_data, alpha=0.5, label='qq-scaled data')\n",
    "ax2.bar(quantiles, hist_data, alpha=0.5, label='historical')\n",
    "ax2.bar(quantiles, future_data, alpha=0.5, label='ssp370')\n",
    "\n",
    "ylabel = f\"\"\"{da_target_point.attrs['long_name']} ({da_target_point.attrs['units']})\"\"\"\n",
    "\n",
    "ax1.set_xlim(0, 100)\n",
    "ax1.set_ylim(0, 37)\n",
    "ax1.grid()\n",
    "ax1.legend()\n",
    "ax1.set_xlabel('quantile')\n",
    "\n",
    "ax2.set_xlim(0, 100)\n",
    "ax2.set_ylim(0, 37)\n",
    "ax2.grid()\n",
    "ax2.legend()\n",
    "ax2.set_ylabel(ylabel)\n",
    "ax2.set_xlabel('quantile')\n",
    "\n",
    "plt.suptitle('annual quantiles')\n",
    "plt.show()"
   ]
  }
 ],
 "metadata": {
  "celltoolbar": "Tags",
  "kernelspec": {
   "display_name": "Python 3 (ipykernel)",
   "language": "python",
   "name": "python3"
  },
  "language_info": {
   "codemirror_mode": {
    "name": "ipython",
    "version": 3
   },
   "file_extension": ".py",
   "mimetype": "text/x-python",
   "name": "python",
   "nbconvert_exporter": "python",
   "pygments_lexer": "ipython3",
   "version": "3.10.4"
  }
 },
 "nbformat": 4,
 "nbformat_minor": 5
}
